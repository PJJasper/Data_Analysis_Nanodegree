{
 "cells": [
  {
   "cell_type": "markdown",
   "metadata": {},
   "source": [
    "#### Project Details\n",
    "Your tasks in this project are as follows:\n",
    "-  Data wrangling, which consists of:\n",
    "-  Gathering data\n",
    "-  Assessing data\n",
    "-  Cleaning data\n",
    "-  Storing, analyzing, and visualizing your wrangled data\n",
    "-  Reporting on 1) your data wrangling efforts and 2) your data analyses and visualizations"
   ]
  },
  {
   "cell_type": "code",
   "execution_count": 2,
   "metadata": {},
   "outputs": [],
   "source": [
    "import pandas as pd\n",
    "import numpy as np\n",
    "import tweepy\n",
    "import requests\n",
    "import os\n",
    "from io import StringIO\n",
    "import json"
   ]
  },
  {
   "cell_type": "markdown",
   "metadata": {},
   "source": [
    "### Step 1: Data Gathering\n",
    "Gather the three pieces of data:\n",
    "- The WeRateDogs Twitter archive (manually) - twitter-archive-enhanced.csv\n",
    "- The tweet image predictions (programmatically) - image_predictions.tsv\n",
    "- Additional data from the tweet using the Twitter API "
   ]
  },
  {
   "cell_type": "code",
   "execution_count": 3,
   "metadata": {},
   "outputs": [
    {
     "data": {
      "text/html": [
       "<div>\n",
       "<style scoped>\n",
       "    .dataframe tbody tr th:only-of-type {\n",
       "        vertical-align: middle;\n",
       "    }\n",
       "\n",
       "    .dataframe tbody tr th {\n",
       "        vertical-align: top;\n",
       "    }\n",
       "\n",
       "    .dataframe thead th {\n",
       "        text-align: right;\n",
       "    }\n",
       "</style>\n",
       "<table border=\"1\" class=\"dataframe\">\n",
       "  <thead>\n",
       "    <tr style=\"text-align: right;\">\n",
       "      <th></th>\n",
       "      <th>tweet_id</th>\n",
       "      <th>in_reply_to_status_id</th>\n",
       "      <th>in_reply_to_user_id</th>\n",
       "      <th>timestamp</th>\n",
       "      <th>source</th>\n",
       "      <th>text</th>\n",
       "      <th>retweeted_status_id</th>\n",
       "      <th>retweeted_status_user_id</th>\n",
       "      <th>retweeted_status_timestamp</th>\n",
       "      <th>expanded_urls</th>\n",
       "      <th>rating_numerator</th>\n",
       "      <th>rating_denominator</th>\n",
       "      <th>name</th>\n",
       "      <th>doggo</th>\n",
       "      <th>floofer</th>\n",
       "      <th>pupper</th>\n",
       "      <th>puppo</th>\n",
       "    </tr>\n",
       "  </thead>\n",
       "  <tbody>\n",
       "    <tr>\n",
       "      <th>0</th>\n",
       "      <td>892420643555336193</td>\n",
       "      <td>NaN</td>\n",
       "      <td>NaN</td>\n",
       "      <td>2017-08-01 16:23:56 +0000</td>\n",
       "      <td>&lt;a href=\"http://twitter.com/download/iphone\" r...</td>\n",
       "      <td>This is Phineas. He's a mystical boy. Only eve...</td>\n",
       "      <td>NaN</td>\n",
       "      <td>NaN</td>\n",
       "      <td>NaN</td>\n",
       "      <td>https://twitter.com/dog_rates/status/892420643...</td>\n",
       "      <td>13</td>\n",
       "      <td>10</td>\n",
       "      <td>Phineas</td>\n",
       "      <td>None</td>\n",
       "      <td>None</td>\n",
       "      <td>None</td>\n",
       "      <td>None</td>\n",
       "    </tr>\n",
       "    <tr>\n",
       "      <th>1</th>\n",
       "      <td>892177421306343426</td>\n",
       "      <td>NaN</td>\n",
       "      <td>NaN</td>\n",
       "      <td>2017-08-01 00:17:27 +0000</td>\n",
       "      <td>&lt;a href=\"http://twitter.com/download/iphone\" r...</td>\n",
       "      <td>This is Tilly. She's just checking pup on you....</td>\n",
       "      <td>NaN</td>\n",
       "      <td>NaN</td>\n",
       "      <td>NaN</td>\n",
       "      <td>https://twitter.com/dog_rates/status/892177421...</td>\n",
       "      <td>13</td>\n",
       "      <td>10</td>\n",
       "      <td>Tilly</td>\n",
       "      <td>None</td>\n",
       "      <td>None</td>\n",
       "      <td>None</td>\n",
       "      <td>None</td>\n",
       "    </tr>\n",
       "  </tbody>\n",
       "</table>\n",
       "</div>"
      ],
      "text/plain": [
       "             tweet_id  in_reply_to_status_id  in_reply_to_user_id  \\\n",
       "0  892420643555336193                    NaN                  NaN   \n",
       "1  892177421306343426                    NaN                  NaN   \n",
       "\n",
       "                   timestamp  \\\n",
       "0  2017-08-01 16:23:56 +0000   \n",
       "1  2017-08-01 00:17:27 +0000   \n",
       "\n",
       "                                              source  \\\n",
       "0  <a href=\"http://twitter.com/download/iphone\" r...   \n",
       "1  <a href=\"http://twitter.com/download/iphone\" r...   \n",
       "\n",
       "                                                text  retweeted_status_id  \\\n",
       "0  This is Phineas. He's a mystical boy. Only eve...                  NaN   \n",
       "1  This is Tilly. She's just checking pup on you....                  NaN   \n",
       "\n",
       "   retweeted_status_user_id retweeted_status_timestamp  \\\n",
       "0                       NaN                        NaN   \n",
       "1                       NaN                        NaN   \n",
       "\n",
       "                                       expanded_urls  rating_numerator  \\\n",
       "0  https://twitter.com/dog_rates/status/892420643...                13   \n",
       "1  https://twitter.com/dog_rates/status/892177421...                13   \n",
       "\n",
       "   rating_denominator     name doggo floofer pupper puppo  \n",
       "0                  10  Phineas  None    None   None  None  \n",
       "1                  10    Tilly  None    None   None  None  "
      ]
     },
     "execution_count": 3,
     "metadata": {},
     "output_type": "execute_result"
    }
   ],
   "source": [
    "# Get the first piece of data -  WeRateDogs Twitter archive - contains basic tweet data \n",
    "# for all 5000+ tweets. \n",
    "# The text column was used to extract rating, dog name, and dog \"stage\" \n",
    "#(doggo, floofer, pupper, and puppo) to make this Twitter archive \"enhanced.\" \n",
    "# The tweets have been filtered for tweets with ratings only (there are 2356).\n",
    "df_archive = pd.read_csv('twitter-archive-enhanced.csv')\n",
    "df_archive.head(2) #check it loaded correctly"
   ]
  },
  {
   "cell_type": "code",
   "execution_count": 4,
   "metadata": {},
   "outputs": [],
   "source": [
    "# Get the second piece of data - tweet image predictions\n",
    "# contains predictions of dog breed in each tweet according to a neural network. \n",
    "url = 'https://d17h27t6h515a5.cloudfront.net/topher/2017/August/599fd2ad_image-predictions/image-predictions.tsv'\n",
    "response = requests.get(url).text                      "
   ]
  },
  {
   "cell_type": "code",
   "execution_count": 5,
   "metadata": {},
   "outputs": [],
   "source": [
    "df_image_predictions = pd.read_csv(StringIO(response),sep='\\t')"
   ]
  },
  {
   "cell_type": "code",
   "execution_count": 6,
   "metadata": {},
   "outputs": [],
   "source": [
    "# write it out so I have a local copy of the file\n",
    "df_image_predictions.to_csv('image-predictions.tsv', index=False)"
   ]
  },
  {
   "cell_type": "code",
   "execution_count": 7,
   "metadata": {},
   "outputs": [
    {
     "data": {
      "text/html": [
       "<div>\n",
       "<style scoped>\n",
       "    .dataframe tbody tr th:only-of-type {\n",
       "        vertical-align: middle;\n",
       "    }\n",
       "\n",
       "    .dataframe tbody tr th {\n",
       "        vertical-align: top;\n",
       "    }\n",
       "\n",
       "    .dataframe thead th {\n",
       "        text-align: right;\n",
       "    }\n",
       "</style>\n",
       "<table border=\"1\" class=\"dataframe\">\n",
       "  <thead>\n",
       "    <tr style=\"text-align: right;\">\n",
       "      <th></th>\n",
       "      <th>tweet_id</th>\n",
       "      <th>jpg_url</th>\n",
       "      <th>img_num</th>\n",
       "      <th>p1</th>\n",
       "      <th>p1_conf</th>\n",
       "      <th>p1_dog</th>\n",
       "      <th>p2</th>\n",
       "      <th>p2_conf</th>\n",
       "      <th>p2_dog</th>\n",
       "      <th>p3</th>\n",
       "      <th>p3_conf</th>\n",
       "      <th>p3_dog</th>\n",
       "    </tr>\n",
       "  </thead>\n",
       "  <tbody>\n",
       "    <tr>\n",
       "      <th>0</th>\n",
       "      <td>666020888022790149</td>\n",
       "      <td>https://pbs.twimg.com/media/CT4udn0WwAA0aMy.jpg</td>\n",
       "      <td>1</td>\n",
       "      <td>Welsh_springer_spaniel</td>\n",
       "      <td>0.465074</td>\n",
       "      <td>True</td>\n",
       "      <td>collie</td>\n",
       "      <td>0.156665</td>\n",
       "      <td>True</td>\n",
       "      <td>Shetland_sheepdog</td>\n",
       "      <td>0.061428</td>\n",
       "      <td>True</td>\n",
       "    </tr>\n",
       "    <tr>\n",
       "      <th>1</th>\n",
       "      <td>666029285002620928</td>\n",
       "      <td>https://pbs.twimg.com/media/CT42GRgUYAA5iDo.jpg</td>\n",
       "      <td>1</td>\n",
       "      <td>redbone</td>\n",
       "      <td>0.506826</td>\n",
       "      <td>True</td>\n",
       "      <td>miniature_pinscher</td>\n",
       "      <td>0.074192</td>\n",
       "      <td>True</td>\n",
       "      <td>Rhodesian_ridgeback</td>\n",
       "      <td>0.072010</td>\n",
       "      <td>True</td>\n",
       "    </tr>\n",
       "  </tbody>\n",
       "</table>\n",
       "</div>"
      ],
      "text/plain": [
       "             tweet_id                                          jpg_url  \\\n",
       "0  666020888022790149  https://pbs.twimg.com/media/CT4udn0WwAA0aMy.jpg   \n",
       "1  666029285002620928  https://pbs.twimg.com/media/CT42GRgUYAA5iDo.jpg   \n",
       "\n",
       "   img_num                      p1   p1_conf  p1_dog                  p2  \\\n",
       "0        1  Welsh_springer_spaniel  0.465074    True              collie   \n",
       "1        1                 redbone  0.506826    True  miniature_pinscher   \n",
       "\n",
       "    p2_conf  p2_dog                   p3   p3_conf  p3_dog  \n",
       "0  0.156665    True    Shetland_sheepdog  0.061428    True  \n",
       "1  0.074192    True  Rhodesian_ridgeback  0.072010    True  "
      ]
     },
     "execution_count": 7,
     "metadata": {},
     "output_type": "execute_result"
    }
   ],
   "source": [
    "#Check it loaded correctly\n",
    "df_image_predictions.head(2) #Check it loaded correctly"
   ]
  },
  {
   "cell_type": "code",
   "execution_count": null,
   "metadata": {},
   "outputs": [],
   "source": [
    "# Get the final piece of data - additional data for the tweets using the API.\n",
    "\n",
    "# Using the tweet IDs in the WeRateDogs Twitter archive \n",
    "#    Query the Twitter API for each tweet's JSON data using Tweepy \n",
    "#    Write each tweet's entire set of JSON data to a file called tweet_json.txt file  \n",
    "#    Each tweet's JSON data should be written to its own line. \n",
    "#    Read this .txt file line by line into a pandas DataFrame with (min) tweet ID, \n",
    "# retweet count, and favorite count."
   ]
  },
  {
   "cell_type": "code",
   "execution_count": 6,
   "metadata": {},
   "outputs": [],
   "source": [
    "#I have saved my keys and tokens as envinronment variables so they are hidden.  \n",
    "\n",
    "consumer_key = os.environ.get('CONSUMER_KEY')\n",
    "consumer_secret = os.environ.get('CONSUMER_SECRET')\n",
    "access_token = os.environ.get('ACCESS_TOKEN')\n",
    "access_secret = os.environ.get('ACCESS_SECRET')\n",
    "\n",
    "#create API object to use to gather Twitter data.\n",
    "auth = tweepy.OAuthHandler(consumer_key, consumer_secret)\n",
    "auth.set_access_token(access_token, access_secret)\n",
    "\n",
    "api = tweepy.API(auth, wait_on_rate_limit=True, wait_on_rate_limit_notify=True)"
   ]
  },
  {
   "cell_type": "code",
   "execution_count": 7,
   "metadata": {
    "scrolled": true
   },
   "outputs": [],
   "source": [
    "# create list of all ids from df_archive\n",
    "id_list = df_archive['tweet_id']"
   ]
  },
  {
   "cell_type": "code",
   "execution_count": null,
   "metadata": {},
   "outputs": [],
   "source": [
    "import time\n",
    "# Query the Twitter API for each tweet's JSON data using Tweepy \n",
    "# Write each tweet's entire set of JSON data to tweet_json.txt, each on its own line.\n",
    "count = 0\n",
    "with open('tweet_json.txt', mode='w') as file:\n",
    "    # loop through every id in the archive\n",
    "    for id in id_list:\n",
    "        count +=1\n",
    "        try:\n",
    "            # get the data using the id\n",
    "            status = api.get_status(id, tweet_mode='extended')\n",
    "            # time the process\n",
    "            start = time.clock()\n",
    "            json.dump(status._json,file)\n",
    "            file.write(\"\\n\")\n",
    "            print(count, \": \", id, \": written\", time.clock() - start)\n",
    "        except tweepy.TweepError as e:\n",
    "            # some of the tweets have been deleted\n",
    "            print(id, \": fail\")\n",
    "            continue"
   ]
  },
  {
   "cell_type": "code",
   "execution_count": 8,
   "metadata": {},
   "outputs": [],
   "source": [
    "with open('tweet_json.txt','r') as file: \n",
    "    tweet = file.readline() "
   ]
  },
  {
   "cell_type": "code",
   "execution_count": 9,
   "metadata": {},
   "outputs": [],
   "source": [
    "tweet_list = []\n",
    "\n",
    "# Read file line by line into a pandas DataFrame storing tweet ID, retweet count, \n",
    "#and favorite count.\n",
    "with open('tweet_json.txt','r') as file: \n",
    "    tweet = file.readline() #fixes issue as discussed on slack community \n",
    "    while tweet: # while still lines to read\n",
    "        json_tweet = json.loads(tweet)\n",
    "        tweet_list.append({'created_at':json_tweet['created_at'],\n",
    "                           'id':json_tweet['id'],\n",
    "                           #'followers_count':json_tweet['followers_count'],\n",
    "                           #'friends_count':json_tweet['friends_count'],\n",
    "                           'retweet_count':json_tweet['retweet_count'],\n",
    "                           'favorite_count':json_tweet['favorite_count']\n",
    "                          })                         \n",
    "        tweet = file.readline() \n",
    "        \n",
    "colnames = ['id','retweet_count','favorite_count','created_at']         \n",
    "df_api_data = pd.DataFrame(tweet_list,columns=colnames)"
   ]
  },
  {
   "cell_type": "code",
   "execution_count": 10,
   "metadata": {},
   "outputs": [
    {
     "data": {
      "text/html": [
       "<div>\n",
       "<style scoped>\n",
       "    .dataframe tbody tr th:only-of-type {\n",
       "        vertical-align: middle;\n",
       "    }\n",
       "\n",
       "    .dataframe tbody tr th {\n",
       "        vertical-align: top;\n",
       "    }\n",
       "\n",
       "    .dataframe thead th {\n",
       "        text-align: right;\n",
       "    }\n",
       "</style>\n",
       "<table border=\"1\" class=\"dataframe\">\n",
       "  <thead>\n",
       "    <tr style=\"text-align: right;\">\n",
       "      <th></th>\n",
       "      <th>id</th>\n",
       "      <th>retweet_count</th>\n",
       "      <th>favorite_count</th>\n",
       "      <th>created_at</th>\n",
       "    </tr>\n",
       "  </thead>\n",
       "  <tbody>\n",
       "    <tr>\n",
       "      <th>0</th>\n",
       "      <td>892420643555336193</td>\n",
       "      <td>8376</td>\n",
       "      <td>38236</td>\n",
       "      <td>Tue Aug 01 16:23:56 +0000 2017</td>\n",
       "    </tr>\n",
       "    <tr>\n",
       "      <th>1</th>\n",
       "      <td>892177421306343426</td>\n",
       "      <td>6184</td>\n",
       "      <td>32780</td>\n",
       "      <td>Tue Aug 01 00:17:27 +0000 2017</td>\n",
       "    </tr>\n",
       "  </tbody>\n",
       "</table>\n",
       "</div>"
      ],
      "text/plain": [
       "                   id  retweet_count  favorite_count  \\\n",
       "0  892420643555336193           8376           38236   \n",
       "1  892177421306343426           6184           32780   \n",
       "\n",
       "                       created_at  \n",
       "0  Tue Aug 01 16:23:56 +0000 2017  \n",
       "1  Tue Aug 01 00:17:27 +0000 2017  "
      ]
     },
     "execution_count": 10,
     "metadata": {},
     "output_type": "execute_result"
    }
   ],
   "source": [
    "#Check it loaded correctly\n",
    "df_api_data.head(2)"
   ]
  },
  {
   "cell_type": "markdown",
   "metadata": {},
   "source": [
    "### Step 2: Data Assessing\n",
    "-  Assess the 3 sources visually and programmatically for quality and tidiness issues. \n",
    "-  Detect and document at least eight (8) quality issues and two (2) tidiness issues Notebook. \n",
    "-  The issues that satisfy the Project Motivation (see the Key Points header on the previous page) must be assessed.\n",
    "-   Ensure only original ratings (no retweets) that have images. \n",
    "\n",
    "#### Quality dimensions\n",
    "-  Completeness (missing records/cells)\n",
    "-  Validity (does it meet schema/do the values make sense for the columns?\n",
    "-  Accuracy (do some values just look wrong?\n",
    "-  Consistency (is there a mix of different values in same columns)\n",
    "    \n",
    "#### Tidiness\n",
    "-  One variable per column ( ensure not multiple pieces of info in one column)\n",
    "-  One obervation per row (ensure not duplicated records, maybe with different ids, or different spellings)\n",
    "-  One unit per table "
   ]
  },
  {
   "cell_type": "code",
   "execution_count": 11,
   "metadata": {},
   "outputs": [],
   "source": [
    "# To enable viewing of longer text fields\n",
    "pd.set_option('display.max_colwidth', 200)"
   ]
  },
  {
   "cell_type": "code",
   "execution_count": 12,
   "metadata": {},
   "outputs": [
    {
     "name": "stdout",
     "output_type": "stream",
     "text": [
      "<class 'pandas.core.frame.DataFrame'>\n",
      "RangeIndex: 2356 entries, 0 to 2355\n",
      "Data columns (total 17 columns):\n",
      "tweet_id                      2356 non-null int64\n",
      "in_reply_to_status_id         78 non-null float64\n",
      "in_reply_to_user_id           78 non-null float64\n",
      "timestamp                     2356 non-null object\n",
      "source                        2356 non-null object\n",
      "text                          2356 non-null object\n",
      "retweeted_status_id           181 non-null float64\n",
      "retweeted_status_user_id      181 non-null float64\n",
      "retweeted_status_timestamp    181 non-null object\n",
      "expanded_urls                 2297 non-null object\n",
      "rating_numerator              2356 non-null int64\n",
      "rating_denominator            2356 non-null int64\n",
      "name                          2356 non-null object\n",
      "doggo                         2356 non-null object\n",
      "floofer                       2356 non-null object\n",
      "pupper                        2356 non-null object\n",
      "puppo                         2356 non-null object\n",
      "dtypes: float64(4), int64(3), object(10)\n",
      "memory usage: 313.0+ KB\n"
     ]
    }
   ],
   "source": [
    "df_archive.info()"
   ]
  },
  {
   "cell_type": "code",
   "execution_count": 13,
   "metadata": {},
   "outputs": [
    {
     "data": {
      "text/html": [
       "<div>\n",
       "<style scoped>\n",
       "    .dataframe tbody tr th:only-of-type {\n",
       "        vertical-align: middle;\n",
       "    }\n",
       "\n",
       "    .dataframe tbody tr th {\n",
       "        vertical-align: top;\n",
       "    }\n",
       "\n",
       "    .dataframe thead th {\n",
       "        text-align: right;\n",
       "    }\n",
       "</style>\n",
       "<table border=\"1\" class=\"dataframe\">\n",
       "  <thead>\n",
       "    <tr style=\"text-align: right;\">\n",
       "      <th></th>\n",
       "      <th>tweet_id</th>\n",
       "      <th>in_reply_to_status_id</th>\n",
       "      <th>in_reply_to_user_id</th>\n",
       "      <th>timestamp</th>\n",
       "      <th>source</th>\n",
       "      <th>text</th>\n",
       "      <th>retweeted_status_id</th>\n",
       "      <th>retweeted_status_user_id</th>\n",
       "      <th>retweeted_status_timestamp</th>\n",
       "      <th>expanded_urls</th>\n",
       "      <th>rating_numerator</th>\n",
       "      <th>rating_denominator</th>\n",
       "      <th>name</th>\n",
       "      <th>doggo</th>\n",
       "      <th>floofer</th>\n",
       "      <th>pupper</th>\n",
       "      <th>puppo</th>\n",
       "    </tr>\n",
       "  </thead>\n",
       "  <tbody>\n",
       "    <tr>\n",
       "      <th>2320</th>\n",
       "      <td>666437273139982337</td>\n",
       "      <td>NaN</td>\n",
       "      <td>NaN</td>\n",
       "      <td>2015-11-17 02:06:42 +0000</td>\n",
       "      <td>&lt;a href=\"http://twitter.com/download/iphone\" rel=\"nofollow\"&gt;Twitter for iPhone&lt;/a&gt;</td>\n",
       "      <td>Here we see a lone northeastern Cumberbatch. Half ladybug. Only builds with bricks. Very confident with body. 7/10 https://t.co/7LtjBS0GPK</td>\n",
       "      <td>NaN</td>\n",
       "      <td>NaN</td>\n",
       "      <td>NaN</td>\n",
       "      <td>https://twitter.com/dog_rates/status/666437273139982337/photo/1</td>\n",
       "      <td>7</td>\n",
       "      <td>10</td>\n",
       "      <td>None</td>\n",
       "      <td>None</td>\n",
       "      <td>None</td>\n",
       "      <td>None</td>\n",
       "      <td>None</td>\n",
       "    </tr>\n",
       "    <tr>\n",
       "      <th>1249</th>\n",
       "      <td>711306686208872448</td>\n",
       "      <td>NaN</td>\n",
       "      <td>NaN</td>\n",
       "      <td>2016-03-19 21:41:44 +0000</td>\n",
       "      <td>&lt;a href=\"http://twitter.com/download/iphone\" rel=\"nofollow\"&gt;Twitter for iPhone&lt;/a&gt;</td>\n",
       "      <td>What hooligan sent in pictures w/out a dog in them? Churlish af. 3/10 just bc that's a neat fluffy bean bag chair https://t.co/wcwoGOkZvz</td>\n",
       "      <td>NaN</td>\n",
       "      <td>NaN</td>\n",
       "      <td>NaN</td>\n",
       "      <td>https://twitter.com/dog_rates/status/711306686208872448/photo/1,https://twitter.com/dog_rates/status/711306686208872448/photo/1</td>\n",
       "      <td>3</td>\n",
       "      <td>10</td>\n",
       "      <td>None</td>\n",
       "      <td>None</td>\n",
       "      <td>None</td>\n",
       "      <td>None</td>\n",
       "      <td>None</td>\n",
       "    </tr>\n",
       "    <tr>\n",
       "      <th>593</th>\n",
       "      <td>798925684722855936</td>\n",
       "      <td>NaN</td>\n",
       "      <td>NaN</td>\n",
       "      <td>2016-11-16 16:28:21 +0000</td>\n",
       "      <td>&lt;a href=\"http://twitter.com/download/iphone\" rel=\"nofollow\"&gt;Twitter for iPhone&lt;/a&gt;</td>\n",
       "      <td>This is Shadow. He's a firm believer that they're all good dogs. H*ckin passionate about it too. 11/10 I stand with Shadow https://t.co/8yvpacwBcu</td>\n",
       "      <td>NaN</td>\n",
       "      <td>NaN</td>\n",
       "      <td>NaN</td>\n",
       "      <td>https://twitter.com/dog_rates/status/798925684722855936/photo/1</td>\n",
       "      <td>11</td>\n",
       "      <td>10</td>\n",
       "      <td>Shadow</td>\n",
       "      <td>None</td>\n",
       "      <td>None</td>\n",
       "      <td>None</td>\n",
       "      <td>None</td>\n",
       "    </tr>\n",
       "    <tr>\n",
       "      <th>965</th>\n",
       "      <td>750429297815552001</td>\n",
       "      <td>NaN</td>\n",
       "      <td>NaN</td>\n",
       "      <td>2016-07-05 20:41:01 +0000</td>\n",
       "      <td>&lt;a href=\"http://twitter.com/download/iphone\" rel=\"nofollow\"&gt;Twitter for iPhone&lt;/a&gt;</td>\n",
       "      <td>This is Arnie. He's a Nova Scotian Fridge Floof. Rare af. 12/10 https://t.co/lprdOylVpS</td>\n",
       "      <td>NaN</td>\n",
       "      <td>NaN</td>\n",
       "      <td>NaN</td>\n",
       "      <td>https://twitter.com/dog_rates/status/750429297815552001/photo/1,https://twitter.com/dog_rates/status/750429297815552001/photo/1</td>\n",
       "      <td>12</td>\n",
       "      <td>10</td>\n",
       "      <td>Arnie</td>\n",
       "      <td>None</td>\n",
       "      <td>None</td>\n",
       "      <td>None</td>\n",
       "      <td>None</td>\n",
       "    </tr>\n",
       "    <tr>\n",
       "      <th>328</th>\n",
       "      <td>833722901757046785</td>\n",
       "      <td>NaN</td>\n",
       "      <td>NaN</td>\n",
       "      <td>2017-02-20 17:00:04 +0000</td>\n",
       "      <td>&lt;a href=\"http://twitter.com/download/iphone\" rel=\"nofollow\"&gt;Twitter for iPhone&lt;/a&gt;</td>\n",
       "      <td>This is Bronte. She's fairly h*ckin aerodynamic. Also patiently waiting for mom to make her a main character. 13/10 would be an honor to pet https://t.co/w1MQWO2PET</td>\n",
       "      <td>NaN</td>\n",
       "      <td>NaN</td>\n",
       "      <td>NaN</td>\n",
       "      <td>https://twitter.com/dog_rates/status/833722901757046785/photo/1,https://twitter.com/dog_rates/status/833722901757046785/photo/1</td>\n",
       "      <td>13</td>\n",
       "      <td>10</td>\n",
       "      <td>Bronte</td>\n",
       "      <td>None</td>\n",
       "      <td>None</td>\n",
       "      <td>None</td>\n",
       "      <td>None</td>\n",
       "    </tr>\n",
       "  </tbody>\n",
       "</table>\n",
       "</div>"
      ],
      "text/plain": [
       "                tweet_id  in_reply_to_status_id  in_reply_to_user_id  \\\n",
       "2320  666437273139982337                    NaN                  NaN   \n",
       "1249  711306686208872448                    NaN                  NaN   \n",
       "593   798925684722855936                    NaN                  NaN   \n",
       "965   750429297815552001                    NaN                  NaN   \n",
       "328   833722901757046785                    NaN                  NaN   \n",
       "\n",
       "                      timestamp  \\\n",
       "2320  2015-11-17 02:06:42 +0000   \n",
       "1249  2016-03-19 21:41:44 +0000   \n",
       "593   2016-11-16 16:28:21 +0000   \n",
       "965   2016-07-05 20:41:01 +0000   \n",
       "328   2017-02-20 17:00:04 +0000   \n",
       "\n",
       "                                                                                  source  \\\n",
       "2320  <a href=\"http://twitter.com/download/iphone\" rel=\"nofollow\">Twitter for iPhone</a>   \n",
       "1249  <a href=\"http://twitter.com/download/iphone\" rel=\"nofollow\">Twitter for iPhone</a>   \n",
       "593   <a href=\"http://twitter.com/download/iphone\" rel=\"nofollow\">Twitter for iPhone</a>   \n",
       "965   <a href=\"http://twitter.com/download/iphone\" rel=\"nofollow\">Twitter for iPhone</a>   \n",
       "328   <a href=\"http://twitter.com/download/iphone\" rel=\"nofollow\">Twitter for iPhone</a>   \n",
       "\n",
       "                                                                                                                                                                      text  \\\n",
       "2320                            Here we see a lone northeastern Cumberbatch. Half ladybug. Only builds with bricks. Very confident with body. 7/10 https://t.co/7LtjBS0GPK   \n",
       "1249                             What hooligan sent in pictures w/out a dog in them? Churlish af. 3/10 just bc that's a neat fluffy bean bag chair https://t.co/wcwoGOkZvz   \n",
       "593                     This is Shadow. He's a firm believer that they're all good dogs. H*ckin passionate about it too. 11/10 I stand with Shadow https://t.co/8yvpacwBcu   \n",
       "965                                                                                This is Arnie. He's a Nova Scotian Fridge Floof. Rare af. 12/10 https://t.co/lprdOylVpS   \n",
       "328   This is Bronte. She's fairly h*ckin aerodynamic. Also patiently waiting for mom to make her a main character. 13/10 would be an honor to pet https://t.co/w1MQWO2PET   \n",
       "\n",
       "      retweeted_status_id  retweeted_status_user_id  \\\n",
       "2320                  NaN                       NaN   \n",
       "1249                  NaN                       NaN   \n",
       "593                   NaN                       NaN   \n",
       "965                   NaN                       NaN   \n",
       "328                   NaN                       NaN   \n",
       "\n",
       "     retweeted_status_timestamp  \\\n",
       "2320                        NaN   \n",
       "1249                        NaN   \n",
       "593                         NaN   \n",
       "965                         NaN   \n",
       "328                         NaN   \n",
       "\n",
       "                                                                                                                        expanded_urls  \\\n",
       "2320                                                                  https://twitter.com/dog_rates/status/666437273139982337/photo/1   \n",
       "1249  https://twitter.com/dog_rates/status/711306686208872448/photo/1,https://twitter.com/dog_rates/status/711306686208872448/photo/1   \n",
       "593                                                                   https://twitter.com/dog_rates/status/798925684722855936/photo/1   \n",
       "965   https://twitter.com/dog_rates/status/750429297815552001/photo/1,https://twitter.com/dog_rates/status/750429297815552001/photo/1   \n",
       "328   https://twitter.com/dog_rates/status/833722901757046785/photo/1,https://twitter.com/dog_rates/status/833722901757046785/photo/1   \n",
       "\n",
       "      rating_numerator  rating_denominator    name doggo floofer pupper puppo  \n",
       "2320                 7                  10    None  None    None   None  None  \n",
       "1249                 3                  10    None  None    None   None  None  \n",
       "593                 11                  10  Shadow  None    None   None  None  \n",
       "965                 12                  10   Arnie  None    None   None  None  \n",
       "328                 13                  10  Bronte  None    None   None  None  "
      ]
     },
     "execution_count": 13,
     "metadata": {},
     "output_type": "execute_result"
    }
   ],
   "source": [
    "# view 20 rows of archive dataframe\n",
    "df_archive.sample(5)"
   ]
  },
  {
   "cell_type": "code",
   "execution_count": 14,
   "metadata": {},
   "outputs": [
    {
     "data": {
      "text/html": [
       "<div>\n",
       "<style scoped>\n",
       "    .dataframe tbody tr th:only-of-type {\n",
       "        vertical-align: middle;\n",
       "    }\n",
       "\n",
       "    .dataframe tbody tr th {\n",
       "        vertical-align: top;\n",
       "    }\n",
       "\n",
       "    .dataframe thead th {\n",
       "        text-align: right;\n",
       "    }\n",
       "</style>\n",
       "<table border=\"1\" class=\"dataframe\">\n",
       "  <thead>\n",
       "    <tr style=\"text-align: right;\">\n",
       "      <th></th>\n",
       "      <th>tweet_id</th>\n",
       "      <th>in_reply_to_status_id</th>\n",
       "      <th>in_reply_to_user_id</th>\n",
       "      <th>timestamp</th>\n",
       "      <th>source</th>\n",
       "      <th>text</th>\n",
       "      <th>retweeted_status_id</th>\n",
       "      <th>retweeted_status_user_id</th>\n",
       "      <th>retweeted_status_timestamp</th>\n",
       "      <th>expanded_urls</th>\n",
       "      <th>rating_numerator</th>\n",
       "      <th>rating_denominator</th>\n",
       "      <th>name</th>\n",
       "      <th>doggo</th>\n",
       "      <th>floofer</th>\n",
       "      <th>pupper</th>\n",
       "      <th>puppo</th>\n",
       "    </tr>\n",
       "  </thead>\n",
       "  <tbody>\n",
       "  </tbody>\n",
       "</table>\n",
       "</div>"
      ],
      "text/plain": [
       "Empty DataFrame\n",
       "Columns: [tweet_id, in_reply_to_status_id, in_reply_to_user_id, timestamp, source, text, retweeted_status_id, retweeted_status_user_id, retweeted_status_timestamp, expanded_urls, rating_numerator, rating_denominator, name, doggo, floofer, pupper, puppo]\n",
       "Index: []"
      ]
     },
     "execution_count": 14,
     "metadata": {},
     "output_type": "execute_result"
    }
   ],
   "source": [
    "#There are no duplicates?\n",
    "df_archive[df_archive.duplicated()]"
   ]
  },
  {
   "cell_type": "code",
   "execution_count": 15,
   "metadata": {},
   "outputs": [
    {
     "data": {
      "text/plain": [
       "array([           nan, 8.87473957e+17, 8.86053734e+17, 8.30583321e+17,\n",
       "       8.78057613e+17, 8.78281511e+17, 6.69000397e+17, 8.76850772e+17,\n",
       "       8.66334965e+17, 8.68880398e+17, 8.73213776e+17, 8.72657584e+17,\n",
       "       8.41077006e+17, 8.59196979e+17, 8.68552279e+17, 8.65013420e+17,\n",
       "       8.66450706e+17, 8.37820168e+17, 8.63062472e+17, 8.06629075e+17,\n",
       "       8.60563773e+17, 8.60914485e+17, 7.61672994e+17, 8.39549326e+17,\n",
       "       8.57061112e+17, 8.44704788e+17, 8.56330159e+17, 8.42163533e+17,\n",
       "       8.55122533e+17, 8.31650052e+17, 8.29374342e+17, 8.48289382e+17,\n",
       "       8.33124695e+17, 8.32369877e+17, 8.47971000e+17, 7.56288534e+17,\n",
       "       7.73308824e+17, 8.07106841e+17, 8.17423860e+17, 8.40632337e+17,\n",
       "       6.67152164e+17, 8.39289919e+17, 8.38905981e+17, 7.83839966e+17,\n",
       "       8.20749717e+17, 8.37011345e+17, 8.36648149e+17, 8.17827839e+17,\n",
       "       7.86963064e+17, 8.35264099e+17, 7.53039831e+17, 8.29501995e+17,\n",
       "       8.32434358e+17, 8.32766382e+17, 7.86709083e+17, 7.93286476e+17,\n",
       "       7.69940426e+17, 8.09220051e+17, 8.26958653e+17, 8.10254108e+17,\n",
       "       6.94669722e+17, 8.09920764e+17, 8.25026591e+17, 7.95076730e+17,\n",
       "       7.84057940e+17, 8.22244817e+17, 8.22489057e+17, 7.86233965e+17,\n",
       "       7.80601304e+17, 7.82305868e+17, 8.19227688e+17, 8.20314634e+17,\n",
       "       8.00141422e+17, 8.19952236e+17, 8.19004803e+17, 8.19006401e+17,\n",
       "       8.08344866e+17, 7.73547597e+17, 8.16450571e+17, 6.92417313e+17,\n",
       "       8.15966073e+17, 7.90946056e+17, 8.15990721e+17, 7.32005617e+17,\n",
       "       7.91406956e+17, 6.98195409e+17, 7.90277117e+17, 6.80055456e+17,\n",
       "       7.93962222e+17, 8.01167903e+17, 7.82969140e+17, 7.81524693e+17,\n",
       "       7.83334640e+17, 7.82722599e+17, 7.84183166e+17, 7.84826020e+17,\n",
       "       6.91416866e+17, 7.67754930e+17, 7.77684234e+17, 7.79056096e+17,\n",
       "       8.00065028e+17, 7.75733305e+17, 8.00854023e+17, 7.76113306e+17,\n",
       "       6.81694086e+17, 7.75085133e+17, 7.74314404e+17, 7.40676976e+17,\n",
       "       7.18631498e+17, 7.12809026e+17, 7.01214701e+17, 6.83391853e+17,\n",
       "       6.76936542e+17, 6.75501076e+17, 6.71896809e+17, 6.70444956e+17,\n",
       "       6.67509364e+17, 6.67182792e+17, 6.66104133e+17, 7.71770457e+17,\n",
       "       6.87317306e+17, 7.80931614e+17, 7.96149749e+17, 7.89530877e+17,\n",
       "       7.88765915e+17, 7.91672323e+17, 6.84830983e+17, 6.82088079e+17,\n",
       "       7.46757706e+17, 7.63837566e+17, 7.89986466e+17, 7.62699858e+17,\n",
       "       7.62464539e+17, 7.50719633e+17, 7.36392552e+17, 7.61004548e+17,\n",
       "       7.52932433e+17, 7.59447682e+17, 7.79834333e+17, 6.74291837e+17,\n",
       "       7.07610949e+17, 7.42423170e+17, 7.80465709e+17, 7.53375669e+17,\n",
       "       6.79462823e+17, 7.58099636e+17, 7.03041950e+17, 7.68193405e+17,\n",
       "       7.50429298e+17, 6.79828447e+17, 7.00747789e+17, 7.33109485e+17,\n",
       "       7.40373189e+17, 7.71380798e+17, 7.65222099e+17, 6.73320133e+17,\n",
       "       7.71002130e+17, 7.39238158e+17, 7.41067307e+17, 7.06904524e+17,\n",
       "       7.00143752e+17, 7.39979192e+17, 7.59923799e+17, 7.25842289e+17,\n",
       "       6.73295269e+17, 6.85325113e+17, 7.11694788e+17, 7.60153833e+17,\n",
       "       7.39544079e+17, 6.70319131e+17, 6.79062614e+17, 7.57597141e+17,\n",
       "       6.79158374e+17, 6.81523178e+17, 6.83515932e+17, 6.75354436e+17,\n",
       "       7.04761121e+17, 6.67866724e+17, 6.67138270e+17, 7.11998280e+17,\n",
       "       6.67548696e+17, 6.67548415e+17])"
      ]
     },
     "execution_count": 15,
     "metadata": {},
     "output_type": "execute_result"
    }
   ],
   "source": [
    "df_archive['retweeted_status_id'].unique()"
   ]
  },
  {
   "cell_type": "code",
   "execution_count": 16,
   "metadata": {},
   "outputs": [
    {
     "name": "stdout",
     "output_type": "stream",
     "text": [
      "[  13   12   14    5   17   11   10  420  666    6   15  182  960    0\n",
      "   75    7   84    9   24    8    1   27    3    4  165 1776  204   50\n",
      "   99   80   45   60   44  143  121   20   26    2  144   88]\n",
      "[ 10   0  15  70   7  11 150 170  20  50  90  80  40 130 110  16 120   2]\n"
     ]
    }
   ],
   "source": [
    "# Look at ratings columns\n",
    "print(df_archive['rating_numerator'].unique())\n",
    "print(df_archive['rating_denominator'].unique())"
   ]
  },
  {
   "cell_type": "code",
   "execution_count": 17,
   "metadata": {},
   "outputs": [
    {
     "data": {
      "text/html": [
       "<div>\n",
       "<style scoped>\n",
       "    .dataframe tbody tr th:only-of-type {\n",
       "        vertical-align: middle;\n",
       "    }\n",
       "\n",
       "    .dataframe tbody tr th {\n",
       "        vertical-align: top;\n",
       "    }\n",
       "\n",
       "    .dataframe thead th {\n",
       "        text-align: right;\n",
       "    }\n",
       "</style>\n",
       "<table border=\"1\" class=\"dataframe\">\n",
       "  <thead>\n",
       "    <tr style=\"text-align: right;\">\n",
       "      <th></th>\n",
       "      <th>tweet_id</th>\n",
       "      <th>in_reply_to_status_id</th>\n",
       "      <th>in_reply_to_user_id</th>\n",
       "      <th>timestamp</th>\n",
       "      <th>source</th>\n",
       "      <th>text</th>\n",
       "      <th>retweeted_status_id</th>\n",
       "      <th>retweeted_status_user_id</th>\n",
       "      <th>retweeted_status_timestamp</th>\n",
       "      <th>expanded_urls</th>\n",
       "      <th>rating_numerator</th>\n",
       "      <th>rating_denominator</th>\n",
       "      <th>name</th>\n",
       "      <th>doggo</th>\n",
       "      <th>floofer</th>\n",
       "      <th>pupper</th>\n",
       "      <th>puppo</th>\n",
       "    </tr>\n",
       "  </thead>\n",
       "  <tbody>\n",
       "    <tr>\n",
       "      <th>313</th>\n",
       "      <td>835246439529840640</td>\n",
       "      <td>8.352460e+17</td>\n",
       "      <td>2.625958e+07</td>\n",
       "      <td>2017-02-24 21:54:03 +0000</td>\n",
       "      <td>&lt;a href=\"http://twitter.com/download/iphone\" rel=\"nofollow\"&gt;Twitter for iPhone&lt;/a&gt;</td>\n",
       "      <td>@jonnysun @Lin_Manuel ok jomny I know you're excited but 960/00 isn't a valid rating, 13/10 is tho</td>\n",
       "      <td>NaN</td>\n",
       "      <td>NaN</td>\n",
       "      <td>NaN</td>\n",
       "      <td>NaN</td>\n",
       "      <td>960</td>\n",
       "      <td>0</td>\n",
       "      <td>None</td>\n",
       "      <td>None</td>\n",
       "      <td>None</td>\n",
       "      <td>None</td>\n",
       "      <td>None</td>\n",
       "    </tr>\n",
       "    <tr>\n",
       "      <th>315</th>\n",
       "      <td>835152434251116546</td>\n",
       "      <td>NaN</td>\n",
       "      <td>NaN</td>\n",
       "      <td>2017-02-24 15:40:31 +0000</td>\n",
       "      <td>&lt;a href=\"http://twitter.com/download/iphone\" rel=\"nofollow\"&gt;Twitter for iPhone&lt;/a&gt;</td>\n",
       "      <td>When you're so blinded by your systematic plagiarism that you forget what day it is. 0/10 https://t.co/YbEJPkg4Ag</td>\n",
       "      <td>NaN</td>\n",
       "      <td>NaN</td>\n",
       "      <td>NaN</td>\n",
       "      <td>https://twitter.com/dog_rates/status/835152434251116546/photo/1,https://twitter.com/dog_rates/status/835152434251116546/photo/1,https://twitter.com/dog_rates/status/835152434251116546/photo/1</td>\n",
       "      <td>0</td>\n",
       "      <td>10</td>\n",
       "      <td>None</td>\n",
       "      <td>None</td>\n",
       "      <td>None</td>\n",
       "      <td>None</td>\n",
       "      <td>None</td>\n",
       "    </tr>\n",
       "    <tr>\n",
       "      <th>1016</th>\n",
       "      <td>746906459439529985</td>\n",
       "      <td>7.468859e+17</td>\n",
       "      <td>4.196984e+09</td>\n",
       "      <td>2016-06-26 03:22:31 +0000</td>\n",
       "      <td>&lt;a href=\"http://twitter.com/download/iphone\" rel=\"nofollow\"&gt;Twitter for iPhone&lt;/a&gt;</td>\n",
       "      <td>PUPDATE: can't see any. Even if I could, I couldn't reach them to pet. 0/10 much disappointment https://t.co/c7WXaB2nqX</td>\n",
       "      <td>NaN</td>\n",
       "      <td>NaN</td>\n",
       "      <td>NaN</td>\n",
       "      <td>https://twitter.com/dog_rates/status/746906459439529985/photo/1</td>\n",
       "      <td>0</td>\n",
       "      <td>10</td>\n",
       "      <td>None</td>\n",
       "      <td>None</td>\n",
       "      <td>None</td>\n",
       "      <td>None</td>\n",
       "      <td>None</td>\n",
       "    </tr>\n",
       "  </tbody>\n",
       "</table>\n",
       "</div>"
      ],
      "text/plain": [
       "                tweet_id  in_reply_to_status_id  in_reply_to_user_id  \\\n",
       "313   835246439529840640           8.352460e+17         2.625958e+07   \n",
       "315   835152434251116546                    NaN                  NaN   \n",
       "1016  746906459439529985           7.468859e+17         4.196984e+09   \n",
       "\n",
       "                      timestamp  \\\n",
       "313   2017-02-24 21:54:03 +0000   \n",
       "315   2017-02-24 15:40:31 +0000   \n",
       "1016  2016-06-26 03:22:31 +0000   \n",
       "\n",
       "                                                                                  source  \\\n",
       "313   <a href=\"http://twitter.com/download/iphone\" rel=\"nofollow\">Twitter for iPhone</a>   \n",
       "315   <a href=\"http://twitter.com/download/iphone\" rel=\"nofollow\">Twitter for iPhone</a>   \n",
       "1016  <a href=\"http://twitter.com/download/iphone\" rel=\"nofollow\">Twitter for iPhone</a>   \n",
       "\n",
       "                                                                                                                         text  \\\n",
       "313                        @jonnysun @Lin_Manuel ok jomny I know you're excited but 960/00 isn't a valid rating, 13/10 is tho   \n",
       "315         When you're so blinded by your systematic plagiarism that you forget what day it is. 0/10 https://t.co/YbEJPkg4Ag   \n",
       "1016  PUPDATE: can't see any. Even if I could, I couldn't reach them to pet. 0/10 much disappointment https://t.co/c7WXaB2nqX   \n",
       "\n",
       "      retweeted_status_id  retweeted_status_user_id  \\\n",
       "313                   NaN                       NaN   \n",
       "315                   NaN                       NaN   \n",
       "1016                  NaN                       NaN   \n",
       "\n",
       "     retweeted_status_timestamp  \\\n",
       "313                         NaN   \n",
       "315                         NaN   \n",
       "1016                        NaN   \n",
       "\n",
       "                                                                                                                                                                                        expanded_urls  \\\n",
       "313                                                                                                                                                                                               NaN   \n",
       "315   https://twitter.com/dog_rates/status/835152434251116546/photo/1,https://twitter.com/dog_rates/status/835152434251116546/photo/1,https://twitter.com/dog_rates/status/835152434251116546/photo/1   \n",
       "1016                                                                                                                                  https://twitter.com/dog_rates/status/746906459439529985/photo/1   \n",
       "\n",
       "      rating_numerator  rating_denominator  name doggo floofer pupper puppo  \n",
       "313                960                   0  None  None    None   None  None  \n",
       "315                  0                  10  None  None    None   None  None  \n",
       "1016                 0                  10  None  None    None   None  None  "
      ]
     },
     "execution_count": 17,
     "metadata": {},
     "output_type": "execute_result"
    }
   ],
   "source": [
    "# View records which don't have any ratings\n",
    "df_archive[(df_archive['rating_numerator'] == 0) |\n",
    "           (df_archive['rating_denominator'] == 0)]"
   ]
  },
  {
   "cell_type": "code",
   "execution_count": 18,
   "metadata": {},
   "outputs": [
    {
     "data": {
      "text/html": [
       "<div>\n",
       "<style scoped>\n",
       "    .dataframe tbody tr th:only-of-type {\n",
       "        vertical-align: middle;\n",
       "    }\n",
       "\n",
       "    .dataframe tbody tr th {\n",
       "        vertical-align: top;\n",
       "    }\n",
       "\n",
       "    .dataframe thead th {\n",
       "        text-align: right;\n",
       "    }\n",
       "</style>\n",
       "<table border=\"1\" class=\"dataframe\">\n",
       "  <thead>\n",
       "    <tr style=\"text-align: right;\">\n",
       "      <th></th>\n",
       "      <th>tweet_id</th>\n",
       "      <th>text</th>\n",
       "      <th>rating_numerator</th>\n",
       "      <th>rating_denominator</th>\n",
       "    </tr>\n",
       "  </thead>\n",
       "  <tbody>\n",
       "    <tr>\n",
       "      <th>313</th>\n",
       "      <td>835246439529840640</td>\n",
       "      <td>@jonnysun @Lin_Manuel ok jomny I know you're excited but 960/00 isn't a valid rating, 13/10 is tho</td>\n",
       "      <td>960</td>\n",
       "      <td>0</td>\n",
       "    </tr>\n",
       "    <tr>\n",
       "      <th>342</th>\n",
       "      <td>832088576586297345</td>\n",
       "      <td>@docmisterio account started on 11/15/15</td>\n",
       "      <td>11</td>\n",
       "      <td>15</td>\n",
       "    </tr>\n",
       "    <tr>\n",
       "      <th>433</th>\n",
       "      <td>820690176645140481</td>\n",
       "      <td>The floofs have been released I repeat the floofs have been released. 84/70 https://t.co/NIYC820tmd</td>\n",
       "      <td>84</td>\n",
       "      <td>70</td>\n",
       "    </tr>\n",
       "    <tr>\n",
       "      <th>516</th>\n",
       "      <td>810984652412424192</td>\n",
       "      <td>Meet Sam. She smiles 24/7 &amp;amp; secretly aspires to be a reindeer. \\nKeep Sam smiling by clicking and sharing this link:\\nhttps://t.co/98tB8y7y7t https://t.co/LouL5vdvxx</td>\n",
       "      <td>24</td>\n",
       "      <td>7</td>\n",
       "    </tr>\n",
       "    <tr>\n",
       "      <th>784</th>\n",
       "      <td>775096608509886464</td>\n",
       "      <td>RT @dog_rates: After so many requests, this is Bretagne. She was the last surviving 9/11 search dog, and our second ever 14/10. RIP https:/…</td>\n",
       "      <td>9</td>\n",
       "      <td>11</td>\n",
       "    </tr>\n",
       "    <tr>\n",
       "      <th>902</th>\n",
       "      <td>758467244762497024</td>\n",
       "      <td>Why does this never happen at my front door... 165/150 https://t.co/HmwrdfEfUE</td>\n",
       "      <td>165</td>\n",
       "      <td>150</td>\n",
       "    </tr>\n",
       "    <tr>\n",
       "      <th>1068</th>\n",
       "      <td>740373189193256964</td>\n",
       "      <td>After so many requests, this is Bretagne. She was the last surviving 9/11 search dog, and our second ever 14/10. RIP https://t.co/XAVDNDaVgQ</td>\n",
       "      <td>9</td>\n",
       "      <td>11</td>\n",
       "    </tr>\n",
       "    <tr>\n",
       "      <th>1120</th>\n",
       "      <td>731156023742988288</td>\n",
       "      <td>Say hello to this unbelievably well behaved squad of doggos. 204/170 would try to pet all at once https://t.co/yGQI3He3xv</td>\n",
       "      <td>204</td>\n",
       "      <td>170</td>\n",
       "    </tr>\n",
       "    <tr>\n",
       "      <th>1165</th>\n",
       "      <td>722974582966214656</td>\n",
       "      <td>Happy 4/20 from the squad! 13/10 for all https://t.co/eV1diwds8a</td>\n",
       "      <td>4</td>\n",
       "      <td>20</td>\n",
       "    </tr>\n",
       "    <tr>\n",
       "      <th>1202</th>\n",
       "      <td>716439118184652801</td>\n",
       "      <td>This is Bluebert. He just saw that both #FinalFur match ups are split 50/50. Amazed af. 11/10 https://t.co/Kky1DPG4iq</td>\n",
       "      <td>50</td>\n",
       "      <td>50</td>\n",
       "    </tr>\n",
       "    <tr>\n",
       "      <th>1228</th>\n",
       "      <td>713900603437621249</td>\n",
       "      <td>Happy Saturday here's 9 puppers on a bench. 99/90 good work everybody https://t.co/mpvaVxKmc1</td>\n",
       "      <td>99</td>\n",
       "      <td>90</td>\n",
       "    </tr>\n",
       "    <tr>\n",
       "      <th>1254</th>\n",
       "      <td>710658690886586372</td>\n",
       "      <td>Here's a brigade of puppers. All look very prepared for whatever happens next. 80/80 https://t.co/0eb7R1Om12</td>\n",
       "      <td>80</td>\n",
       "      <td>80</td>\n",
       "    </tr>\n",
       "    <tr>\n",
       "      <th>1274</th>\n",
       "      <td>709198395643068416</td>\n",
       "      <td>From left to right:\\nCletus, Jerome, Alejandro, Burp, &amp;amp; Titson\\nNone know where camera is. 45/50 would hug all at once https://t.co/sedre1ivTK</td>\n",
       "      <td>45</td>\n",
       "      <td>50</td>\n",
       "    </tr>\n",
       "    <tr>\n",
       "      <th>1351</th>\n",
       "      <td>704054845121142784</td>\n",
       "      <td>Here is a whole flock of puppers.  60/50 I'll take the lot https://t.co/9dpcw6MdWa</td>\n",
       "      <td>60</td>\n",
       "      <td>50</td>\n",
       "    </tr>\n",
       "    <tr>\n",
       "      <th>1433</th>\n",
       "      <td>697463031882764288</td>\n",
       "      <td>Happy Wednesday here's a bucket of pups. 44/40 would pet all at once https://t.co/HppvrYuamZ</td>\n",
       "      <td>44</td>\n",
       "      <td>40</td>\n",
       "    </tr>\n",
       "    <tr>\n",
       "      <th>1598</th>\n",
       "      <td>686035780142297088</td>\n",
       "      <td>Yes I do realize a rating of 4/20 would've been fitting. However, it would be unjust to give these cooperative pups that low of a rating</td>\n",
       "      <td>4</td>\n",
       "      <td>20</td>\n",
       "    </tr>\n",
       "    <tr>\n",
       "      <th>1634</th>\n",
       "      <td>684225744407494656</td>\n",
       "      <td>Two sneaky puppers were not initially seen, moving the rating to 143/130. Please forgive us. Thank you https://t.co/kRK51Y5ac3</td>\n",
       "      <td>143</td>\n",
       "      <td>130</td>\n",
       "    </tr>\n",
       "    <tr>\n",
       "      <th>1635</th>\n",
       "      <td>684222868335505415</td>\n",
       "      <td>Someone help the girl is being mugged. Several are distracting her while two steal her shoes. Clever puppers 121/110 https://t.co/1zfnTJLt55</td>\n",
       "      <td>121</td>\n",
       "      <td>110</td>\n",
       "    </tr>\n",
       "    <tr>\n",
       "      <th>1662</th>\n",
       "      <td>682962037429899265</td>\n",
       "      <td>This is Darrel. He just robbed a 7/11 and is in a high speed police chase. Was just spotted by the helicopter 10/10 https://t.co/7EsP8LmSp5</td>\n",
       "      <td>7</td>\n",
       "      <td>11</td>\n",
       "    </tr>\n",
       "    <tr>\n",
       "      <th>1663</th>\n",
       "      <td>682808988178739200</td>\n",
       "      <td>I'm aware that I could've said 20/16, but here at WeRateDogs we are very professional. An inconsistent rating scale is simply irresponsible</td>\n",
       "      <td>20</td>\n",
       "      <td>16</td>\n",
       "    </tr>\n",
       "    <tr>\n",
       "      <th>1779</th>\n",
       "      <td>677716515794329600</td>\n",
       "      <td>IT'S PUPPERGEDDON. Total of 144/120 ...I think https://t.co/ZanVtAtvIq</td>\n",
       "      <td>144</td>\n",
       "      <td>120</td>\n",
       "    </tr>\n",
       "    <tr>\n",
       "      <th>1843</th>\n",
       "      <td>675853064436391936</td>\n",
       "      <td>Here we have an entire platoon of puppers. Total score: 88/80 would pet all at once https://t.co/y93p6FLvVw</td>\n",
       "      <td>88</td>\n",
       "      <td>80</td>\n",
       "    </tr>\n",
       "    <tr>\n",
       "      <th>2335</th>\n",
       "      <td>666287406224695296</td>\n",
       "      <td>This is an Albanian 3 1/2 legged  Episcopalian. Loves well-polished hardwood flooring. Penis on the collar. 9/10 https://t.co/d9NcXFKwLv</td>\n",
       "      <td>1</td>\n",
       "      <td>2</td>\n",
       "    </tr>\n",
       "  </tbody>\n",
       "</table>\n",
       "</div>"
      ],
      "text/plain": [
       "                tweet_id  \\\n",
       "313   835246439529840640   \n",
       "342   832088576586297345   \n",
       "433   820690176645140481   \n",
       "516   810984652412424192   \n",
       "784   775096608509886464   \n",
       "902   758467244762497024   \n",
       "1068  740373189193256964   \n",
       "1120  731156023742988288   \n",
       "1165  722974582966214656   \n",
       "1202  716439118184652801   \n",
       "1228  713900603437621249   \n",
       "1254  710658690886586372   \n",
       "1274  709198395643068416   \n",
       "1351  704054845121142784   \n",
       "1433  697463031882764288   \n",
       "1598  686035780142297088   \n",
       "1634  684225744407494656   \n",
       "1635  684222868335505415   \n",
       "1662  682962037429899265   \n",
       "1663  682808988178739200   \n",
       "1779  677716515794329600   \n",
       "1843  675853064436391936   \n",
       "2335  666287406224695296   \n",
       "\n",
       "                                                                                                                                                                           text  \\\n",
       "313                                                                          @jonnysun @Lin_Manuel ok jomny I know you're excited but 960/00 isn't a valid rating, 13/10 is tho   \n",
       "342                                                                                                                                    @docmisterio account started on 11/15/15   \n",
       "433                                                                         The floofs have been released I repeat the floofs have been released. 84/70 https://t.co/NIYC820tmd   \n",
       "516   Meet Sam. She smiles 24/7 &amp; secretly aspires to be a reindeer. \\nKeep Sam smiling by clicking and sharing this link:\\nhttps://t.co/98tB8y7y7t https://t.co/LouL5vdvxx   \n",
       "784                                RT @dog_rates: After so many requests, this is Bretagne. She was the last surviving 9/11 search dog, and our second ever 14/10. RIP https:/…   \n",
       "902                                                                                              Why does this never happen at my front door... 165/150 https://t.co/HmwrdfEfUE   \n",
       "1068                               After so many requests, this is Bretagne. She was the last surviving 9/11 search dog, and our second ever 14/10. RIP https://t.co/XAVDNDaVgQ   \n",
       "1120                                                  Say hello to this unbelievably well behaved squad of doggos. 204/170 would try to pet all at once https://t.co/yGQI3He3xv   \n",
       "1165                                                                                                           Happy 4/20 from the squad! 13/10 for all https://t.co/eV1diwds8a   \n",
       "1202                                                      This is Bluebert. He just saw that both #FinalFur match ups are split 50/50. Amazed af. 11/10 https://t.co/Kky1DPG4iq   \n",
       "1228                                                                              Happy Saturday here's 9 puppers on a bench. 99/90 good work everybody https://t.co/mpvaVxKmc1   \n",
       "1254                                                               Here's a brigade of puppers. All look very prepared for whatever happens next. 80/80 https://t.co/0eb7R1Om12   \n",
       "1274                         From left to right:\\nCletus, Jerome, Alejandro, Burp, &amp; Titson\\nNone know where camera is. 45/50 would hug all at once https://t.co/sedre1ivTK   \n",
       "1351                                                                                         Here is a whole flock of puppers.  60/50 I'll take the lot https://t.co/9dpcw6MdWa   \n",
       "1433                                                                               Happy Wednesday here's a bucket of pups. 44/40 would pet all at once https://t.co/HppvrYuamZ   \n",
       "1598                                   Yes I do realize a rating of 4/20 would've been fitting. However, it would be unjust to give these cooperative pups that low of a rating   \n",
       "1634                                             Two sneaky puppers were not initially seen, moving the rating to 143/130. Please forgive us. Thank you https://t.co/kRK51Y5ac3   \n",
       "1635                               Someone help the girl is being mugged. Several are distracting her while two steal her shoes. Clever puppers 121/110 https://t.co/1zfnTJLt55   \n",
       "1662                                This is Darrel. He just robbed a 7/11 and is in a high speed police chase. Was just spotted by the helicopter 10/10 https://t.co/7EsP8LmSp5   \n",
       "1663                                I'm aware that I could've said 20/16, but here at WeRateDogs we are very professional. An inconsistent rating scale is simply irresponsible   \n",
       "1779                                                                                                     IT'S PUPPERGEDDON. Total of 144/120 ...I think https://t.co/ZanVtAtvIq   \n",
       "1843                                                                Here we have an entire platoon of puppers. Total score: 88/80 would pet all at once https://t.co/y93p6FLvVw   \n",
       "2335                                   This is an Albanian 3 1/2 legged  Episcopalian. Loves well-polished hardwood flooring. Penis on the collar. 9/10 https://t.co/d9NcXFKwLv   \n",
       "\n",
       "      rating_numerator  rating_denominator  \n",
       "313                960                   0  \n",
       "342                 11                  15  \n",
       "433                 84                  70  \n",
       "516                 24                   7  \n",
       "784                  9                  11  \n",
       "902                165                 150  \n",
       "1068                 9                  11  \n",
       "1120               204                 170  \n",
       "1165                 4                  20  \n",
       "1202                50                  50  \n",
       "1228                99                  90  \n",
       "1254                80                  80  \n",
       "1274                45                  50  \n",
       "1351                60                  50  \n",
       "1433                44                  40  \n",
       "1598                 4                  20  \n",
       "1634               143                 130  \n",
       "1635               121                 110  \n",
       "1662                 7                  11  \n",
       "1663                20                  16  \n",
       "1779               144                 120  \n",
       "1843                88                  80  \n",
       "2335                 1                   2  "
      ]
     },
     "execution_count": 18,
     "metadata": {},
     "output_type": "execute_result"
    }
   ],
   "source": [
    "# Look at denominators over 10 as these could be wrong\n",
    "df_archive.loc[df_archive['rating_denominator'] !=10,\n",
    "                    ['tweet_id','text','rating_numerator','rating_denominator']]"
   ]
  },
  {
   "cell_type": "code",
   "execution_count": 19,
   "metadata": {},
   "outputs": [
    {
     "data": {
      "text/plain": [
       "array(['https://twitter.com/dog_rates/status/892420643555336193/photo/1',\n",
       "       'https://twitter.com/dog_rates/status/892177421306343426/photo/1',\n",
       "       'https://twitter.com/dog_rates/status/891815181378084864/photo/1',\n",
       "       ...,\n",
       "       'https://twitter.com/dog_rates/status/666033412701032449/photo/1',\n",
       "       'https://twitter.com/dog_rates/status/666029285002620928/photo/1',\n",
       "       'https://twitter.com/dog_rates/status/666020888022790149/photo/1'],\n",
       "      dtype=object)"
      ]
     },
     "execution_count": 19,
     "metadata": {},
     "output_type": "execute_result"
    }
   ],
   "source": [
    "# View expanded urls column\n",
    "df_archive['expanded_urls'].unique()"
   ]
  },
  {
   "cell_type": "code",
   "execution_count": 20,
   "metadata": {},
   "outputs": [
    {
     "data": {
      "text/plain": [
       "'http://goo.gl/ArWZfi,https://twitter.com/dog_rates/status/709901256215666688/photo/1,https://twitter.com/dog_rates/status/709901256215666688/photo/1,https://twitter.com/dog_rates/status/709901256215666688/photo/1,https://twitter.com/dog_rates/status/709901256215666688/photo/1'"
      ]
     },
     "execution_count": 20,
     "metadata": {},
     "output_type": "execute_result"
    }
   ],
   "source": [
    "df_archive['expanded_urls'][1265]"
   ]
  },
  {
   "cell_type": "code",
   "execution_count": 21,
   "metadata": {},
   "outputs": [
    {
     "data": {
      "text/plain": [
       "59"
      ]
     },
     "execution_count": 21,
     "metadata": {},
     "output_type": "execute_result"
    }
   ],
   "source": [
    "# 59 rows do not have an expanded url - this is the photo\n",
    "len(df_archive[df_archive['expanded_urls'].isnull()])"
   ]
  },
  {
   "cell_type": "code",
   "execution_count": 22,
   "metadata": {},
   "outputs": [
    {
     "data": {
      "text/plain": [
       "array(['<a href=\"http://twitter.com/download/iphone\" rel=\"nofollow\">Twitter for iPhone</a>',\n",
       "       '<a href=\"http://twitter.com\" rel=\"nofollow\">Twitter Web Client</a>',\n",
       "       '<a href=\"http://vine.co\" rel=\"nofollow\">Vine - Make a Scene</a>',\n",
       "       '<a href=\"https://about.twitter.com/products/tweetdeck\" rel=\"nofollow\">TweetDeck</a>'],\n",
       "      dtype=object)"
      ]
     },
     "execution_count": 22,
     "metadata": {},
     "output_type": "execute_result"
    }
   ],
   "source": [
    "# View source column\n",
    "df_archive['source'].unique()"
   ]
  },
  {
   "cell_type": "code",
   "execution_count": 23,
   "metadata": {},
   "outputs": [
    {
     "data": {
      "text/plain": [
       "'<a href=\"http://twitter.com\" rel=\"nofollow\">Twitter Web Client</a>'"
      ]
     },
     "execution_count": 23,
     "metadata": {},
     "output_type": "execute_result"
    }
   ],
   "source": [
    "df_archive['source'][2273]"
   ]
  },
  {
   "cell_type": "code",
   "execution_count": 24,
   "metadata": {},
   "outputs": [
    {
     "name": "stdout",
     "output_type": "stream",
     "text": [
      "This is Phineas. He's a mystical boy. Only ever appears in the hole of a donut. 13/10 https://t.co/MgUWQ76dJU\n",
      "13\n",
      "10\n",
      "This is Atticus. He's quite simply America af. 1776/10 https://t.co/GRXwMxLBkh\n",
      "1776\n",
      "10\n"
     ]
    }
   ],
   "source": [
    "# View a couple of text fields to check embedded ratings are the same as extracted ratrings. \n",
    "print(df_archive['text'][0])\n",
    "print(df_archive['rating_numerator'][0])\n",
    "print(df_archive['rating_denominator'][0])\n",
    "print(df_archive['text'][979])\n",
    "print(df_archive['rating_numerator'][979])\n",
    "print(df_archive['rating_denominator'][979])"
   ]
  },
  {
   "cell_type": "code",
   "execution_count": 25,
   "metadata": {},
   "outputs": [
    {
     "data": {
      "text/html": [
       "<div>\n",
       "<style scoped>\n",
       "    .dataframe tbody tr th:only-of-type {\n",
       "        vertical-align: middle;\n",
       "    }\n",
       "\n",
       "    .dataframe tbody tr th {\n",
       "        vertical-align: top;\n",
       "    }\n",
       "\n",
       "    .dataframe thead th {\n",
       "        text-align: right;\n",
       "    }\n",
       "</style>\n",
       "<table border=\"1\" class=\"dataframe\">\n",
       "  <thead>\n",
       "    <tr style=\"text-align: right;\">\n",
       "      <th></th>\n",
       "      <th>tweet_id</th>\n",
       "      <th>in_reply_to_status_id</th>\n",
       "      <th>in_reply_to_user_id</th>\n",
       "      <th>timestamp</th>\n",
       "      <th>source</th>\n",
       "      <th>text</th>\n",
       "      <th>retweeted_status_id</th>\n",
       "      <th>retweeted_status_user_id</th>\n",
       "      <th>retweeted_status_timestamp</th>\n",
       "      <th>expanded_urls</th>\n",
       "      <th>rating_numerator</th>\n",
       "      <th>rating_denominator</th>\n",
       "      <th>name</th>\n",
       "      <th>doggo</th>\n",
       "      <th>floofer</th>\n",
       "      <th>pupper</th>\n",
       "      <th>puppo</th>\n",
       "    </tr>\n",
       "  </thead>\n",
       "  <tbody>\n",
       "    <tr>\n",
       "      <th>979</th>\n",
       "      <td>749981277374128128</td>\n",
       "      <td>NaN</td>\n",
       "      <td>NaN</td>\n",
       "      <td>2016-07-04 15:00:45 +0000</td>\n",
       "      <td>&lt;a href=\"https://about.twitter.com/products/tweetdeck\" rel=\"nofollow\"&gt;TweetDeck&lt;/a&gt;</td>\n",
       "      <td>This is Atticus. He's quite simply America af. 1776/10 https://t.co/GRXwMxLBkh</td>\n",
       "      <td>NaN</td>\n",
       "      <td>NaN</td>\n",
       "      <td>NaN</td>\n",
       "      <td>https://twitter.com/dog_rates/status/749981277374128128/photo/1</td>\n",
       "      <td>1776</td>\n",
       "      <td>10</td>\n",
       "      <td>Atticus</td>\n",
       "      <td>None</td>\n",
       "      <td>None</td>\n",
       "      <td>None</td>\n",
       "      <td>None</td>\n",
       "    </tr>\n",
       "  </tbody>\n",
       "</table>\n",
       "</div>"
      ],
      "text/plain": [
       "               tweet_id  in_reply_to_status_id  in_reply_to_user_id  \\\n",
       "979  749981277374128128                    NaN                  NaN   \n",
       "\n",
       "                     timestamp  \\\n",
       "979  2016-07-04 15:00:45 +0000   \n",
       "\n",
       "                                                                                  source  \\\n",
       "979  <a href=\"https://about.twitter.com/products/tweetdeck\" rel=\"nofollow\">TweetDeck</a>   \n",
       "\n",
       "                                                                               text  \\\n",
       "979  This is Atticus. He's quite simply America af. 1776/10 https://t.co/GRXwMxLBkh   \n",
       "\n",
       "     retweeted_status_id  retweeted_status_user_id retweeted_status_timestamp  \\\n",
       "979                  NaN                       NaN                        NaN   \n",
       "\n",
       "                                                       expanded_urls  \\\n",
       "979  https://twitter.com/dog_rates/status/749981277374128128/photo/1   \n",
       "\n",
       "     rating_numerator  rating_denominator     name doggo floofer pupper puppo  \n",
       "979              1776                  10  Atticus  None    None   None  None  "
      ]
     },
     "execution_count": 25,
     "metadata": {},
     "output_type": "execute_result"
    }
   ],
   "source": [
    "df_archive[df_archive['rating_numerator']== 1776]"
   ]
  },
  {
   "cell_type": "code",
   "execution_count": 26,
   "metadata": {},
   "outputs": [
    {
     "name": "stdout",
     "output_type": "stream",
     "text": [
      "None       745\n",
      "a           55\n",
      "Charlie     12\n",
      "Cooper      11\n",
      "Lucy        11\n",
      "Name: name, dtype: int64\n"
     ]
    }
   ],
   "source": [
    "# View most common name values\n",
    "print(df_archive.name.value_counts().head())"
   ]
  },
  {
   "cell_type": "code",
   "execution_count": 27,
   "metadata": {},
   "outputs": [
    {
     "data": {
      "text/plain": [
       "array(['Abby', 'Ace', 'Acro', 'Adele', 'Aiden', 'Aja', 'Akumi', 'Al',\n",
       "       'Albert', 'Albus', 'Aldrick', 'Alejandro', 'Alexander',\n",
       "       'Alexanderson', 'Alf', 'Alfie', 'Alfy', 'Alice', 'Amber',\n",
       "       'Ambrose', 'Amy', 'Amélie', 'Anakin', 'Andru', 'Andy', 'Angel',\n",
       "       'Anna', 'Anthony', 'Antony', 'Apollo', 'Aqua', 'Archie', 'Arlen',\n",
       "       'Arlo', 'Arnie', 'Arnold', 'Arya', 'Ash', 'Asher', 'Ashleigh',\n",
       "       'Aspen', 'Astrid', 'Atlas', 'Atticus', 'Aubie', 'Augie', 'Autumn',\n",
       "       'Ava', 'Axel', 'Bailey', 'Baloo', 'Balto', 'Banditt', 'Banjo',\n",
       "       'Barclay', 'Barney', 'Baron', 'Barry', 'Batdog', 'Bauer', 'Baxter',\n",
       "       'Bayley', 'BeBe', 'Bear', 'Beau', 'Beckham', 'Beebop', 'Beemo',\n",
       "       'Bell', 'Bella', 'Belle', 'Ben', 'Benedict', 'Benji', 'Benny',\n",
       "       'Bentley', 'Berb', 'Berkeley', 'Bernie', 'Bert', 'Bertson',\n",
       "       'Betty', 'Beya', 'Biden', 'Bilbo', 'Billl', 'Billy', 'Binky',\n",
       "       'Birf', 'Bisquick', 'Blakely', 'Blanket', 'Blipson', 'Blitz',\n",
       "       'Bloo', 'Bloop', 'Blu', 'Blue', 'Bluebert', 'Bo', 'Bob', 'Bobb',\n",
       "       'Bobbay', 'Bobble', 'Bobby', 'Bode', 'Bodie', 'Bonaparte', 'Bones',\n",
       "       'Bookstore', 'Boomer', 'Boots', 'Boston', 'Bowie', 'Brad',\n",
       "       'Bradlay', 'Bradley', 'Brady', 'Brandi', 'Brandonald', 'Brandy',\n",
       "       'Brat', 'Brian', 'Brockly', 'Brody', 'Bronte', 'Brooks', 'Brownie',\n",
       "       'Bruce', 'Brudge', 'Bruiser', 'Bruno', 'Brutus', 'Bubba',\n",
       "       'Bubbles', 'Buckley', 'Buddah', 'Buddy', 'Bungalo', 'Burt',\n",
       "       'Butter', 'Butters', 'Cal', 'Calbert', 'Cali', 'Callie', 'Calvin',\n",
       "       'Canela', 'Cannon', 'Carbon', 'Carl', 'Carll', 'Carly', 'Carper',\n",
       "       'Carter', 'Caryl', 'Cash', 'Cassie', 'CeCe', 'Cecil', 'Cedrick',\n",
       "       'Cermet', 'Chadrick', 'Champ', 'Charl', 'Charles', 'Charleson',\n",
       "       'Charlie', 'Chase', 'Chaz', 'Cheesy', 'Chef', 'Chelsea', 'Cheryl',\n",
       "       'Chesney', 'Chester', 'Chesterson', 'Chet', 'Chevy', 'Chip',\n",
       "       'Chipson', 'Chloe', 'Chompsky', 'Christoper', 'Chubbs', 'Chuck',\n",
       "       'Chuckles', 'Chuq', 'Churlie', 'Cilantro', 'Clarence', 'Clark',\n",
       "       'Clarkus', 'Clarq', 'Claude', 'Cleopatricia', 'Clifford', 'Clybe',\n",
       "       'Clyde', 'Coco', 'Cody', 'Colby', 'Coleman', 'Colin', 'Combo',\n",
       "       'Comet', 'Cooper', 'Coops', 'Coopson', 'Cora', 'Corey', 'Covach',\n",
       "       'Craig', 'Crawford', 'Creg', 'Crimson', 'Crouton', 'Crumpet',\n",
       "       'Crystal', 'Cuddles', 'Cupcake', 'Cupid', 'Curtis', 'Daisy',\n",
       "       'Dakota', 'Dale', 'Dallas', 'Damon', 'Daniel', 'Danny', 'Dante',\n",
       "       'Darby', 'Darla', 'Darrel', 'Dash', 'Dave', 'Davey', 'Dawn',\n",
       "       'DayZ', 'Deacon', 'Derby', 'Derek', 'Devón', 'Dewey', 'Dex',\n",
       "       'Dexter', 'Dido', 'Dietrich', 'Diogi', 'Divine', 'Dixie', 'Django',\n",
       "       'Dobby', 'Doc', 'DonDon', 'Donny', 'Doobert', 'Dook', 'Dot',\n",
       "       'Dotsy', 'Doug', 'Duchess', 'Duddles', 'Dudley', 'Dug', 'Duke',\n",
       "       'Dunkin', 'Durg', 'Dutch', 'Dwight', 'Dylan', 'Earl', 'Eazy',\n",
       "       'Ebby', 'Ed', 'Edd', 'Edgar', 'Edmund', 'Eevee', 'Einstein',\n",
       "       'Eleanor', 'Eli', 'Ellie', 'Elliot', 'Emanuel', 'Ember', 'Emma',\n",
       "       'Emmie', 'Emmy', 'Enchilada', 'Erik', 'Eriq', 'Ester', 'Eugene',\n",
       "       'Eve', 'Evy', 'Fabio', 'Farfle', 'Ferg', 'Fido', 'Fiji', 'Fillup',\n",
       "       'Filup', 'Finley', 'Finn', 'Finnegus', 'Fiona', 'Fizz', 'Flash',\n",
       "       'Fletcher', 'Florence', 'Flurpson', 'Flávio', 'Frank', 'Frankie',\n",
       "       'Franklin', 'Franq', 'Fred', 'Freddery', 'Frönq', 'Furzey', 'Fwed',\n",
       "       'Fynn', 'Gabby', 'Gabe', 'Gary', 'General', 'Genevieve', 'Geno',\n",
       "       'Geoff', 'George', 'Georgie', 'Gerald', 'Gerbald', 'Gert',\n",
       "       'Gidget', 'Gilbert', 'Gin', 'Ginger', 'Gizmo', 'Glacier', 'Glenn',\n",
       "       'Godi', 'Godzilla', 'Goliath', 'Goose', 'Gordon', 'Grady', 'Grey',\n",
       "       'Griffin', 'Griswold', 'Grizz', 'Grizzie', 'Grizzwald', 'Gromit',\n",
       "       'Gunner', 'Gus', 'Gustaf', 'Gustav', 'Gòrdón', 'Hall', 'Halo',\n",
       "       'Hammond', 'Hamrick', 'Hank', 'Hanz', 'Happy', 'Harlso', 'Harnold',\n",
       "       'Harold', 'Harper', 'Harrison', 'Harry', 'Harvey', 'Hazel',\n",
       "       'Hector', 'Heinrich', 'Henry', 'Herald', 'Herb', 'Hercules',\n",
       "       'Herm', 'Hermione', 'Hero', 'Herschel', 'Hobbes', 'Holly',\n",
       "       'Horace', 'Howie', 'Hubertson', 'Huck', 'Humphrey', 'Hunter',\n",
       "       'Hurley', 'Huxley', 'Iggy', 'Ike', 'Indie', 'Iroh', 'Ito', 'Ivar',\n",
       "       'Izzy', 'JD', 'Jack', 'Jackie', 'Jackson', 'Jameson', 'Jamesy',\n",
       "       'Jangle', 'Jareld', 'Jarod', 'Jarvis', 'Jaspers', 'Jax', 'Jay',\n",
       "       'Jaycob', 'Jazz', 'Jazzy', 'Jeb', 'Jebberson', 'Jed', 'Jeffrey',\n",
       "       'Jeffri', 'Jeffrie', 'Jennifur', 'Jeph', 'Jeremy', 'Jerome',\n",
       "       'Jerry', 'Jersey', 'Jesse', 'Jessifer', 'Jessiga', 'Jett', 'Jim',\n",
       "       'Jimbo', 'Jiminus', 'Jiminy', 'Jimison', 'Jimothy', 'Jo',\n",
       "       'Jockson', 'Joey', 'Jomathan', 'Jonah', 'Jordy', 'Josep', 'Joshwa',\n",
       "       'Juckson', 'Julio', 'Julius', 'Juno', 'Kaia', 'Kaiya', 'Kallie',\n",
       "       'Kane', 'Kanu', 'Kara', 'Karl', 'Karll', 'Karma', 'Kathmandu',\n",
       "       'Katie', 'Kawhi', 'Kayla', 'Keet', 'Keith', 'Kellogg', 'Ken',\n",
       "       'Kendall', 'Kenneth', 'Kenny', 'Kenzie', 'Keurig', 'Kevin',\n",
       "       'Kevon', 'Kial', 'Kilo', 'Kingsley', 'Kirby', 'Kirk', 'Klein',\n",
       "       'Klevin', 'Kloey', 'Kobe', 'Koda', 'Kody', 'Koko', 'Kollin',\n",
       "       'Kona', 'Kota', 'Kramer', 'Kreg', 'Kreggory', 'Kulet', 'Kuyu',\n",
       "       'Kyle', 'Kyro', 'Lacy', 'Laela', 'Laika', 'Lambeau', 'Lance',\n",
       "       'Larry', 'Lassie', 'Layla', 'Leela', 'Lennon', 'Lenny', 'Lenox',\n",
       "       'Leo', 'Leonard', 'Leonidas', 'Levi', 'Liam', 'Lilah', 'Lili',\n",
       "       'Lilli', 'Lillie', 'Lilly', 'Lily', 'Lincoln', 'Linda', 'Link',\n",
       "       'Linus', 'Lipton', 'Livvie', 'Lizzie', 'Logan', 'Loki', 'Lola',\n",
       "       'Lolo', 'Longfellow', 'Loomis', 'Lorelei', 'Lorenzo', 'Lou',\n",
       "       'Louie', 'Louis', 'Luca', 'Lucia', 'Lucky', 'Lucy', 'Lugan',\n",
       "       'Lulu', 'Luna', 'Lupe', 'Luther', 'Mabel', 'Mac', 'Mack', 'Maddie',\n",
       "       'Maggie', 'Mairi', 'Maisey', 'Major', 'Maks', 'Malcolm', 'Malikai',\n",
       "       'Margo', 'Mark', 'Marlee', 'Marley', 'Marq', 'Marty', 'Marvin',\n",
       "       'Mary', 'Mason', 'Mattie', 'Maude', 'Mauve', 'Max', 'Maxaroni',\n",
       "       'Maximus', 'Maxwell', 'Maya', 'Meatball', 'Meera', 'Meyer', 'Mia',\n",
       "       'Michelangelope', 'Miguel', 'Mike', 'Miley', 'Milky', 'Millie',\n",
       "       'Milo', 'Mimosa', 'Mingus', 'Mister', 'Misty', 'Mitch', 'Mo',\n",
       "       'Moe', 'Mojo', 'Mollie', 'Molly', 'Mona', 'Monkey', 'Monster',\n",
       "       'Monty', 'Moofasa', 'Mookie', 'Moose', 'Moreton', 'Mosby',\n",
       "       'Murphy', 'Mutt', 'Mya', 'Nala', 'Naphaniel', 'Napolean', 'Nelly',\n",
       "       'Neptune', 'Newt', 'Nico', 'Nida', 'Nigel', 'Nimbus', 'Noah',\n",
       "       'Nollie', 'None', 'Noosh', 'Norman', 'Nugget', 'O', 'Oakley',\n",
       "       'Obi', 'Obie', 'Oddie', 'Odie', 'Odin', 'Olaf', 'Ole', 'Olive',\n",
       "       'Oliver', 'Olivia', 'Oliviér', 'Ollie', 'Opal', 'Opie', 'Oreo',\n",
       "       'Orion', 'Oscar', 'Oshie', 'Otis', 'Ozzie', 'Ozzy', 'Pablo',\n",
       "       'Paisley', 'Pancake', 'Panda', 'Patch', 'Patrick', 'Paull',\n",
       "       'Pavlov', 'Pawnd', 'Peaches', 'Peanut', 'Penelope', 'Penny',\n",
       "       'Pepper', 'Percy', 'Perry', 'Pete', 'Petrick', 'Pherb', 'Phil',\n",
       "       'Philbert', 'Philippe', 'Phineas', 'Phred', 'Pickles', 'Pilot',\n",
       "       'Pinot', 'Pip', 'Piper', 'Pippa', 'Pippin', 'Pipsy', 'Pluto',\n",
       "       'Poppy', 'Pubert', 'Puff', 'Pumpkin', 'Pupcasso', 'Quinn', 'Ralf',\n",
       "       'Ralph', 'Ralpher', 'Ralphie', 'Ralphson', 'Ralphus', 'Ralphy',\n",
       "       'Ralphé', 'Rambo', 'Randall', 'Raphael', 'Rascal', 'Raymond',\n",
       "       'Reagan', 'Reese', 'Reggie', 'Reginald', 'Remington', 'Remus',\n",
       "       'Remy', 'Reptar', 'Rey', 'Rhino', 'Richie', 'Ricky', 'Ridley',\n",
       "       'Riley', 'Rilo', 'Rinna', 'River', 'Rizzo', 'Rizzy', 'Robin',\n",
       "       'Rocco', 'Rocky', 'Rodman', 'Rodney', 'Rolf', 'Romeo', 'Ron',\n",
       "       'Ronduh', 'Ronnie', 'Rontu', 'Rooney', 'Roosevelt', 'Rorie',\n",
       "       'Rory', 'Roscoe', 'Rose', 'Rosie', 'Rover', 'Rubio', 'Ruby',\n",
       "       'Rudy', 'Rueben', 'Ruffles', 'Rufio', 'Rufus', 'Rumble', 'Rumpole',\n",
       "       'Rupert', 'Rusty', 'Sadie', 'Sage', 'Sailer', 'Sailor', 'Sam',\n",
       "       'Sammy', 'Sampson', 'Samsom', 'Samson', 'Sandra', 'Sandy', 'Sansa',\n",
       "       'Sarge', 'Saydee', 'Schnitzel', 'Schnozz', 'Scooter', 'Scott',\n",
       "       'Scout', 'Scruffers', 'Seamus', 'Sebastian', 'Sephie', 'Severus',\n",
       "       'Shadoe', 'Shadow', 'Shaggy', 'Shakespeare', 'Shawwn', 'Shelby',\n",
       "       'Shikha', 'Shiloh', 'Shnuggles', 'Shooter', 'Siba', 'Sid',\n",
       "       'Sierra', 'Simba', 'Skittle', 'Skittles', 'Sky', 'Skye', 'Smiley',\n",
       "       'Smokey', 'Snickers', 'Snicku', 'Snoop', 'Snoopy', 'Sobe', 'Socks',\n",
       "       'Sojourner', 'Solomon', 'Sonny', 'Sophie', 'Sora', 'Spanky',\n",
       "       'Spark', 'Sparky', 'Spencer', 'Sprinkles', 'Sprout', 'Staniel',\n",
       "       'Stanley', 'Stark', 'Stefan', 'Stella', 'Stephan', 'Stephanus',\n",
       "       'Steve', 'Steven', 'Stewie', 'Storkson', 'Stormy', 'Strider',\n",
       "       'Striker', 'Strudel', 'Stu', 'Stuart', 'Stubert', 'Sugar', 'Suki',\n",
       "       'Sully', 'Sundance', 'Sunny', 'Sunshine', 'Superpup', 'Swagger',\n",
       "       'Sweet', 'Sweets', 'Taco', 'Tango', 'Tanner', 'Tassy', 'Tater',\n",
       "       'Tayzie', 'Taz', 'Tebow', 'Ted', 'Tedders', 'Teddy', 'Tedrick',\n",
       "       'Terrance', 'Terrenth', 'Terry', 'Tess', 'Tessa', 'Theo',\n",
       "       'Theodore', 'Thor', 'Thumas', 'Tiger', 'Tilly', 'Timber',\n",
       "       'Timison', 'Timmy', 'Timofy', 'Tino', 'Titan', 'Tito', 'Tobi',\n",
       "       'Toby', 'Todo', 'Toffee', 'Tom', 'Tommy', 'Tonks', 'Torque',\n",
       "       'Tove', 'Travis', 'Traviss', 'Trevith', 'Trigger', 'Trip', 'Tripp',\n",
       "       'Trooper', 'Tuck', 'Tucker', 'Tuco', 'Tug', 'Tupawc', 'Tycho',\n",
       "       'Tyr', 'Tyrone', 'Tyrus', 'Ulysses', 'Venti', 'Vince', 'Vincent',\n",
       "       'Vinnie', 'Vinscent', 'Vixen', 'Wafer', 'Waffles', 'Walker',\n",
       "       'Wallace', 'Wally', 'Walter', 'Watson', 'Wesley', 'Wiggles',\n",
       "       'Willem', 'William', 'Willie', 'Willow', 'Willy', 'Wilson',\n",
       "       'Winifred', 'Winnie', 'Winston', 'Wishes', 'Wyatt', 'Yoda', 'Yogi',\n",
       "       'Yukon', 'Zara', 'Zeek', 'Zeke', 'Zeus', 'Ziva', 'Zoe', 'Zoey',\n",
       "       'Zooey', 'Zuzu', 'a', 'actually', 'all', 'an', 'by', 'getting',\n",
       "       'his', 'incredibly', 'infuriating', 'just', 'life', 'light', 'mad',\n",
       "       'my', 'not', 'officially', 'old', 'one', 'quite', 'space', 'such',\n",
       "       'the', 'this', 'unacceptable', 'very'], dtype=object)"
      ]
     },
     "execution_count": 27,
     "metadata": {},
     "output_type": "execute_result"
    }
   ],
   "source": [
    "# View all contents of name column\n",
    "df_archive.name.sort_values().unique()"
   ]
  },
  {
   "cell_type": "code",
   "execution_count": 28,
   "metadata": {},
   "outputs": [
    {
     "data": {
      "text/plain": [
       "55"
      ]
     },
     "execution_count": 28,
     "metadata": {},
     "output_type": "execute_result"
    }
   ],
   "source": [
    "len(df_archive[df_archive['name']=='a'])"
   ]
  },
  {
   "cell_type": "code",
   "execution_count": 29,
   "metadata": {},
   "outputs": [
    {
     "data": {
      "text/html": [
       "<div>\n",
       "<style scoped>\n",
       "    .dataframe tbody tr th:only-of-type {\n",
       "        vertical-align: middle;\n",
       "    }\n",
       "\n",
       "    .dataframe tbody tr th {\n",
       "        vertical-align: top;\n",
       "    }\n",
       "\n",
       "    .dataframe thead th {\n",
       "        text-align: right;\n",
       "    }\n",
       "</style>\n",
       "<table border=\"1\" class=\"dataframe\">\n",
       "  <thead>\n",
       "    <tr style=\"text-align: right;\">\n",
       "      <th></th>\n",
       "      <th>tweet_id</th>\n",
       "      <th>in_reply_to_status_id</th>\n",
       "      <th>in_reply_to_user_id</th>\n",
       "      <th>timestamp</th>\n",
       "      <th>source</th>\n",
       "      <th>text</th>\n",
       "      <th>retweeted_status_id</th>\n",
       "      <th>retweeted_status_user_id</th>\n",
       "      <th>retweeted_status_timestamp</th>\n",
       "      <th>expanded_urls</th>\n",
       "      <th>rating_numerator</th>\n",
       "      <th>rating_denominator</th>\n",
       "      <th>name</th>\n",
       "      <th>doggo</th>\n",
       "      <th>floofer</th>\n",
       "      <th>pupper</th>\n",
       "      <th>puppo</th>\n",
       "    </tr>\n",
       "  </thead>\n",
       "  <tbody>\n",
       "    <tr>\n",
       "      <th>775</th>\n",
       "      <td>776201521193218049</td>\n",
       "      <td>NaN</td>\n",
       "      <td>NaN</td>\n",
       "      <td>2016-09-14 23:30:38 +0000</td>\n",
       "      <td>&lt;a href=\"http://twitter.com/download/iphone\" rel=\"nofollow\"&gt;Twitter for iPhone&lt;/a&gt;</td>\n",
       "      <td>This is O'Malley. That is how he sleeps. Doesn't care what you think about it. 10/10 comfy af https://t.co/Pq150LeRaC</td>\n",
       "      <td>NaN</td>\n",
       "      <td>NaN</td>\n",
       "      <td>NaN</td>\n",
       "      <td>https://twitter.com/dog_rates/status/776201521193218049/photo/1</td>\n",
       "      <td>10</td>\n",
       "      <td>10</td>\n",
       "      <td>O</td>\n",
       "      <td>None</td>\n",
       "      <td>None</td>\n",
       "      <td>None</td>\n",
       "      <td>None</td>\n",
       "    </tr>\n",
       "  </tbody>\n",
       "</table>\n",
       "</div>"
      ],
      "text/plain": [
       "               tweet_id  in_reply_to_status_id  in_reply_to_user_id  \\\n",
       "775  776201521193218049                    NaN                  NaN   \n",
       "\n",
       "                     timestamp  \\\n",
       "775  2016-09-14 23:30:38 +0000   \n",
       "\n",
       "                                                                                 source  \\\n",
       "775  <a href=\"http://twitter.com/download/iphone\" rel=\"nofollow\">Twitter for iPhone</a>   \n",
       "\n",
       "                                                                                                                      text  \\\n",
       "775  This is O'Malley. That is how he sleeps. Doesn't care what you think about it. 10/10 comfy af https://t.co/Pq150LeRaC   \n",
       "\n",
       "     retweeted_status_id  retweeted_status_user_id retweeted_status_timestamp  \\\n",
       "775                  NaN                       NaN                        NaN   \n",
       "\n",
       "                                                       expanded_urls  \\\n",
       "775  https://twitter.com/dog_rates/status/776201521193218049/photo/1   \n",
       "\n",
       "     rating_numerator  rating_denominator name doggo floofer pupper puppo  \n",
       "775                10                  10    O  None    None   None  None  "
      ]
     },
     "execution_count": 29,
     "metadata": {},
     "output_type": "execute_result"
    }
   ],
   "source": [
    "# Look at 'O' to see if it's a valid name.\n",
    "df_archive[df_archive['name']=='O']"
   ]
  },
  {
   "cell_type": "code",
   "execution_count": 30,
   "metadata": {},
   "outputs": [
    {
     "data": {
      "text/plain": [
       "1976"
      ]
     },
     "execution_count": 30,
     "metadata": {},
     "output_type": "execute_result"
    }
   ],
   "source": [
    "# Number of records with missing dog stage\n",
    "len(df_archive[(df_archive['doggo']=='None') &\n",
    "           (df_archive['floofer']=='None') &\n",
    "           (df_archive['pupper']=='None') &\n",
    "           (df_archive['puppo']=='None')])"
   ]
  },
  {
   "cell_type": "code",
   "execution_count": 31,
   "metadata": {},
   "outputs": [
    {
     "name": "stdout",
     "output_type": "stream",
     "text": [
      "191 855851453814013952 doggo None puppo None\n",
      "200 854010172552949760 doggo floofer None None\n",
      "460 817777686764523521 doggo None None pupper\n",
      "531 808106460588765185 doggo None None pupper\n",
      "565 802265048156610565 doggo None None pupper\n",
      "575 801115127852503040 doggo None None pupper\n",
      "705 785639753186217984 doggo None None pupper\n",
      "733 781308096455073793 doggo None None pupper\n",
      "778 775898661951791106 doggo None None pupper\n",
      "822 770093767776997377 doggo None None pupper\n",
      "889 759793422261743616 doggo None None pupper\n",
      "956 751583847268179968 doggo None None pupper\n",
      "1063 741067306818797568 doggo None None pupper\n",
      "1113 733109485275860992 doggo None None pupper\n"
     ]
    }
   ],
   "source": [
    "# Records with 2 dog stages recorded\n",
    "for index, row in df_archive.iterrows():\n",
    "    count = 0\n",
    "    if row['doggo'] != 'None':\n",
    "        count +=1\n",
    "    if row['floofer'] != 'None':\n",
    "        count +=1  \n",
    "    if row['puppo'] != 'None':\n",
    "        count +=1\n",
    "    if row['pupper'] != 'None':\n",
    "        count +=1\n",
    "    if count > 1:\n",
    "        print(index, row['tweet_id'],row['doggo'],row['floofer'],row['puppo'],row['pupper'])"
   ]
  },
  {
   "cell_type": "code",
   "execution_count": 32,
   "metadata": {},
   "outputs": [
    {
     "name": "stdout",
     "output_type": "stream",
     "text": [
      "['None' 'doggo']\n",
      "['None' 'floofer']\n",
      "['None' 'puppo']\n",
      "['None' 'pupper']\n"
     ]
    }
   ],
   "source": [
    "print(df_archive['doggo'].unique())\n",
    "print(df_archive['floofer'].unique())\n",
    "print(df_archive['puppo'].unique())\n",
    "print(df_archive['pupper'].unique())"
   ]
  },
  {
   "cell_type": "code",
   "execution_count": 33,
   "metadata": {},
   "outputs": [
    {
     "data": {
      "text/html": [
       "<div>\n",
       "<style scoped>\n",
       "    .dataframe tbody tr th:only-of-type {\n",
       "        vertical-align: middle;\n",
       "    }\n",
       "\n",
       "    .dataframe tbody tr th {\n",
       "        vertical-align: top;\n",
       "    }\n",
       "\n",
       "    .dataframe thead th {\n",
       "        text-align: right;\n",
       "    }\n",
       "</style>\n",
       "<table border=\"1\" class=\"dataframe\">\n",
       "  <thead>\n",
       "    <tr style=\"text-align: right;\">\n",
       "      <th></th>\n",
       "      <th>tweet_id</th>\n",
       "      <th>jpg_url</th>\n",
       "      <th>img_num</th>\n",
       "      <th>p1</th>\n",
       "      <th>p1_conf</th>\n",
       "      <th>p1_dog</th>\n",
       "      <th>p2</th>\n",
       "      <th>p2_conf</th>\n",
       "      <th>p2_dog</th>\n",
       "      <th>p3</th>\n",
       "      <th>p3_conf</th>\n",
       "      <th>p3_dog</th>\n",
       "    </tr>\n",
       "  </thead>\n",
       "  <tbody>\n",
       "    <tr>\n",
       "      <th>126</th>\n",
       "      <td>668256321989451776</td>\n",
       "      <td>https://pbs.twimg.com/media/CUYflCXWEAAzQVu.jpg</td>\n",
       "      <td>1</td>\n",
       "      <td>canoe</td>\n",
       "      <td>0.407683</td>\n",
       "      <td>False</td>\n",
       "      <td>paddle</td>\n",
       "      <td>0.115550</td>\n",
       "      <td>False</td>\n",
       "      <td>Pembroke</td>\n",
       "      <td>0.094429</td>\n",
       "      <td>True</td>\n",
       "    </tr>\n",
       "    <tr>\n",
       "      <th>192</th>\n",
       "      <td>669567591774625800</td>\n",
       "      <td>https://pbs.twimg.com/media/CUrIK1DWoAAhECq.jpg</td>\n",
       "      <td>1</td>\n",
       "      <td>Chihuahua</td>\n",
       "      <td>0.980511</td>\n",
       "      <td>True</td>\n",
       "      <td>toy_terrier</td>\n",
       "      <td>0.009166</td>\n",
       "      <td>True</td>\n",
       "      <td>miniature_pinscher</td>\n",
       "      <td>0.002659</td>\n",
       "      <td>True</td>\n",
       "    </tr>\n",
       "    <tr>\n",
       "      <th>777</th>\n",
       "      <td>689835978131935233</td>\n",
       "      <td>https://pbs.twimg.com/media/CZLKJpDWQAA-5u4.jpg</td>\n",
       "      <td>1</td>\n",
       "      <td>collie</td>\n",
       "      <td>0.600186</td>\n",
       "      <td>True</td>\n",
       "      <td>Shetland_sheepdog</td>\n",
       "      <td>0.298939</td>\n",
       "      <td>True</td>\n",
       "      <td>borzoi</td>\n",
       "      <td>0.022616</td>\n",
       "      <td>True</td>\n",
       "    </tr>\n",
       "    <tr>\n",
       "      <th>636</th>\n",
       "      <td>681242418453299201</td>\n",
       "      <td>https://pbs.twimg.com/media/CXRCXesVAAArSXt.jpg</td>\n",
       "      <td>1</td>\n",
       "      <td>motor_scooter</td>\n",
       "      <td>0.255934</td>\n",
       "      <td>False</td>\n",
       "      <td>rifle</td>\n",
       "      <td>0.145202</td>\n",
       "      <td>False</td>\n",
       "      <td>assault_rifle</td>\n",
       "      <td>0.097000</td>\n",
       "      <td>False</td>\n",
       "    </tr>\n",
       "    <tr>\n",
       "      <th>1726</th>\n",
       "      <td>820314633777061888</td>\n",
       "      <td>https://pbs.twimg.com/media/C2JXyARUAAE4gbL.jpg</td>\n",
       "      <td>2</td>\n",
       "      <td>Gordon_setter</td>\n",
       "      <td>0.940724</td>\n",
       "      <td>True</td>\n",
       "      <td>black-and-tan_coonhound</td>\n",
       "      <td>0.042041</td>\n",
       "      <td>True</td>\n",
       "      <td>Rottweiler</td>\n",
       "      <td>0.009417</td>\n",
       "      <td>True</td>\n",
       "    </tr>\n",
       "    <tr>\n",
       "      <th>1318</th>\n",
       "      <td>755955933503782912</td>\n",
       "      <td>https://pbs.twimg.com/ext_tw_video_thumb/755955658164465664/pu/img/YcjfthN7C3z61GUj.jpg</td>\n",
       "      <td>1</td>\n",
       "      <td>Pekinese</td>\n",
       "      <td>0.596882</td>\n",
       "      <td>True</td>\n",
       "      <td>Maltese_dog</td>\n",
       "      <td>0.176478</td>\n",
       "      <td>True</td>\n",
       "      <td>Great_Pyrenees</td>\n",
       "      <td>0.026775</td>\n",
       "      <td>True</td>\n",
       "    </tr>\n",
       "    <tr>\n",
       "      <th>1390</th>\n",
       "      <td>766693177336135680</td>\n",
       "      <td>https://pbs.twimg.com/media/CqPXYLLXEAAU2HC.jpg</td>\n",
       "      <td>1</td>\n",
       "      <td>Doberman</td>\n",
       "      <td>0.948355</td>\n",
       "      <td>True</td>\n",
       "      <td>vizsla</td>\n",
       "      <td>0.015032</td>\n",
       "      <td>True</td>\n",
       "      <td>Rhodesian_ridgeback</td>\n",
       "      <td>0.009631</td>\n",
       "      <td>True</td>\n",
       "    </tr>\n",
       "    <tr>\n",
       "      <th>1402</th>\n",
       "      <td>768970937022709760</td>\n",
       "      <td>https://pbs.twimg.com/ext_tw_video_thumb/768967618174877700/pu/img/4wfsrs0ZnQ5pstXm.jpg</td>\n",
       "      <td>1</td>\n",
       "      <td>Pomeranian</td>\n",
       "      <td>0.182358</td>\n",
       "      <td>True</td>\n",
       "      <td>golden_retriever</td>\n",
       "      <td>0.110658</td>\n",
       "      <td>True</td>\n",
       "      <td>mousetrap</td>\n",
       "      <td>0.086399</td>\n",
       "      <td>False</td>\n",
       "    </tr>\n",
       "    <tr>\n",
       "      <th>1879</th>\n",
       "      <td>846514051647705089</td>\n",
       "      <td>https://pbs.twimg.com/media/C79sB4xXwAEvwKY.jpg</td>\n",
       "      <td>2</td>\n",
       "      <td>golden_retriever</td>\n",
       "      <td>0.650003</td>\n",
       "      <td>True</td>\n",
       "      <td>Leonberg</td>\n",
       "      <td>0.065199</td>\n",
       "      <td>True</td>\n",
       "      <td>Norfolk_terrier</td>\n",
       "      <td>0.052955</td>\n",
       "      <td>True</td>\n",
       "    </tr>\n",
       "    <tr>\n",
       "      <th>205</th>\n",
       "      <td>669923323644657664</td>\n",
       "      <td>https://pbs.twimg.com/media/CUwLtPeU8AAfAb2.jpg</td>\n",
       "      <td>1</td>\n",
       "      <td>car_mirror</td>\n",
       "      <td>0.343063</td>\n",
       "      <td>False</td>\n",
       "      <td>seat_belt</td>\n",
       "      <td>0.110289</td>\n",
       "      <td>False</td>\n",
       "      <td>wing</td>\n",
       "      <td>0.080148</td>\n",
       "      <td>False</td>\n",
       "    </tr>\n",
       "  </tbody>\n",
       "</table>\n",
       "</div>"
      ],
      "text/plain": [
       "                tweet_id  \\\n",
       "126   668256321989451776   \n",
       "192   669567591774625800   \n",
       "777   689835978131935233   \n",
       "636   681242418453299201   \n",
       "1726  820314633777061888   \n",
       "1318  755955933503782912   \n",
       "1390  766693177336135680   \n",
       "1402  768970937022709760   \n",
       "1879  846514051647705089   \n",
       "205   669923323644657664   \n",
       "\n",
       "                                                                                      jpg_url  \\\n",
       "126                                           https://pbs.twimg.com/media/CUYflCXWEAAzQVu.jpg   \n",
       "192                                           https://pbs.twimg.com/media/CUrIK1DWoAAhECq.jpg   \n",
       "777                                           https://pbs.twimg.com/media/CZLKJpDWQAA-5u4.jpg   \n",
       "636                                           https://pbs.twimg.com/media/CXRCXesVAAArSXt.jpg   \n",
       "1726                                          https://pbs.twimg.com/media/C2JXyARUAAE4gbL.jpg   \n",
       "1318  https://pbs.twimg.com/ext_tw_video_thumb/755955658164465664/pu/img/YcjfthN7C3z61GUj.jpg   \n",
       "1390                                          https://pbs.twimg.com/media/CqPXYLLXEAAU2HC.jpg   \n",
       "1402  https://pbs.twimg.com/ext_tw_video_thumb/768967618174877700/pu/img/4wfsrs0ZnQ5pstXm.jpg   \n",
       "1879                                          https://pbs.twimg.com/media/C79sB4xXwAEvwKY.jpg   \n",
       "205                                           https://pbs.twimg.com/media/CUwLtPeU8AAfAb2.jpg   \n",
       "\n",
       "      img_num                p1   p1_conf  p1_dog                       p2  \\\n",
       "126         1             canoe  0.407683   False                   paddle   \n",
       "192         1         Chihuahua  0.980511    True              toy_terrier   \n",
       "777         1            collie  0.600186    True        Shetland_sheepdog   \n",
       "636         1     motor_scooter  0.255934   False                    rifle   \n",
       "1726        2     Gordon_setter  0.940724    True  black-and-tan_coonhound   \n",
       "1318        1          Pekinese  0.596882    True              Maltese_dog   \n",
       "1390        1          Doberman  0.948355    True                   vizsla   \n",
       "1402        1        Pomeranian  0.182358    True         golden_retriever   \n",
       "1879        2  golden_retriever  0.650003    True                 Leonberg   \n",
       "205         1        car_mirror  0.343063   False                seat_belt   \n",
       "\n",
       "       p2_conf  p2_dog                   p3   p3_conf  p3_dog  \n",
       "126   0.115550   False             Pembroke  0.094429    True  \n",
       "192   0.009166    True   miniature_pinscher  0.002659    True  \n",
       "777   0.298939    True               borzoi  0.022616    True  \n",
       "636   0.145202   False        assault_rifle  0.097000   False  \n",
       "1726  0.042041    True           Rottweiler  0.009417    True  \n",
       "1318  0.176478    True       Great_Pyrenees  0.026775    True  \n",
       "1390  0.015032    True  Rhodesian_ridgeback  0.009631    True  \n",
       "1402  0.110658    True            mousetrap  0.086399   False  \n",
       "1879  0.065199    True      Norfolk_terrier  0.052955    True  \n",
       "205   0.110289   False                 wing  0.080148   False  "
      ]
     },
     "execution_count": 33,
     "metadata": {},
     "output_type": "execute_result"
    }
   ],
   "source": [
    "df_image_predictions.sample(10)"
   ]
  },
  {
   "cell_type": "code",
   "execution_count": 34,
   "metadata": {},
   "outputs": [
    {
     "name": "stdout",
     "output_type": "stream",
     "text": [
      "<class 'pandas.core.frame.DataFrame'>\n",
      "RangeIndex: 2075 entries, 0 to 2074\n",
      "Data columns (total 12 columns):\n",
      "tweet_id    2075 non-null int64\n",
      "jpg_url     2075 non-null object\n",
      "img_num     2075 non-null int64\n",
      "p1          2075 non-null object\n",
      "p1_conf     2075 non-null float64\n",
      "p1_dog      2075 non-null bool\n",
      "p2          2075 non-null object\n",
      "p2_conf     2075 non-null float64\n",
      "p2_dog      2075 non-null bool\n",
      "p3          2075 non-null object\n",
      "p3_conf     2075 non-null float64\n",
      "p3_dog      2075 non-null bool\n",
      "dtypes: bool(3), float64(3), int64(2), object(4)\n",
      "memory usage: 152.1+ KB\n"
     ]
    }
   ],
   "source": [
    "df_image_predictions.info()"
   ]
  },
  {
   "cell_type": "code",
   "execution_count": 35,
   "metadata": {},
   "outputs": [
    {
     "data": {
      "text/html": [
       "<div>\n",
       "<style scoped>\n",
       "    .dataframe tbody tr th:only-of-type {\n",
       "        vertical-align: middle;\n",
       "    }\n",
       "\n",
       "    .dataframe tbody tr th {\n",
       "        vertical-align: top;\n",
       "    }\n",
       "\n",
       "    .dataframe thead th {\n",
       "        text-align: right;\n",
       "    }\n",
       "</style>\n",
       "<table border=\"1\" class=\"dataframe\">\n",
       "  <thead>\n",
       "    <tr style=\"text-align: right;\">\n",
       "      <th></th>\n",
       "      <th>tweet_id</th>\n",
       "      <th>jpg_url</th>\n",
       "      <th>img_num</th>\n",
       "      <th>p1</th>\n",
       "      <th>p1_conf</th>\n",
       "      <th>p1_dog</th>\n",
       "      <th>p2</th>\n",
       "      <th>p2_conf</th>\n",
       "      <th>p2_dog</th>\n",
       "      <th>p3</th>\n",
       "      <th>p3_conf</th>\n",
       "      <th>p3_dog</th>\n",
       "    </tr>\n",
       "  </thead>\n",
       "  <tbody>\n",
       "  </tbody>\n",
       "</table>\n",
       "</div>"
      ],
      "text/plain": [
       "Empty DataFrame\n",
       "Columns: [tweet_id, jpg_url, img_num, p1, p1_conf, p1_dog, p2, p2_conf, p2_dog, p3, p3_conf, p3_dog]\n",
       "Index: []"
      ]
     },
     "execution_count": 35,
     "metadata": {},
     "output_type": "execute_result"
    }
   ],
   "source": [
    "#Are there duplicates?\n",
    "df_image_predictions[df_image_predictions.duplicated()]"
   ]
  },
  {
   "cell_type": "code",
   "execution_count": 36,
   "metadata": {},
   "outputs": [
    {
     "data": {
      "text/plain": [
       "1561                      Afghan_hound\n",
       "1855                      Afghan_hound\n",
       "1458                      Afghan_hound\n",
       "1804                      Afghan_hound\n",
       "446                  African_crocodile\n",
       "1371                      African_grey\n",
       "289                African_hunting_dog\n",
       "1883                          Airedale\n",
       "678                           Airedale\n",
       "425                           Airedale\n",
       "1319                          Airedale\n",
       "1646                          Airedale\n",
       "378                           Airedale\n",
       "49                            Airedale\n",
       "603                           Airedale\n",
       "952                           Airedale\n",
       "189                           Airedale\n",
       "582                           Airedale\n",
       "1465                          Airedale\n",
       "139     American_Staffordshire_terrier\n",
       "Name: p1, dtype: object"
      ]
     },
     "execution_count": 36,
     "metadata": {},
     "output_type": "execute_result"
    }
   ],
   "source": [
    "df_image_predictions['p1'].sort_values().head(20)"
   ]
  },
  {
   "cell_type": "code",
   "execution_count": 37,
   "metadata": {},
   "outputs": [
    {
     "data": {
      "text/plain": [
       "38      0.044333\n",
       "136     0.055379\n",
       "1093    0.059033\n",
       "1370    0.063152\n",
       "246     0.070076\n",
       "Name: p1_conf, dtype: float64"
      ]
     },
     "execution_count": 37,
     "metadata": {},
     "output_type": "execute_result"
    }
   ],
   "source": [
    "# lowest confidence\n",
    "df_image_predictions['p1_conf'].sort_values().head()"
   ]
  },
  {
   "cell_type": "code",
   "execution_count": 38,
   "metadata": {},
   "outputs": [
    {
     "data": {
      "text/plain": [
       "1372    0.999953\n",
       "149     0.999956\n",
       "1229    0.999962\n",
       "1299    0.999984\n",
       "106     1.000000\n",
       "Name: p1_conf, dtype: float64"
      ]
     },
     "execution_count": 38,
     "metadata": {},
     "output_type": "execute_result"
    }
   ],
   "source": [
    "# highest confidence\n",
    "df_image_predictions['p1_conf'].sort_values().tail()"
   ]
  },
  {
   "cell_type": "code",
   "execution_count": 39,
   "metadata": {},
   "outputs": [
    {
     "data": {
      "text/plain": [
       "array([ True, False])"
      ]
     },
     "execution_count": 39,
     "metadata": {},
     "output_type": "execute_result"
    }
   ],
   "source": [
    "df_image_predictions['p1_dog'].unique()"
   ]
  },
  {
   "cell_type": "code",
   "execution_count": 40,
   "metadata": {},
   "outputs": [
    {
     "data": {
      "text/html": [
       "<div>\n",
       "<style scoped>\n",
       "    .dataframe tbody tr th:only-of-type {\n",
       "        vertical-align: middle;\n",
       "    }\n",
       "\n",
       "    .dataframe tbody tr th {\n",
       "        vertical-align: top;\n",
       "    }\n",
       "\n",
       "    .dataframe thead th {\n",
       "        text-align: right;\n",
       "    }\n",
       "</style>\n",
       "<table border=\"1\" class=\"dataframe\">\n",
       "  <thead>\n",
       "    <tr style=\"text-align: right;\">\n",
       "      <th></th>\n",
       "      <th>id</th>\n",
       "      <th>retweet_count</th>\n",
       "      <th>favorite_count</th>\n",
       "      <th>created_at</th>\n",
       "    </tr>\n",
       "  </thead>\n",
       "  <tbody>\n",
       "    <tr>\n",
       "      <th>68</th>\n",
       "      <td>879050749262655488</td>\n",
       "      <td>4667</td>\n",
       "      <td>22286</td>\n",
       "      <td>Sun Jun 25 18:56:45 +0000 2017</td>\n",
       "    </tr>\n",
       "    <tr>\n",
       "      <th>495</th>\n",
       "      <td>812781120811126785</td>\n",
       "      <td>2105</td>\n",
       "      <td>8137</td>\n",
       "      <td>Sat Dec 24 22:04:54 +0000 2016</td>\n",
       "    </tr>\n",
       "    <tr>\n",
       "      <th>624</th>\n",
       "      <td>793601777308463104</td>\n",
       "      <td>1812</td>\n",
       "      <td>8596</td>\n",
       "      <td>Tue Nov 01 23:53:02 +0000 2016</td>\n",
       "    </tr>\n",
       "    <tr>\n",
       "      <th>1619</th>\n",
       "      <td>684241637099323392</td>\n",
       "      <td>3558</td>\n",
       "      <td>8607</td>\n",
       "      <td>Tue Jan 05 05:14:53 +0000 2016</td>\n",
       "    </tr>\n",
       "    <tr>\n",
       "      <th>243</th>\n",
       "      <td>845098359547420673</td>\n",
       "      <td>8180</td>\n",
       "      <td>0</td>\n",
       "      <td>Fri Mar 24 02:22:04 +0000 2017</td>\n",
       "    </tr>\n",
       "    <tr>\n",
       "      <th>469</th>\n",
       "      <td>815745968457060357</td>\n",
       "      <td>4553</td>\n",
       "      <td>0</td>\n",
       "      <td>Mon Jan 02 02:26:09 +0000 2017</td>\n",
       "    </tr>\n",
       "    <tr>\n",
       "      <th>114</th>\n",
       "      <td>870063196459192321</td>\n",
       "      <td>8373</td>\n",
       "      <td>36502</td>\n",
       "      <td>Wed May 31 23:43:25 +0000 2017</td>\n",
       "    </tr>\n",
       "    <tr>\n",
       "      <th>1212</th>\n",
       "      <td>713919462244790272</td>\n",
       "      <td>829</td>\n",
       "      <td>3439</td>\n",
       "      <td>Sun Mar 27 02:43:58 +0000 2016</td>\n",
       "    </tr>\n",
       "    <tr>\n",
       "      <th>2023</th>\n",
       "      <td>671561002136281088</td>\n",
       "      <td>7472</td>\n",
       "      <td>13114</td>\n",
       "      <td>Tue Dec 01 05:26:34 +0000 2015</td>\n",
       "    </tr>\n",
       "    <tr>\n",
       "      <th>2235</th>\n",
       "      <td>667861340749471744</td>\n",
       "      <td>79</td>\n",
       "      <td>244</td>\n",
       "      <td>Sat Nov 21 00:25:26 +0000 2015</td>\n",
       "    </tr>\n",
       "  </tbody>\n",
       "</table>\n",
       "</div>"
      ],
      "text/plain": [
       "                      id  retweet_count  favorite_count  \\\n",
       "68    879050749262655488           4667           22286   \n",
       "495   812781120811126785           2105            8137   \n",
       "624   793601777308463104           1812            8596   \n",
       "1619  684241637099323392           3558            8607   \n",
       "243   845098359547420673           8180               0   \n",
       "469   815745968457060357           4553               0   \n",
       "114   870063196459192321           8373           36502   \n",
       "1212  713919462244790272            829            3439   \n",
       "2023  671561002136281088           7472           13114   \n",
       "2235  667861340749471744             79             244   \n",
       "\n",
       "                          created_at  \n",
       "68    Sun Jun 25 18:56:45 +0000 2017  \n",
       "495   Sat Dec 24 22:04:54 +0000 2016  \n",
       "624   Tue Nov 01 23:53:02 +0000 2016  \n",
       "1619  Tue Jan 05 05:14:53 +0000 2016  \n",
       "243   Fri Mar 24 02:22:04 +0000 2017  \n",
       "469   Mon Jan 02 02:26:09 +0000 2017  \n",
       "114   Wed May 31 23:43:25 +0000 2017  \n",
       "1212  Sun Mar 27 02:43:58 +0000 2016  \n",
       "2023  Tue Dec 01 05:26:34 +0000 2015  \n",
       "2235  Sat Nov 21 00:25:26 +0000 2015  "
      ]
     },
     "execution_count": 40,
     "metadata": {},
     "output_type": "execute_result"
    }
   ],
   "source": [
    "df_api_data.sample(10)"
   ]
  },
  {
   "cell_type": "code",
   "execution_count": 41,
   "metadata": {},
   "outputs": [
    {
     "name": "stdout",
     "output_type": "stream",
     "text": [
      "<class 'pandas.core.frame.DataFrame'>\n",
      "RangeIndex: 2342 entries, 0 to 2341\n",
      "Data columns (total 4 columns):\n",
      "id                2342 non-null int64\n",
      "retweet_count     2342 non-null int64\n",
      "favorite_count    2342 non-null int64\n",
      "created_at        2342 non-null object\n",
      "dtypes: int64(3), object(1)\n",
      "memory usage: 73.3+ KB\n"
     ]
    }
   ],
   "source": [
    "df_api_data.info()"
   ]
  },
  {
   "cell_type": "code",
   "execution_count": 42,
   "metadata": {},
   "outputs": [
    {
     "data": {
      "text/html": [
       "<div>\n",
       "<style scoped>\n",
       "    .dataframe tbody tr th:only-of-type {\n",
       "        vertical-align: middle;\n",
       "    }\n",
       "\n",
       "    .dataframe tbody tr th {\n",
       "        vertical-align: top;\n",
       "    }\n",
       "\n",
       "    .dataframe thead th {\n",
       "        text-align: right;\n",
       "    }\n",
       "</style>\n",
       "<table border=\"1\" class=\"dataframe\">\n",
       "  <thead>\n",
       "    <tr style=\"text-align: right;\">\n",
       "      <th></th>\n",
       "      <th>id</th>\n",
       "      <th>retweet_count</th>\n",
       "      <th>favorite_count</th>\n",
       "      <th>created_at</th>\n",
       "    </tr>\n",
       "  </thead>\n",
       "  <tbody>\n",
       "  </tbody>\n",
       "</table>\n",
       "</div>"
      ],
      "text/plain": [
       "Empty DataFrame\n",
       "Columns: [id, retweet_count, favorite_count, created_at]\n",
       "Index: []"
      ]
     },
     "execution_count": 42,
     "metadata": {},
     "output_type": "execute_result"
    }
   ],
   "source": [
    "#Are there duplicates?\n",
    "df_api_data[df_api_data.duplicated()]"
   ]
  },
  {
   "cell_type": "markdown",
   "metadata": {},
   "source": [
    "## Assessments\n",
    "- A post cleaning comment is added.  This helped me track my progress\n",
    "\n",
    "#### Quality\n",
    "-  Invalid: There are 181 retweets (retweet status id is populated) DONE - removed rows which are retweets.\n",
    "-  Incomplete: Several columns have missing values (in_reply_to_status, in_reply_to_user_id, retweeted_status_id, retweeted_status_user_id, retweeted_status_timestamp DONE - removed columns.\n",
    "-  Incomplete: 59 rows have missing expanded urls (i.e. no photo). DONE - removed rows without a photo\n",
    "-  Incorrect datatypes (Timestamp, Tweet id) DONE - changed to datetime and string.\n",
    "-  Incomplete: Missing dog names - 745 'None' - RETAINED\n",
    "-  Inaccurate: Dog names - ones starting with lowercase are words, not names, e.g. 55 are 'a' DONE - replace incorrect names with nan\n",
    "-  Inaccurate: Tweet_id 776201521193218049 has a dog name of 'O'. DONE (O'Malley) \n",
    "-  Incomplete: Missing dog stage (1976 records with 'None' in all 4 stage columns) - RETAINED as nans\n",
    "-  Inaccurate: Dog stage (12 records have 2 dog stages against a dog - e.g. doggo and pupper) - RETAINED with both values\n",
    "-  Incomplete: Missing ratings - 3 records where numerator or denominator is 0. DONE - removed rows.\n",
    "-  Inaccuarate: Ratings are have been wrongly extracted from the text for some records, e.g. 24/7 in text. DONE replaced with correct ratings.\n",
    "\n",
    "-  Incomplete:Not all tweets have image predictions (2075 in predictions, 2356 in archive) \n",
    "-  Incorrect datatypes (tweet id) DONE - changed to string\n",
    "\n",
    "-  Incorrect datatypes (created_at, id) DONE - changed to datetime and string.\n",
    "-  Inconsistent: Tweet id called 'id' in api whereas it was 'tweet_id' in the other two datasets. DONE - renamed\n",
    "-  Inconsistent: timestamp called 'created_at' in api whereas it was 'timestamp' in archive. DONE - renamed to tweet_id\n",
    "-  Incomplete: Different number of tweets in each table (2356 ,2075 ,2342) \n",
    "-  Inconsistent timestamp format in archive and api dataframes. DONE\n",
    "\n",
    "\n",
    "#### Tidiness\n",
    "-  One variable per column:Four columns of values describing the dog's stage (doggo, puppo, floofer, pupper) instead of one (stage) DONE - now one dog_stage column\n",
    "-  Too many values for non dog predictions. \n",
    "-  Both api and archive tables contain data that describes tweets. DONE - joined tables \n",
    "-  Source: Not useful and difficult to read the long xml tagged url.\n",
    "-  Text: Not useful to have ratings and part of a url in the text field.\n",
    "-  Prediction columns: There is a _ between the words if the prediction has more than one word. DONE\n",
    "-  Prediction columns: Sometimes first letter is capitalized, sometimes not. DONE\n",
    "-  Prediction columns: Unhelpful column names p1, p2 and p3. DONE - renamed\n",
    "-  Not easy to analyse ratings with different measures (i.e. different denominators). DONE"
   ]
  },
  {
   "cell_type": "markdown",
   "metadata": {},
   "source": [
    "### Step 3: Data Cleaning\n",
    "-   Clean at least 8 quality issues and at least 2 tidiness issues documented in assessment step.\n",
    "-   Cleaning includes merging individual pieces of data according to the rules of tidy data."
   ]
  },
  {
   "cell_type": "code",
   "execution_count": 43,
   "metadata": {},
   "outputs": [],
   "source": [
    "# First create copies of dataframes\n",
    "df_archive_clean = df_archive.copy()\n",
    "df_image_predictions_clean = df_image_predictions.copy()\n",
    "df_api_data_clean = df_api_data.copy()"
   ]
  },
  {
   "cell_type": "markdown",
   "metadata": {},
   "source": [
    "### Clean"
   ]
  },
  {
   "cell_type": "markdown",
   "metadata": {},
   "source": [
    "#### 59 rows have missing expanded urls (i.e. no photo). \n",
    "#### Define\n",
    "- Remove rows in df_archive_clean where expanded_urls is null by reassigning only rows where expanded_urls is not null. "
   ]
  },
  {
   "cell_type": "markdown",
   "metadata": {},
   "source": [
    "#### Code"
   ]
  },
  {
   "cell_type": "code",
   "execution_count": 44,
   "metadata": {},
   "outputs": [],
   "source": [
    "df_archive_clean = df_archive_clean[df_archive_clean['expanded_urls'].notnull()]"
   ]
  },
  {
   "cell_type": "markdown",
   "metadata": {},
   "source": [
    "#### Test"
   ]
  },
  {
   "cell_type": "code",
   "execution_count": 45,
   "metadata": {},
   "outputs": [
    {
     "data": {
      "text/html": [
       "<div>\n",
       "<style scoped>\n",
       "    .dataframe tbody tr th:only-of-type {\n",
       "        vertical-align: middle;\n",
       "    }\n",
       "\n",
       "    .dataframe tbody tr th {\n",
       "        vertical-align: top;\n",
       "    }\n",
       "\n",
       "    .dataframe thead th {\n",
       "        text-align: right;\n",
       "    }\n",
       "</style>\n",
       "<table border=\"1\" class=\"dataframe\">\n",
       "  <thead>\n",
       "    <tr style=\"text-align: right;\">\n",
       "      <th></th>\n",
       "      <th>tweet_id</th>\n",
       "      <th>in_reply_to_status_id</th>\n",
       "      <th>in_reply_to_user_id</th>\n",
       "      <th>timestamp</th>\n",
       "      <th>source</th>\n",
       "      <th>text</th>\n",
       "      <th>retweeted_status_id</th>\n",
       "      <th>retweeted_status_user_id</th>\n",
       "      <th>retweeted_status_timestamp</th>\n",
       "      <th>expanded_urls</th>\n",
       "      <th>rating_numerator</th>\n",
       "      <th>rating_denominator</th>\n",
       "      <th>name</th>\n",
       "      <th>doggo</th>\n",
       "      <th>floofer</th>\n",
       "      <th>pupper</th>\n",
       "      <th>puppo</th>\n",
       "    </tr>\n",
       "  </thead>\n",
       "  <tbody>\n",
       "  </tbody>\n",
       "</table>\n",
       "</div>"
      ],
      "text/plain": [
       "Empty DataFrame\n",
       "Columns: [tweet_id, in_reply_to_status_id, in_reply_to_user_id, timestamp, source, text, retweeted_status_id, retweeted_status_user_id, retweeted_status_timestamp, expanded_urls, rating_numerator, rating_denominator, name, doggo, floofer, pupper, puppo]\n",
       "Index: []"
      ]
     },
     "execution_count": 45,
     "metadata": {},
     "output_type": "execute_result"
    }
   ],
   "source": [
    "# no rows with missing expanded_urls data\n",
    "df_archive_clean[df_archive_clean['expanded_urls'].isnull()]"
   ]
  },
  {
   "cell_type": "markdown",
   "metadata": {},
   "source": [
    "#### There are 181 retweets (retweet status id is populated)  \n",
    "#### Define\n",
    "- Remove rows in df_archive_clean where retweet_status_id is not null by reassigning only rows where retweet_status_id is null.\n",
    "\n",
    "#### Code"
   ]
  },
  {
   "cell_type": "code",
   "execution_count": 46,
   "metadata": {},
   "outputs": [],
   "source": [
    "df_archive_clean = df_archive_clean[df_archive_clean['retweeted_status_id'].isnull()]"
   ]
  },
  {
   "cell_type": "markdown",
   "metadata": {},
   "source": [
    "#### Test"
   ]
  },
  {
   "cell_type": "code",
   "execution_count": 47,
   "metadata": {},
   "outputs": [
    {
     "data": {
      "text/plain": [
       "array([nan])"
      ]
     },
     "execution_count": 47,
     "metadata": {},
     "output_type": "execute_result"
    }
   ],
   "source": [
    "# only nans remain\n",
    "df_archive_clean['retweeted_status_id'].unique()"
   ]
  },
  {
   "cell_type": "code",
   "execution_count": 48,
   "metadata": {},
   "outputs": [],
   "source": [
    "#Now drop the unecessary columns related to retweet status\n",
    "#twitter_archive_clean.drop('stages', 1)\n",
    "df_archive_clean.drop(['retweeted_status_id','retweeted_status_user_id',\n",
    "                       'retweeted_status_timestamp'],\n",
    "                      inplace=True,axis=1)"
   ]
  },
  {
   "cell_type": "code",
   "execution_count": 49,
   "metadata": {},
   "outputs": [
    {
     "name": "stdout",
     "output_type": "stream",
     "text": [
      "<class 'pandas.core.frame.DataFrame'>\n",
      "Int64Index: 2117 entries, 0 to 2355\n",
      "Data columns (total 14 columns):\n",
      "tweet_id                 2117 non-null int64\n",
      "in_reply_to_status_id    23 non-null float64\n",
      "in_reply_to_user_id      23 non-null float64\n",
      "timestamp                2117 non-null object\n",
      "source                   2117 non-null object\n",
      "text                     2117 non-null object\n",
      "expanded_urls            2117 non-null object\n",
      "rating_numerator         2117 non-null int64\n",
      "rating_denominator       2117 non-null int64\n",
      "name                     2117 non-null object\n",
      "doggo                    2117 non-null object\n",
      "floofer                  2117 non-null object\n",
      "pupper                   2117 non-null object\n",
      "puppo                    2117 non-null object\n",
      "dtypes: float64(2), int64(3), object(9)\n",
      "memory usage: 248.1+ KB\n"
     ]
    }
   ],
   "source": [
    "# Test they have been dropped\n",
    "df_archive_clean.info()"
   ]
  },
  {
   "cell_type": "markdown",
   "metadata": {},
   "source": [
    "#### in_reply_to_status_id and in_reply_to_user_id have missing values.\n",
    "\n",
    "#### Define\n",
    "-  Drop the in_reply_to_status and in_reply_to_user_id columns in df_archive_clean \n",
    "\n",
    "#### Code"
   ]
  },
  {
   "cell_type": "code",
   "execution_count": 50,
   "metadata": {},
   "outputs": [],
   "source": [
    "df_archive_clean.drop('in_reply_to_status_id', inplace=True,axis=1)\n",
    "df_archive_clean.drop('in_reply_to_user_id', inplace=True,axis=1)"
   ]
  },
  {
   "cell_type": "markdown",
   "metadata": {},
   "source": [
    "#### Test"
   ]
  },
  {
   "cell_type": "code",
   "execution_count": 51,
   "metadata": {},
   "outputs": [
    {
     "name": "stdout",
     "output_type": "stream",
     "text": [
      "<class 'pandas.core.frame.DataFrame'>\n",
      "Int64Index: 2117 entries, 0 to 2355\n",
      "Data columns (total 12 columns):\n",
      "tweet_id              2117 non-null int64\n",
      "timestamp             2117 non-null object\n",
      "source                2117 non-null object\n",
      "text                  2117 non-null object\n",
      "expanded_urls         2117 non-null object\n",
      "rating_numerator      2117 non-null int64\n",
      "rating_denominator    2117 non-null int64\n",
      "name                  2117 non-null object\n",
      "doggo                 2117 non-null object\n",
      "floofer               2117 non-null object\n",
      "pupper                2117 non-null object\n",
      "puppo                 2117 non-null object\n",
      "dtypes: int64(3), object(9)\n",
      "memory usage: 215.0+ KB\n"
     ]
    }
   ],
   "source": [
    "df_archive_clean.info()"
   ]
  },
  {
   "cell_type": "markdown",
   "metadata": {},
   "source": [
    "#### Missing ratings - 3 records where numerator or denominator is 0.\n",
    "#### Define\n",
    "- Remove rows in df_archive_clean where rating_numerator or rating_denominator = 0 by reassigning only rows where rating_numerator != 0 or rating_denominator 1 != 0\n",
    "\n",
    "#### Code"
   ]
  },
  {
   "cell_type": "code",
   "execution_count": 52,
   "metadata": {},
   "outputs": [],
   "source": [
    "df_archive_clean = df_archive_clean[df_archive_clean['rating_numerator'] != 0]"
   ]
  },
  {
   "cell_type": "markdown",
   "metadata": {},
   "source": [
    "#### Test"
   ]
  },
  {
   "cell_type": "code",
   "execution_count": 53,
   "metadata": {},
   "outputs": [
    {
     "data": {
      "text/html": [
       "<div>\n",
       "<style scoped>\n",
       "    .dataframe tbody tr th:only-of-type {\n",
       "        vertical-align: middle;\n",
       "    }\n",
       "\n",
       "    .dataframe tbody tr th {\n",
       "        vertical-align: top;\n",
       "    }\n",
       "\n",
       "    .dataframe thead th {\n",
       "        text-align: right;\n",
       "    }\n",
       "</style>\n",
       "<table border=\"1\" class=\"dataframe\">\n",
       "  <thead>\n",
       "    <tr style=\"text-align: right;\">\n",
       "      <th></th>\n",
       "      <th>tweet_id</th>\n",
       "      <th>timestamp</th>\n",
       "      <th>source</th>\n",
       "      <th>text</th>\n",
       "      <th>expanded_urls</th>\n",
       "      <th>rating_numerator</th>\n",
       "      <th>rating_denominator</th>\n",
       "      <th>name</th>\n",
       "      <th>doggo</th>\n",
       "      <th>floofer</th>\n",
       "      <th>pupper</th>\n",
       "      <th>puppo</th>\n",
       "    </tr>\n",
       "  </thead>\n",
       "  <tbody>\n",
       "  </tbody>\n",
       "</table>\n",
       "</div>"
      ],
      "text/plain": [
       "Empty DataFrame\n",
       "Columns: [tweet_id, timestamp, source, text, expanded_urls, rating_numerator, rating_denominator, name, doggo, floofer, pupper, puppo]\n",
       "Index: []"
      ]
     },
     "execution_count": 53,
     "metadata": {},
     "output_type": "execute_result"
    }
   ],
   "source": [
    "df_archive_clean[df_archive_clean.rating_denominator == 0]"
   ]
  },
  {
   "cell_type": "code",
   "execution_count": 54,
   "metadata": {},
   "outputs": [
    {
     "data": {
      "text/html": [
       "<div>\n",
       "<style scoped>\n",
       "    .dataframe tbody tr th:only-of-type {\n",
       "        vertical-align: middle;\n",
       "    }\n",
       "\n",
       "    .dataframe tbody tr th {\n",
       "        vertical-align: top;\n",
       "    }\n",
       "\n",
       "    .dataframe thead th {\n",
       "        text-align: right;\n",
       "    }\n",
       "</style>\n",
       "<table border=\"1\" class=\"dataframe\">\n",
       "  <thead>\n",
       "    <tr style=\"text-align: right;\">\n",
       "      <th></th>\n",
       "      <th>tweet_id</th>\n",
       "      <th>timestamp</th>\n",
       "      <th>source</th>\n",
       "      <th>text</th>\n",
       "      <th>expanded_urls</th>\n",
       "      <th>rating_numerator</th>\n",
       "      <th>rating_denominator</th>\n",
       "      <th>name</th>\n",
       "      <th>doggo</th>\n",
       "      <th>floofer</th>\n",
       "      <th>pupper</th>\n",
       "      <th>puppo</th>\n",
       "    </tr>\n",
       "  </thead>\n",
       "  <tbody>\n",
       "  </tbody>\n",
       "</table>\n",
       "</div>"
      ],
      "text/plain": [
       "Empty DataFrame\n",
       "Columns: [tweet_id, timestamp, source, text, expanded_urls, rating_numerator, rating_denominator, name, doggo, floofer, pupper, puppo]\n",
       "Index: []"
      ]
     },
     "execution_count": 54,
     "metadata": {},
     "output_type": "execute_result"
    }
   ],
   "source": [
    "# The row with rating denominator value of 0 had already been removed as a side effect \n",
    "#of a previous cleaning code.\n",
    "df_archive_clean[df_archive_clean.rating_denominator == 0]"
   ]
  },
  {
   "cell_type": "markdown",
   "metadata": {},
   "source": [
    "#### Ratings are have been wrongly extracted from the text for some records.\n",
    "#### Define \n",
    "- Replace numerator and denominator for following records as listed:\n",
    "-       810984652412424192 has no rating \n",
    "-       740373189193256964 should be 14/10\n",
    "-       722974582966214656 should be 13/10\n",
    "-       716439118184652801 should be 11/10\n",
    "-       682962037429899265 should be 10/10\n",
    "\n",
    "#### Code"
   ]
  },
  {
   "cell_type": "code",
   "execution_count": 55,
   "metadata": {},
   "outputs": [],
   "source": [
    "df_archive_clean.loc[df_archive_clean['tweet_id'] == 740373189193256964, \n",
    "                     'rating_numerator'] = 14\n",
    "df_archive_clean.loc[df_archive_clean['tweet_id'] == 740373189193256964, \n",
    "                     'rating_denominator'] = 10\n",
    "\n",
    "df_archive_clean.loc[df_archive_clean['tweet_id'] == 722974582966214656, \n",
    "                     'rating_numerator'] = 13\n",
    "df_archive_clean.loc[df_archive_clean['tweet_id'] == 722974582966214656, \n",
    "                     'rating_denominator'] = 10\n",
    "\n",
    "df_archive_clean.loc[df_archive_clean['tweet_id'] == 716439118184652801, \n",
    "                     'rating_numerator'] = 11\n",
    "df_archive_clean.loc[df_archive_clean['tweet_id'] == 716439118184652801, \n",
    "                     'rating_denominator'] = 10\n",
    "\n",
    "df_archive_clean.loc[df_archive_clean['tweet_id'] == 682962037429899265, \n",
    "                     'rating_numerator'] = 10\n",
    "df_archive_clean.loc[df_archive_clean['tweet_id'] == 682962037429899265, \n",
    "                     'rating_denominator'] = 10"
   ]
  },
  {
   "cell_type": "code",
   "execution_count": 56,
   "metadata": {},
   "outputs": [],
   "source": [
    "# drop the row with no rating \n",
    "df_archive_clean = df_archive_clean[df_archive_clean['tweet_id'] != 810984652412424192]"
   ]
  },
  {
   "cell_type": "markdown",
   "metadata": {},
   "source": [
    "#### Test"
   ]
  },
  {
   "cell_type": "code",
   "execution_count": 57,
   "metadata": {},
   "outputs": [
    {
     "name": "stdout",
     "output_type": "stream",
     "text": [
      "Empty DataFrame\n",
      "Columns: [rating_numerator, rating_denominator]\n",
      "Index: []\n",
      "      rating_numerator  rating_denominator\n",
      "1068                14                  10\n",
      "      rating_numerator  rating_denominator\n",
      "1165                13                  10\n",
      "      rating_numerator  rating_denominator\n",
      "1202                11                  10\n",
      "      rating_numerator  rating_denominator\n",
      "1662                10                  10\n"
     ]
    }
   ],
   "source": [
    "print(df_archive_clean.loc[df_archive_clean['tweet_id']==810984652412424192,\n",
    "                           ['rating_numerator','rating_denominator']])\n",
    "print(df_archive_clean.loc[df_archive_clean['tweet_id']==740373189193256964,\n",
    "                           ['rating_numerator','rating_denominator']])\n",
    "print(df_archive_clean.loc[df_archive_clean['tweet_id']==722974582966214656,\n",
    "                           ['rating_numerator','rating_denominator']])\n",
    "print(df_archive_clean.loc[df_archive_clean['tweet_id']==716439118184652801,\n",
    "                           ['rating_numerator','rating_denominator']])\n",
    "print(df_archive_clean.loc[df_archive_clean['tweet_id']==682962037429899265,\n",
    "                           ['rating_numerator','rating_denominator']])\n",
    "\n",
    "\n",
    "#810984652412424192 should be deleted\n",
    "#740373189193256964 should be 14/10\n",
    "#722974582966214656 should be 13/10\n",
    "#716439118184652801 should be 11/10\n",
    "#682962037429899265 should be 10/10"
   ]
  },
  {
   "cell_type": "markdown",
   "metadata": {},
   "source": [
    "#### Not easy to analyse ratings with different measures (i.e. different denominators)\n",
    "#### Define\n",
    "- Create new column new_rating which gives rating as one value -numerator divided by denominator\n",
    "\n",
    "#### Code"
   ]
  },
  {
   "cell_type": "code",
   "execution_count": 58,
   "metadata": {},
   "outputs": [],
   "source": [
    "df_archive_clean['new_rating'] = np.divide(df_archive_clean['rating_numerator'],\n",
    "                                           df_archive_clean['rating_denominator'])"
   ]
  },
  {
   "cell_type": "markdown",
   "metadata": {},
   "source": [
    "#### Test"
   ]
  },
  {
   "cell_type": "code",
   "execution_count": 59,
   "metadata": {},
   "outputs": [
    {
     "name": "stdout",
     "output_type": "stream",
     "text": [
      "<class 'pandas.core.frame.DataFrame'>\n",
      "Int64Index: 2114 entries, 0 to 2355\n",
      "Data columns (total 13 columns):\n",
      "tweet_id              2114 non-null int64\n",
      "timestamp             2114 non-null object\n",
      "source                2114 non-null object\n",
      "text                  2114 non-null object\n",
      "expanded_urls         2114 non-null object\n",
      "rating_numerator      2114 non-null int64\n",
      "rating_denominator    2114 non-null int64\n",
      "name                  2114 non-null object\n",
      "doggo                 2114 non-null object\n",
      "floofer               2114 non-null object\n",
      "pupper                2114 non-null object\n",
      "puppo                 2114 non-null object\n",
      "new_rating            2114 non-null float64\n",
      "dtypes: float64(1), int64(3), object(9)\n",
      "memory usage: 231.2+ KB\n"
     ]
    }
   ],
   "source": [
    "df_archive_clean.info()"
   ]
  },
  {
   "cell_type": "code",
   "execution_count": 60,
   "metadata": {},
   "outputs": [
    {
     "data": {
      "text/html": [
       "<div>\n",
       "<style scoped>\n",
       "    .dataframe tbody tr th:only-of-type {\n",
       "        vertical-align: middle;\n",
       "    }\n",
       "\n",
       "    .dataframe tbody tr th {\n",
       "        vertical-align: top;\n",
       "    }\n",
       "\n",
       "    .dataframe thead th {\n",
       "        text-align: right;\n",
       "    }\n",
       "</style>\n",
       "<table border=\"1\" class=\"dataframe\">\n",
       "  <thead>\n",
       "    <tr style=\"text-align: right;\">\n",
       "      <th></th>\n",
       "      <th>new_rating</th>\n",
       "      <th>rating_numerator</th>\n",
       "      <th>rating_denominator</th>\n",
       "    </tr>\n",
       "  </thead>\n",
       "  <tbody>\n",
       "    <tr>\n",
       "      <th>1521</th>\n",
       "      <td>1.0</td>\n",
       "      <td>10</td>\n",
       "      <td>10</td>\n",
       "    </tr>\n",
       "    <tr>\n",
       "      <th>454</th>\n",
       "      <td>1.1</td>\n",
       "      <td>11</td>\n",
       "      <td>10</td>\n",
       "    </tr>\n",
       "    <tr>\n",
       "      <th>1868</th>\n",
       "      <td>1.0</td>\n",
       "      <td>10</td>\n",
       "      <td>10</td>\n",
       "    </tr>\n",
       "    <tr>\n",
       "      <th>923</th>\n",
       "      <td>1.2</td>\n",
       "      <td>12</td>\n",
       "      <td>10</td>\n",
       "    </tr>\n",
       "    <tr>\n",
       "      <th>1951</th>\n",
       "      <td>1.1</td>\n",
       "      <td>11</td>\n",
       "      <td>10</td>\n",
       "    </tr>\n",
       "    <tr>\n",
       "      <th>2119</th>\n",
       "      <td>0.6</td>\n",
       "      <td>6</td>\n",
       "      <td>10</td>\n",
       "    </tr>\n",
       "    <tr>\n",
       "      <th>2160</th>\n",
       "      <td>0.9</td>\n",
       "      <td>9</td>\n",
       "      <td>10</td>\n",
       "    </tr>\n",
       "    <tr>\n",
       "      <th>18</th>\n",
       "      <td>1.3</td>\n",
       "      <td>13</td>\n",
       "      <td>10</td>\n",
       "    </tr>\n",
       "    <tr>\n",
       "      <th>2210</th>\n",
       "      <td>1.0</td>\n",
       "      <td>10</td>\n",
       "      <td>10</td>\n",
       "    </tr>\n",
       "    <tr>\n",
       "      <th>233</th>\n",
       "      <td>1.2</td>\n",
       "      <td>12</td>\n",
       "      <td>10</td>\n",
       "    </tr>\n",
       "  </tbody>\n",
       "</table>\n",
       "</div>"
      ],
      "text/plain": [
       "      new_rating  rating_numerator  rating_denominator\n",
       "1521         1.0                10                  10\n",
       "454          1.1                11                  10\n",
       "1868         1.0                10                  10\n",
       "923          1.2                12                  10\n",
       "1951         1.1                11                  10\n",
       "2119         0.6                 6                  10\n",
       "2160         0.9                 9                  10\n",
       "18           1.3                13                  10\n",
       "2210         1.0                10                  10\n",
       "233          1.2                12                  10"
      ]
     },
     "execution_count": 60,
     "metadata": {},
     "output_type": "execute_result"
    }
   ],
   "source": [
    "df_archive_clean[['new_rating','rating_numerator',\n",
    "                  'rating_denominator']].sample(10)"
   ]
  },
  {
   "cell_type": "markdown",
   "metadata": {},
   "source": [
    "#### Four columns of values describing the dog's stage instead of one. \n",
    "#### Define\n",
    "- Reshape dataframe to have one column to contain the dog stage (doggo, floofer, pupper, puppo, null, or combination).\n",
    "- Create new column 'dog_stage' and copy doggo floofer, pupper and puppo values into the new column.\n",
    "- Drop the old columns\n",
    "- Replace blank values with NaN.\n",
    "\n",
    "#### Code"
   ]
  },
  {
   "cell_type": "code",
   "execution_count": 61,
   "metadata": {},
   "outputs": [],
   "source": [
    "# Replace all instances of 'None' in the dog stage columns\n",
    "dog_stage = ['doggo','pupper', 'floofer', 'puppo']\n",
    "for stage in dog_stage:\n",
    "        df_archive_clean[stage] = df_archive_clean[stage].replace('None', '')"
   ]
  },
  {
   "cell_type": "code",
   "execution_count": 62,
   "metadata": {},
   "outputs": [],
   "source": [
    "# use string concatination to add the stage to the dog_stage column\n",
    "df_archive_clean['dog_stage'] = \\\n",
    "    df_archive_clean['doggo'].str.cat(df_archive_clean['floofer']) \\\n",
    "    .str.cat(df_archive_clean['pupper']).str.cat(df_archive_clean['puppo'])"
   ]
  },
  {
   "cell_type": "code",
   "execution_count": 63,
   "metadata": {},
   "outputs": [],
   "source": [
    "# drop the four stage columns\n",
    "df_archive_clean = df_archive_clean.drop(['doggo','floofer','pupper','puppo'], axis = 1)"
   ]
  },
  {
   "cell_type": "code",
   "execution_count": 64,
   "metadata": {},
   "outputs": [],
   "source": [
    "# replace blank dog_stage values with NaN\n",
    "df_archive_clean['dog_stage'].replace('', np.nan,inplace=True)"
   ]
  },
  {
   "cell_type": "markdown",
   "metadata": {},
   "source": [
    "#### Test"
   ]
  },
  {
   "cell_type": "code",
   "execution_count": 66,
   "metadata": {},
   "outputs": [
    {
     "data": {
      "text/plain": [
       "pupper          222\n",
       "doggo            72\n",
       "puppo            23\n",
       "doggopupper      10\n",
       "floofer           9\n",
       "doggofloofer      1\n",
       "doggopuppo        1\n",
       "Name: dog_stage, dtype: int64"
      ]
     },
     "execution_count": 66,
     "metadata": {},
     "output_type": "execute_result"
    }
   ],
   "source": [
    "df_archive_clean['dog_stage'].value_counts()"
   ]
  },
  {
   "cell_type": "code",
   "execution_count": 67,
   "metadata": {},
   "outputs": [
    {
     "name": "stdout",
     "output_type": "stream",
     "text": [
      "<class 'pandas.core.frame.DataFrame'>\n",
      "RangeIndex: 2342 entries, 0 to 2341\n",
      "Data columns (total 4 columns):\n",
      "id                2342 non-null int64\n",
      "retweet_count     2342 non-null int64\n",
      "favorite_count    2342 non-null int64\n",
      "created_at        2342 non-null object\n",
      "dtypes: int64(3), object(1)\n",
      "memory usage: 73.3+ KB\n"
     ]
    }
   ],
   "source": [
    "df_api_data.info()"
   ]
  },
  {
   "cell_type": "markdown",
   "metadata": {},
   "source": [
    "#### Incorrect and inconsistent datatypes \n",
    "#### Define\n",
    "- Convert tweet_id from int to string in df_archive_clean dataframe\n",
    "- Convert timestamp from int to datetime in df_archive_clean dataframe\n",
    "- Convert dog_stage from string to category in df_archive_clean dataframe\n",
    "\n",
    "- Convert tweet_id from int to string in df_image_predictions_clean dataframe\n",
    "\n",
    "- Convert id from int to string in df_api_data_clean dataframe and rename to tweet_id\n",
    "- Convert created_at from int to datetime in df_api_data_clean dataframe and rename to timestamp\n",
    "\n",
    "#### Code"
   ]
  },
  {
   "cell_type": "code",
   "execution_count": 68,
   "metadata": {},
   "outputs": [],
   "source": [
    "df_archive_clean['tweet_id'] = df_archive_clean.tweet_id.astype(str)"
   ]
  },
  {
   "cell_type": "code",
   "execution_count": 69,
   "metadata": {},
   "outputs": [],
   "source": [
    "df_archive_clean['timestamp'] = pd.to_datetime(df_archive_clean['timestamp'])"
   ]
  },
  {
   "cell_type": "code",
   "execution_count": 70,
   "metadata": {},
   "outputs": [],
   "source": [
    "df_archive_clean['dog_stage'] = df_archive_clean.dog_stage.astype('category')"
   ]
  },
  {
   "cell_type": "code",
   "execution_count": 71,
   "metadata": {},
   "outputs": [],
   "source": [
    "df_image_predictions_clean['tweet_id'] = df_image_predictions_clean.tweet_id.astype(str)"
   ]
  },
  {
   "cell_type": "code",
   "execution_count": 72,
   "metadata": {},
   "outputs": [],
   "source": [
    "df_api_data_clean['id'] = df_api_data_clean.id.astype(str)"
   ]
  },
  {
   "cell_type": "code",
   "execution_count": 73,
   "metadata": {},
   "outputs": [],
   "source": [
    "df_api_data_clean['created_at'] = pd.to_datetime(df_api_data_clean['created_at'])"
   ]
  },
  {
   "cell_type": "code",
   "execution_count": 74,
   "metadata": {},
   "outputs": [],
   "source": [
    "df_api_data_clean.rename(columns={\"id\": \"tweet_id\", \"created_at\": \"timestamp\"}, inplace=True)"
   ]
  },
  {
   "cell_type": "markdown",
   "metadata": {},
   "source": [
    "#### Test"
   ]
  },
  {
   "cell_type": "code",
   "execution_count": 75,
   "metadata": {},
   "outputs": [
    {
     "name": "stdout",
     "output_type": "stream",
     "text": [
      "<class 'pandas.core.frame.DataFrame'>\n",
      "Int64Index: 2114 entries, 0 to 2355\n",
      "Data columns (total 10 columns):\n",
      "tweet_id              2114 non-null object\n",
      "timestamp             2114 non-null datetime64[ns]\n",
      "source                2114 non-null object\n",
      "text                  2114 non-null object\n",
      "expanded_urls         2114 non-null object\n",
      "rating_numerator      2114 non-null int64\n",
      "rating_denominator    2114 non-null int64\n",
      "name                  2114 non-null object\n",
      "new_rating            2114 non-null float64\n",
      "dog_stage             338 non-null category\n",
      "dtypes: category(1), datetime64[ns](1), float64(1), int64(2), object(5)\n",
      "memory usage: 167.6+ KB\n"
     ]
    }
   ],
   "source": [
    "df_archive_clean.info()"
   ]
  },
  {
   "cell_type": "code",
   "execution_count": 76,
   "metadata": {},
   "outputs": [
    {
     "name": "stdout",
     "output_type": "stream",
     "text": [
      "<class 'pandas.core.frame.DataFrame'>\n",
      "RangeIndex: 2075 entries, 0 to 2074\n",
      "Data columns (total 12 columns):\n",
      "tweet_id    2075 non-null object\n",
      "jpg_url     2075 non-null object\n",
      "img_num     2075 non-null int64\n",
      "p1          2075 non-null object\n",
      "p1_conf     2075 non-null float64\n",
      "p1_dog      2075 non-null bool\n",
      "p2          2075 non-null object\n",
      "p2_conf     2075 non-null float64\n",
      "p2_dog      2075 non-null bool\n",
      "p3          2075 non-null object\n",
      "p3_conf     2075 non-null float64\n",
      "p3_dog      2075 non-null bool\n",
      "dtypes: bool(3), float64(3), int64(1), object(5)\n",
      "memory usage: 152.1+ KB\n"
     ]
    }
   ],
   "source": [
    "df_image_predictions_clean.info()"
   ]
  },
  {
   "cell_type": "code",
   "execution_count": 77,
   "metadata": {},
   "outputs": [
    {
     "name": "stdout",
     "output_type": "stream",
     "text": [
      "<class 'pandas.core.frame.DataFrame'>\n",
      "RangeIndex: 2342 entries, 0 to 2341\n",
      "Data columns (total 4 columns):\n",
      "tweet_id          2342 non-null object\n",
      "retweet_count     2342 non-null int64\n",
      "favorite_count    2342 non-null int64\n",
      "timestamp         2342 non-null datetime64[ns]\n",
      "dtypes: datetime64[ns](1), int64(2), object(1)\n",
      "memory usage: 73.3+ KB\n"
     ]
    }
   ],
   "source": [
    "df_api_data_clean.info()"
   ]
  },
  {
   "cell_type": "markdown",
   "metadata": {},
   "source": [
    "#### Dog names - ones starting with lowercase are incorrect, e.g. 55 are 'a'  \n",
    "#### Define\n",
    "- Replace all name values starting with lowercase with NaNs\n",
    "\n",
    "#### Code"
   ]
  },
  {
   "cell_type": "code",
   "execution_count": 78,
   "metadata": {},
   "outputs": [
    {
     "data": {
      "text/plain": [
       "array(['Abby', 'Ace', 'Acro', 'Adele', 'Aiden', 'Aja', 'Akumi', 'Al',\n",
       "       'Albert', 'Albus', 'Aldrick', 'Alejandro', 'Alexander',\n",
       "       'Alexanderson', 'Alf', 'Alfie', 'Alfy', 'Alice', 'Amber',\n",
       "       'Ambrose', 'Amy', 'Amélie', 'Anakin', 'Andru', 'Andy', 'Angel',\n",
       "       'Anna', 'Anthony', 'Antony', 'Apollo', 'Aqua', 'Archie', 'Arlen',\n",
       "       'Arlo', 'Arnie', 'Arnold', 'Arya', 'Ash', 'Asher', 'Ashleigh',\n",
       "       'Aspen', 'Astrid', 'Atlas', 'Atticus', 'Aubie', 'Augie', 'Autumn',\n",
       "       'Ava', 'Axel', 'Bailey', 'Baloo', 'Balto', 'Banditt', 'Banjo',\n",
       "       'Barclay', 'Barney', 'Baron', 'Barry', 'Batdog', 'Bauer', 'Baxter',\n",
       "       'Bayley', 'BeBe', 'Bear', 'Beau', 'Beckham', 'Beebop', 'Beemo',\n",
       "       'Bell', 'Bella', 'Belle', 'Ben', 'Benedict', 'Benji', 'Benny',\n",
       "       'Bentley', 'Berb', 'Berkeley', 'Bernie', 'Bert', 'Bertson',\n",
       "       'Betty', 'Beya', 'Biden', 'Bilbo', 'Billl', 'Billy', 'Binky',\n",
       "       'Birf', 'Bisquick', 'Blakely', 'Blanket', 'Blipson', 'Blitz',\n",
       "       'Bloo', 'Bloop', 'Blu', 'Blue', 'Bluebert', 'Bo', 'Bob', 'Bobb',\n",
       "       'Bobbay', 'Bobble', 'Bobby', 'Bode', 'Bodie', 'Bonaparte', 'Bones',\n",
       "       'Bookstore', 'Boomer', 'Boots', 'Boston', 'Bowie', 'Brad',\n",
       "       'Bradlay', 'Bradley', 'Brady', 'Brandi', 'Brandonald', 'Brandy',\n",
       "       'Brat', 'Brian', 'Brockly', 'Brody', 'Bronte', 'Brooks', 'Brownie',\n",
       "       'Bruce', 'Brudge', 'Bruiser', 'Bruno', 'Brutus', 'Bubba',\n",
       "       'Bubbles', 'Buckley', 'Buddah', 'Buddy', 'Bungalo', 'Burt',\n",
       "       'Butter', 'Butters', 'Cal', 'Calbert', 'Cali', 'Callie', 'Calvin',\n",
       "       'Canela', 'Cannon', 'Carbon', 'Carl', 'Carll', 'Carly', 'Carper',\n",
       "       'Carter', 'Caryl', 'Cash', 'Cassie', 'CeCe', 'Cecil', 'Cedrick',\n",
       "       'Cermet', 'Chadrick', 'Champ', 'Charl', 'Charles', 'Charleson',\n",
       "       'Charlie', 'Chase', 'Chaz', 'Cheesy', 'Chef', 'Chelsea', 'Cheryl',\n",
       "       'Chesney', 'Chester', 'Chesterson', 'Chet', 'Chevy', 'Chip',\n",
       "       'Chipson', 'Chloe', 'Chompsky', 'Christoper', 'Chubbs', 'Chuck',\n",
       "       'Chuckles', 'Chuq', 'Churlie', 'Cilantro', 'Clarence', 'Clark',\n",
       "       'Clarkus', 'Clarq', 'Claude', 'Cleopatricia', 'Clifford', 'Clybe',\n",
       "       'Clyde', 'Coco', 'Cody', 'Colby', 'Coleman', 'Colin', 'Combo',\n",
       "       'Comet', 'Cooper', 'Coops', 'Coopson', 'Cora', 'Corey', 'Covach',\n",
       "       'Craig', 'Crawford', 'Creg', 'Crimson', 'Crouton', 'Crumpet',\n",
       "       'Crystal', 'Cuddles', 'Cupcake', 'Cupid', 'Curtis', 'Daisy',\n",
       "       'Dakota', 'Dale', 'Dallas', 'Damon', 'Daniel', 'Danny', 'Dante',\n",
       "       'Darby', 'Darla', 'Darrel', 'Dash', 'Dave', 'Davey', 'Dawn',\n",
       "       'DayZ', 'Deacon', 'Derby', 'Derek', 'Devón', 'Dewey', 'Dex',\n",
       "       'Dexter', 'Dido', 'Dietrich', 'Diogi', 'Divine', 'Dixie', 'Django',\n",
       "       'Dobby', 'Doc', 'DonDon', 'Donny', 'Doobert', 'Dook', 'Dot',\n",
       "       'Dotsy', 'Doug', 'Duchess', 'Duddles', 'Dudley', 'Dug', 'Duke',\n",
       "       'Dunkin', 'Durg', 'Dutch', 'Dwight', 'Dylan', 'Earl', 'Eazy',\n",
       "       'Ebby', 'Ed', 'Edd', 'Edgar', 'Edmund', 'Eevee', 'Einstein',\n",
       "       'Eleanor', 'Eli', 'Ellie', 'Elliot', 'Emanuel', 'Ember', 'Emma',\n",
       "       'Emmie', 'Emmy', 'Enchilada', 'Erik', 'Eriq', 'Ester', 'Eugene',\n",
       "       'Eve', 'Evy', 'Fabio', 'Farfle', 'Ferg', 'Fido', 'Fiji', 'Fillup',\n",
       "       'Filup', 'Finley', 'Finn', 'Finnegus', 'Fiona', 'Fizz', 'Flash',\n",
       "       'Fletcher', 'Florence', 'Flurpson', 'Flávio', 'Frank', 'Frankie',\n",
       "       'Franklin', 'Franq', 'Fred', 'Freddery', 'Frönq', 'Furzey', 'Fwed',\n",
       "       'Fynn', 'Gabe', 'Gary', 'General', 'Genevieve', 'Geno', 'Geoff',\n",
       "       'George', 'Georgie', 'Gerald', 'Gerbald', 'Gert', 'Gidget',\n",
       "       'Gilbert', 'Gin', 'Ginger', 'Gizmo', 'Glacier', 'Glenn', 'Godi',\n",
       "       'Godzilla', 'Goliath', 'Goose', 'Gordon', 'Grady', 'Grey',\n",
       "       'Griffin', 'Griswold', 'Grizz', 'Grizzie', 'Grizzwald', 'Gromit',\n",
       "       'Gunner', 'Gus', 'Gustaf', 'Gustav', 'Gòrdón', 'Hall', 'Halo',\n",
       "       'Hammond', 'Hamrick', 'Hank', 'Hanz', 'Happy', 'Harlso', 'Harnold',\n",
       "       'Harold', 'Harper', 'Harrison', 'Harry', 'Harvey', 'Hazel',\n",
       "       'Hector', 'Heinrich', 'Henry', 'Herald', 'Herb', 'Hercules',\n",
       "       'Herm', 'Hermione', 'Hero', 'Herschel', 'Hobbes', 'Holly',\n",
       "       'Horace', 'Howie', 'Hubertson', 'Huck', 'Humphrey', 'Hunter',\n",
       "       'Hurley', 'Huxley', 'Iggy', 'Ike', 'Indie', 'Iroh', 'Ito', 'Ivar',\n",
       "       'Izzy', 'JD', 'Jack', 'Jackie', 'Jackson', 'Jameson', 'Jamesy',\n",
       "       'Jangle', 'Jareld', 'Jarod', 'Jarvis', 'Jaspers', 'Jax', 'Jay',\n",
       "       'Jaycob', 'Jazz', 'Jazzy', 'Jeb', 'Jebberson', 'Jed', 'Jeffrey',\n",
       "       'Jeffri', 'Jeffrie', 'Jennifur', 'Jeph', 'Jeremy', 'Jerome',\n",
       "       'Jerry', 'Jersey', 'Jesse', 'Jessifer', 'Jessiga', 'Jett', 'Jim',\n",
       "       'Jimbo', 'Jiminus', 'Jiminy', 'Jimison', 'Jimothy', 'Jo',\n",
       "       'Jockson', 'Joey', 'Jomathan', 'Jonah', 'Jordy', 'Josep', 'Joshwa',\n",
       "       'Juckson', 'Julio', 'Julius', 'Juno', 'Kaia', 'Kaiya', 'Kallie',\n",
       "       'Kane', 'Kanu', 'Kara', 'Karl', 'Karll', 'Karma', 'Kathmandu',\n",
       "       'Katie', 'Kawhi', 'Kayla', 'Keet', 'Keith', 'Kellogg', 'Ken',\n",
       "       'Kendall', 'Kenneth', 'Kenny', 'Kenzie', 'Keurig', 'Kevin',\n",
       "       'Kevon', 'Kial', 'Kilo', 'Kingsley', 'Kirby', 'Kirk', 'Klein',\n",
       "       'Klevin', 'Kloey', 'Kobe', 'Koda', 'Kody', 'Koko', 'Kollin',\n",
       "       'Kona', 'Kota', 'Kramer', 'Kreg', 'Kreggory', 'Kulet', 'Kuyu',\n",
       "       'Kyle', 'Kyro', 'Lacy', 'Laela', 'Laika', 'Lambeau', 'Lance',\n",
       "       'Larry', 'Lassie', 'Layla', 'Leela', 'Lennon', 'Lenny', 'Lenox',\n",
       "       'Leo', 'Leonard', 'Leonidas', 'Levi', 'Liam', 'Lilah', 'Lili',\n",
       "       'Lilli', 'Lillie', 'Lilly', 'Lily', 'Lincoln', 'Linda', 'Link',\n",
       "       'Linus', 'Lipton', 'Livvie', 'Lizzie', 'Logan', 'Loki', 'Lola',\n",
       "       'Lolo', 'Longfellow', 'Loomis', 'Lorelei', 'Lorenzo', 'Lou',\n",
       "       'Louie', 'Louis', 'Luca', 'Lucia', 'Lucky', 'Lucy', 'Lugan',\n",
       "       'Lulu', 'Luna', 'Lupe', 'Luther', 'Mabel', 'Mac', 'Mack', 'Maddie',\n",
       "       'Maggie', 'Mairi', 'Maisey', 'Major', 'Maks', 'Malcolm', 'Malikai',\n",
       "       'Margo', 'Mark', 'Marlee', 'Marley', 'Marq', 'Marty', 'Marvin',\n",
       "       'Mary', 'Mason', 'Mattie', 'Maude', 'Mauve', 'Max', 'Maxaroni',\n",
       "       'Maximus', 'Maxwell', 'Maya', 'Meatball', 'Meera', 'Meyer', 'Mia',\n",
       "       'Michelangelope', 'Miguel', 'Mike', 'Miley', 'Milky', 'Millie',\n",
       "       'Milo', 'Mimosa', 'Mingus', 'Mister', 'Misty', 'Mitch', 'Mo',\n",
       "       'Moe', 'Mojo', 'Mollie', 'Molly', 'Mona', 'Monkey', 'Monster',\n",
       "       'Monty', 'Moofasa', 'Mookie', 'Moose', 'Moreton', 'Mosby',\n",
       "       'Murphy', 'Mutt', 'Mya', 'Nala', 'Naphaniel', 'Napolean', 'Nelly',\n",
       "       'Neptune', 'Newt', 'Nico', 'Nida', 'Nigel', 'Nimbus', 'Noah',\n",
       "       'Nollie', 'None', 'Noosh', 'Norman', 'Nugget', 'O', 'Oakley',\n",
       "       'Obi', 'Obie', 'Oddie', 'Odie', 'Odin', 'Olaf', 'Ole', 'Olive',\n",
       "       'Oliver', 'Olivia', 'Oliviér', 'Ollie', 'Opal', 'Opie', 'Oreo',\n",
       "       'Orion', 'Oscar', 'Oshie', 'Otis', 'Ozzie', 'Ozzy', 'Pablo',\n",
       "       'Paisley', 'Pancake', 'Panda', 'Patch', 'Patrick', 'Paull',\n",
       "       'Pavlov', 'Pawnd', 'Peaches', 'Peanut', 'Penelope', 'Penny',\n",
       "       'Pepper', 'Percy', 'Perry', 'Pete', 'Petrick', 'Pherb', 'Phil',\n",
       "       'Philbert', 'Philippe', 'Phineas', 'Phred', 'Pickles', 'Pilot',\n",
       "       'Pinot', 'Pip', 'Piper', 'Pippa', 'Pippin', 'Pipsy', 'Pluto',\n",
       "       'Poppy', 'Pubert', 'Puff', 'Pumpkin', 'Pupcasso', 'Quinn', 'Ralf',\n",
       "       'Ralph', 'Ralpher', 'Ralphie', 'Ralphson', 'Ralphus', 'Ralphy',\n",
       "       'Ralphé', 'Rambo', 'Randall', 'Raphael', 'Rascal', 'Raymond',\n",
       "       'Reagan', 'Reese', 'Reggie', 'Reginald', 'Remington', 'Remus',\n",
       "       'Remy', 'Reptar', 'Rey', 'Rhino', 'Richie', 'Ricky', 'Ridley',\n",
       "       'Riley', 'Rilo', 'Rinna', 'River', 'Rizzo', 'Rizzy', 'Robin',\n",
       "       'Rocco', 'Rocky', 'Rodman', 'Rodney', 'Rolf', 'Romeo', 'Ron',\n",
       "       'Ronduh', 'Ronnie', 'Rontu', 'Rooney', 'Roosevelt', 'Rorie',\n",
       "       'Rory', 'Roscoe', 'Rose', 'Rosie', 'Rover', 'Rubio', 'Ruby',\n",
       "       'Rudy', 'Rueben', 'Ruffles', 'Rufio', 'Rufus', 'Rumble', 'Rumpole',\n",
       "       'Rupert', 'Rusty', 'Sadie', 'Sage', 'Sailer', 'Sailor', 'Sam',\n",
       "       'Sammy', 'Sampson', 'Samsom', 'Samson', 'Sandra', 'Sandy', 'Sansa',\n",
       "       'Sarge', 'Saydee', 'Schnitzel', 'Schnozz', 'Scooter', 'Scott',\n",
       "       'Scout', 'Scruffers', 'Seamus', 'Sebastian', 'Sephie', 'Severus',\n",
       "       'Shadoe', 'Shadow', 'Shaggy', 'Shakespeare', 'Shawwn', 'Shelby',\n",
       "       'Shikha', 'Shiloh', 'Shnuggles', 'Shooter', 'Siba', 'Sid',\n",
       "       'Sierra', 'Simba', 'Skittle', 'Skittles', 'Sky', 'Skye', 'Smiley',\n",
       "       'Smokey', 'Snickers', 'Snicku', 'Snoop', 'Snoopy', 'Sobe', 'Socks',\n",
       "       'Sojourner', 'Solomon', 'Sonny', 'Sophie', 'Sora', 'Spanky',\n",
       "       'Spark', 'Sparky', 'Spencer', 'Sprinkles', 'Sprout', 'Staniel',\n",
       "       'Stanley', 'Stark', 'Stefan', 'Stella', 'Stephan', 'Stephanus',\n",
       "       'Steve', 'Steven', 'Stewie', 'Storkson', 'Stormy', 'Strider',\n",
       "       'Striker', 'Strudel', 'Stu', 'Stuart', 'Stubert', 'Sugar', 'Suki',\n",
       "       'Sully', 'Sundance', 'Sunny', 'Sunshine', 'Superpup', 'Swagger',\n",
       "       'Sweet', 'Sweets', 'Taco', 'Tango', 'Tanner', 'Tassy', 'Tater',\n",
       "       'Tayzie', 'Taz', 'Tebow', 'Ted', 'Tedders', 'Teddy', 'Tedrick',\n",
       "       'Terrance', 'Terrenth', 'Terry', 'Tess', 'Tessa', 'Theo',\n",
       "       'Theodore', 'Thor', 'Thumas', 'Tiger', 'Tilly', 'Timber',\n",
       "       'Timison', 'Timmy', 'Timofy', 'Tino', 'Titan', 'Tito', 'Tobi',\n",
       "       'Toby', 'Todo', 'Toffee', 'Tom', 'Tommy', 'Tonks', 'Torque',\n",
       "       'Tove', 'Travis', 'Traviss', 'Trevith', 'Trigger', 'Trip', 'Tripp',\n",
       "       'Trooper', 'Tuck', 'Tucker', 'Tuco', 'Tug', 'Tupawc', 'Tycho',\n",
       "       'Tyr', 'Tyrone', 'Tyrus', 'Ulysses', 'Venti', 'Vince', 'Vincent',\n",
       "       'Vinnie', 'Vinscent', 'Vixen', 'Wafer', 'Waffles', 'Walker',\n",
       "       'Wallace', 'Wally', 'Walter', 'Watson', 'Wesley', 'Wiggles',\n",
       "       'Willem', 'William', 'Willie', 'Willow', 'Willy', 'Wilson',\n",
       "       'Winifred', 'Winnie', 'Winston', 'Wishes', 'Wyatt', 'Yoda', 'Yogi',\n",
       "       'Yukon', 'Zara', 'Zeek', 'Zeke', 'Zeus', 'Ziva', 'Zoe', 'Zoey',\n",
       "       'Zooey', 'Zuzu', 'a', 'actually', 'all', 'an', 'by', 'getting',\n",
       "       'his', 'incredibly', 'infuriating', 'just', 'life', 'light', 'mad',\n",
       "       'my', 'not', 'officially', 'old', 'one', 'quite', 'space', 'such',\n",
       "       'the', 'this', 'unacceptable', 'very'], dtype=object)"
      ]
     },
     "execution_count": 78,
     "metadata": {},
     "output_type": "execute_result"
    }
   ],
   "source": [
    "# View all names\n",
    "df_archive_clean.name.sort_values().unique()"
   ]
  },
  {
   "cell_type": "code",
   "execution_count": 79,
   "metadata": {},
   "outputs": [],
   "source": [
    "# Find the invalid lowercase names and populate with 'None'\n",
    "df_archive_clean.loc[df_archive_clean.name.str.islower(),'name']='None'\n",
    "# Replace 'none' with nan\n",
    "df_archive_clean.name=df_archive_clean.name.replace('None',np.nan)"
   ]
  },
  {
   "cell_type": "markdown",
   "metadata": {},
   "source": [
    "#### Test"
   ]
  },
  {
   "cell_type": "code",
   "execution_count": 80,
   "metadata": {},
   "outputs": [
    {
     "data": {
      "text/plain": [
       "array(['Abby', 'Ace', 'Acro', 'Adele', 'Aiden', 'Aja', 'Akumi', 'Al',\n",
       "       'Albert', 'Albus', 'Aldrick', 'Alejandro', 'Alexander',\n",
       "       'Alexanderson', 'Alf', 'Alfie', 'Alfy', 'Alice', 'Amber',\n",
       "       'Ambrose', 'Amy', 'Amélie', 'Anakin', 'Andru', 'Andy', 'Angel',\n",
       "       'Anna', 'Anthony', 'Antony', 'Apollo', 'Aqua', 'Archie', 'Arlen',\n",
       "       'Arlo', 'Arnie', 'Arnold', 'Arya', 'Ash', 'Asher', 'Ashleigh',\n",
       "       'Aspen', 'Astrid', 'Atlas', 'Atticus', 'Aubie', 'Augie', 'Autumn',\n",
       "       'Ava', 'Axel', 'Bailey', 'Baloo', 'Balto', 'Banditt', 'Banjo',\n",
       "       'Barclay', 'Barney', 'Baron', 'Barry', 'Batdog', 'Bauer', 'Baxter',\n",
       "       'Bayley', 'BeBe', 'Bear', 'Beau', 'Beckham', 'Beebop', 'Beemo',\n",
       "       'Bell', 'Bella', 'Belle', 'Ben', 'Benedict', 'Benji', 'Benny',\n",
       "       'Bentley', 'Berb', 'Berkeley', 'Bernie', 'Bert', 'Bertson',\n",
       "       'Betty', 'Beya', 'Biden', 'Bilbo', 'Billl', 'Billy', 'Binky',\n",
       "       'Birf', 'Bisquick', 'Blakely', 'Blanket', 'Blipson', 'Blitz',\n",
       "       'Bloo', 'Bloop', 'Blu', 'Blue', 'Bluebert', 'Bo', 'Bob', 'Bobb',\n",
       "       'Bobbay', 'Bobble', 'Bobby', 'Bode', 'Bodie', 'Bonaparte', 'Bones',\n",
       "       'Bookstore', 'Boomer', 'Boots', 'Boston', 'Bowie', 'Brad',\n",
       "       'Bradlay', 'Bradley', 'Brady', 'Brandi', 'Brandonald', 'Brandy',\n",
       "       'Brat', 'Brian', 'Brockly', 'Brody', 'Bronte', 'Brooks', 'Brownie',\n",
       "       'Bruce', 'Brudge', 'Bruiser', 'Bruno', 'Brutus', 'Bubba',\n",
       "       'Bubbles', 'Buckley', 'Buddah', 'Buddy', 'Bungalo', 'Burt',\n",
       "       'Butter', 'Butters', 'Cal', 'Calbert', 'Cali', 'Callie', 'Calvin',\n",
       "       'Canela', 'Cannon', 'Carbon', 'Carl', 'Carll', 'Carly', 'Carper',\n",
       "       'Carter', 'Caryl', 'Cash', 'Cassie', 'CeCe', 'Cecil', 'Cedrick',\n",
       "       'Cermet', 'Chadrick', 'Champ', 'Charl', 'Charles', 'Charleson',\n",
       "       'Charlie', 'Chase', 'Chaz', 'Cheesy', 'Chef', 'Chelsea', 'Cheryl',\n",
       "       'Chesney', 'Chester', 'Chesterson', 'Chet', 'Chevy', 'Chip',\n",
       "       'Chipson', 'Chloe', 'Chompsky', 'Christoper', 'Chubbs', 'Chuck',\n",
       "       'Chuckles', 'Chuq', 'Churlie', 'Cilantro', 'Clarence', 'Clark',\n",
       "       'Clarkus', 'Clarq', 'Claude', 'Cleopatricia', 'Clifford', 'Clybe',\n",
       "       'Clyde', 'Coco', 'Cody', 'Colby', 'Coleman', 'Colin', 'Combo',\n",
       "       'Comet', 'Cooper', 'Coops', 'Coopson', 'Cora', 'Corey', 'Covach',\n",
       "       'Craig', 'Crawford', 'Creg', 'Crimson', 'Crouton', 'Crumpet',\n",
       "       'Crystal', 'Cuddles', 'Cupcake', 'Cupid', 'Curtis', 'Daisy',\n",
       "       'Dakota', 'Dale', 'Dallas', 'Damon', 'Daniel', 'Danny', 'Dante',\n",
       "       'Darby', 'Darla', 'Darrel', 'Dash', 'Dave', 'Davey', 'Dawn',\n",
       "       'DayZ', 'Deacon', 'Derby', 'Derek', 'Devón', 'Dewey', 'Dex',\n",
       "       'Dexter', 'Dido', 'Dietrich', 'Diogi', 'Divine', 'Dixie', 'Django',\n",
       "       'Dobby', 'Doc', 'DonDon', 'Donny', 'Doobert', 'Dook', 'Dot',\n",
       "       'Dotsy', 'Doug', 'Duchess', 'Duddles', 'Dudley', 'Dug', 'Duke',\n",
       "       'Dunkin', 'Durg', 'Dutch', 'Dwight', 'Dylan', 'Earl', 'Eazy',\n",
       "       'Ebby', 'Ed', 'Edd', 'Edgar', 'Edmund', 'Eevee', 'Einstein',\n",
       "       'Eleanor', 'Eli', 'Ellie', 'Elliot', 'Emanuel', 'Ember', 'Emma',\n",
       "       'Emmie', 'Emmy', 'Enchilada', 'Erik', 'Eriq', 'Ester', 'Eugene',\n",
       "       'Eve', 'Evy', 'Fabio', 'Farfle', 'Ferg', 'Fido', 'Fiji', 'Fillup',\n",
       "       'Filup', 'Finley', 'Finn', 'Finnegus', 'Fiona', 'Fizz', 'Flash',\n",
       "       'Fletcher', 'Florence', 'Flurpson', 'Flávio', 'Frank', 'Frankie',\n",
       "       'Franklin', 'Franq', 'Fred', 'Freddery', 'Frönq', 'Furzey', 'Fwed',\n",
       "       'Fynn', 'Gabe', 'Gary', 'General', 'Genevieve', 'Geno', 'Geoff',\n",
       "       'George', 'Georgie', 'Gerald', 'Gerbald', 'Gert', 'Gidget',\n",
       "       'Gilbert', 'Gin', 'Ginger', 'Gizmo', 'Glacier', 'Glenn', 'Godi',\n",
       "       'Godzilla', 'Goliath', 'Goose', 'Gordon', 'Grady', 'Grey',\n",
       "       'Griffin', 'Griswold', 'Grizz', 'Grizzie', 'Grizzwald', 'Gromit',\n",
       "       'Gunner', 'Gus', 'Gustaf', 'Gustav', 'Gòrdón', 'Hall', 'Halo',\n",
       "       'Hammond', 'Hamrick', 'Hank', 'Hanz', 'Happy', 'Harlso', 'Harnold',\n",
       "       'Harold', 'Harper', 'Harrison', 'Harry', 'Harvey', 'Hazel',\n",
       "       'Hector', 'Heinrich', 'Henry', 'Herald', 'Herb', 'Hercules',\n",
       "       'Herm', 'Hermione', 'Hero', 'Herschel', 'Hobbes', 'Holly',\n",
       "       'Horace', 'Howie', 'Hubertson', 'Huck', 'Humphrey', 'Hunter',\n",
       "       'Hurley', 'Huxley', 'Iggy', 'Ike', 'Indie', 'Iroh', 'Ito', 'Ivar',\n",
       "       'Izzy', 'JD', 'Jack', 'Jackie', 'Jackson', 'Jameson', 'Jamesy',\n",
       "       'Jangle', 'Jareld', 'Jarod', 'Jarvis', 'Jaspers', 'Jax', 'Jay',\n",
       "       'Jaycob', 'Jazz', 'Jazzy', 'Jeb', 'Jebberson', 'Jed', 'Jeffrey',\n",
       "       'Jeffri', 'Jeffrie', 'Jennifur', 'Jeph', 'Jeremy', 'Jerome',\n",
       "       'Jerry', 'Jersey', 'Jesse', 'Jessifer', 'Jessiga', 'Jett', 'Jim',\n",
       "       'Jimbo', 'Jiminus', 'Jiminy', 'Jimison', 'Jimothy', 'Jo',\n",
       "       'Jockson', 'Joey', 'Jomathan', 'Jonah', 'Jordy', 'Josep', 'Joshwa',\n",
       "       'Juckson', 'Julio', 'Julius', 'Juno', 'Kaia', 'Kaiya', 'Kallie',\n",
       "       'Kane', 'Kanu', 'Kara', 'Karl', 'Karll', 'Karma', 'Kathmandu',\n",
       "       'Katie', 'Kawhi', 'Kayla', 'Keet', 'Keith', 'Kellogg', 'Ken',\n",
       "       'Kendall', 'Kenneth', 'Kenny', 'Kenzie', 'Keurig', 'Kevin',\n",
       "       'Kevon', 'Kial', 'Kilo', 'Kingsley', 'Kirby', 'Kirk', 'Klein',\n",
       "       'Klevin', 'Kloey', 'Kobe', 'Koda', 'Kody', 'Koko', 'Kollin',\n",
       "       'Kona', 'Kota', 'Kramer', 'Kreg', 'Kreggory', 'Kulet', 'Kuyu',\n",
       "       'Kyle', 'Kyro', 'Lacy', 'Laela', 'Laika', 'Lambeau', 'Lance',\n",
       "       'Larry', 'Lassie', 'Layla', 'Leela', 'Lennon', 'Lenny', 'Lenox',\n",
       "       'Leo', 'Leonard', 'Leonidas', 'Levi', 'Liam', 'Lilah', 'Lili',\n",
       "       'Lilli', 'Lillie', 'Lilly', 'Lily', 'Lincoln', 'Linda', 'Link',\n",
       "       'Linus', 'Lipton', 'Livvie', 'Lizzie', 'Logan', 'Loki', 'Lola',\n",
       "       'Lolo', 'Longfellow', 'Loomis', 'Lorelei', 'Lorenzo', 'Lou',\n",
       "       'Louie', 'Louis', 'Luca', 'Lucia', 'Lucky', 'Lucy', 'Lugan',\n",
       "       'Lulu', 'Luna', 'Lupe', 'Luther', 'Mabel', 'Mac', 'Mack', 'Maddie',\n",
       "       'Maggie', 'Mairi', 'Maisey', 'Major', 'Maks', 'Malcolm', 'Malikai',\n",
       "       'Margo', 'Mark', 'Marlee', 'Marley', 'Marq', 'Marty', 'Marvin',\n",
       "       'Mary', 'Mason', 'Mattie', 'Maude', 'Mauve', 'Max', 'Maxaroni',\n",
       "       'Maximus', 'Maxwell', 'Maya', 'Meatball', 'Meera', 'Meyer', 'Mia',\n",
       "       'Michelangelope', 'Miguel', 'Mike', 'Miley', 'Milky', 'Millie',\n",
       "       'Milo', 'Mimosa', 'Mingus', 'Mister', 'Misty', 'Mitch', 'Mo',\n",
       "       'Moe', 'Mojo', 'Mollie', 'Molly', 'Mona', 'Monkey', 'Monster',\n",
       "       'Monty', 'Moofasa', 'Mookie', 'Moose', 'Moreton', 'Mosby',\n",
       "       'Murphy', 'Mutt', 'Mya', 'Nala', 'Naphaniel', 'Napolean', 'Nelly',\n",
       "       'Neptune', 'Newt', 'Nico', 'Nida', 'Nigel', 'Nimbus', 'Noah',\n",
       "       'Nollie', 'Noosh', 'Norman', 'Nugget', 'O', 'Oakley', 'Obi',\n",
       "       'Obie', 'Oddie', 'Odie', 'Odin', 'Olaf', 'Ole', 'Olive', 'Oliver',\n",
       "       'Olivia', 'Oliviér', 'Ollie', 'Opal', 'Opie', 'Oreo', 'Orion',\n",
       "       'Oscar', 'Oshie', 'Otis', 'Ozzie', 'Ozzy', 'Pablo', 'Paisley',\n",
       "       'Pancake', 'Panda', 'Patch', 'Patrick', 'Paull', 'Pavlov', 'Pawnd',\n",
       "       'Peaches', 'Peanut', 'Penelope', 'Penny', 'Pepper', 'Percy',\n",
       "       'Perry', 'Pete', 'Petrick', 'Pherb', 'Phil', 'Philbert',\n",
       "       'Philippe', 'Phineas', 'Phred', 'Pickles', 'Pilot', 'Pinot', 'Pip',\n",
       "       'Piper', 'Pippa', 'Pippin', 'Pipsy', 'Pluto', 'Poppy', 'Pubert',\n",
       "       'Puff', 'Pumpkin', 'Pupcasso', 'Quinn', 'Ralf', 'Ralph', 'Ralpher',\n",
       "       'Ralphie', 'Ralphson', 'Ralphus', 'Ralphy', 'Ralphé', 'Rambo',\n",
       "       'Randall', 'Raphael', 'Rascal', 'Raymond', 'Reagan', 'Reese',\n",
       "       'Reggie', 'Reginald', 'Remington', 'Remus', 'Remy', 'Reptar',\n",
       "       'Rey', 'Rhino', 'Richie', 'Ricky', 'Ridley', 'Riley', 'Rilo',\n",
       "       'Rinna', 'River', 'Rizzo', 'Rizzy', 'Robin', 'Rocco', 'Rocky',\n",
       "       'Rodman', 'Rodney', 'Rolf', 'Romeo', 'Ron', 'Ronduh', 'Ronnie',\n",
       "       'Rontu', 'Rooney', 'Roosevelt', 'Rorie', 'Rory', 'Roscoe', 'Rose',\n",
       "       'Rosie', 'Rover', 'Rubio', 'Ruby', 'Rudy', 'Rueben', 'Ruffles',\n",
       "       'Rufio', 'Rufus', 'Rumble', 'Rumpole', 'Rupert', 'Rusty', 'Sadie',\n",
       "       'Sage', 'Sailer', 'Sailor', 'Sam', 'Sammy', 'Sampson', 'Samsom',\n",
       "       'Samson', 'Sandra', 'Sandy', 'Sansa', 'Sarge', 'Saydee',\n",
       "       'Schnitzel', 'Schnozz', 'Scooter', 'Scott', 'Scout', 'Scruffers',\n",
       "       'Seamus', 'Sebastian', 'Sephie', 'Severus', 'Shadoe', 'Shadow',\n",
       "       'Shaggy', 'Shakespeare', 'Shawwn', 'Shelby', 'Shikha', 'Shiloh',\n",
       "       'Shnuggles', 'Shooter', 'Siba', 'Sid', 'Sierra', 'Simba',\n",
       "       'Skittle', 'Skittles', 'Sky', 'Skye', 'Smiley', 'Smokey',\n",
       "       'Snickers', 'Snicku', 'Snoop', 'Snoopy', 'Sobe', 'Socks',\n",
       "       'Sojourner', 'Solomon', 'Sonny', 'Sophie', 'Sora', 'Spanky',\n",
       "       'Spark', 'Sparky', 'Spencer', 'Sprinkles', 'Sprout', 'Staniel',\n",
       "       'Stanley', 'Stark', 'Stefan', 'Stella', 'Stephan', 'Stephanus',\n",
       "       'Steve', 'Steven', 'Stewie', 'Storkson', 'Stormy', 'Strider',\n",
       "       'Striker', 'Strudel', 'Stu', 'Stuart', 'Stubert', 'Sugar', 'Suki',\n",
       "       'Sully', 'Sundance', 'Sunny', 'Sunshine', 'Superpup', 'Swagger',\n",
       "       'Sweet', 'Sweets', 'Taco', 'Tango', 'Tanner', 'Tassy', 'Tater',\n",
       "       'Tayzie', 'Taz', 'Tebow', 'Ted', 'Tedders', 'Teddy', 'Tedrick',\n",
       "       'Terrance', 'Terrenth', 'Terry', 'Tess', 'Tessa', 'Theo',\n",
       "       'Theodore', 'Thor', 'Thumas', 'Tiger', 'Tilly', 'Timber',\n",
       "       'Timison', 'Timmy', 'Timofy', 'Tino', 'Titan', 'Tito', 'Tobi',\n",
       "       'Toby', 'Todo', 'Toffee', 'Tom', 'Tommy', 'Tonks', 'Torque',\n",
       "       'Tove', 'Travis', 'Traviss', 'Trevith', 'Trigger', 'Trip', 'Tripp',\n",
       "       'Trooper', 'Tuck', 'Tucker', 'Tuco', 'Tug', 'Tupawc', 'Tycho',\n",
       "       'Tyr', 'Tyrone', 'Tyrus', 'Ulysses', 'Venti', 'Vince', 'Vincent',\n",
       "       'Vinnie', 'Vinscent', 'Vixen', 'Wafer', 'Waffles', 'Walker',\n",
       "       'Wallace', 'Wally', 'Walter', 'Watson', 'Wesley', 'Wiggles',\n",
       "       'Willem', 'William', 'Willie', 'Willow', 'Willy', 'Wilson',\n",
       "       'Winifred', 'Winnie', 'Winston', 'Wishes', 'Wyatt', 'Yoda', 'Yogi',\n",
       "       'Yukon', 'Zara', 'Zeek', 'Zeke', 'Zeus', 'Ziva', 'Zoe', 'Zoey',\n",
       "       'Zooey', 'Zuzu', nan], dtype=object)"
      ]
     },
     "execution_count": 80,
     "metadata": {},
     "output_type": "execute_result"
    }
   ],
   "source": [
    "# There are no lowercase words left in name column\n",
    "df_archive_clean.name.sort_values().unique()"
   ]
  },
  {
   "cell_type": "markdown",
   "metadata": {},
   "source": [
    "#### Tweet_id 776201521193218049 has a dog name of 'O' \n",
    "#### Define \n",
    "- The name is actually O'Malley.  Use Replace to correct this.\n",
    "\n",
    "#### Code"
   ]
  },
  {
   "cell_type": "code",
   "execution_count": 81,
   "metadata": {},
   "outputs": [],
   "source": [
    "df_archive_clean.name=df_archive_clean.name.replace(\"O\",\"O'Malley\")"
   ]
  },
  {
   "cell_type": "markdown",
   "metadata": {},
   "source": [
    "#### Test"
   ]
  },
  {
   "cell_type": "code",
   "execution_count": 82,
   "metadata": {},
   "outputs": [
    {
     "data": {
      "text/html": [
       "<div>\n",
       "<style scoped>\n",
       "    .dataframe tbody tr th:only-of-type {\n",
       "        vertical-align: middle;\n",
       "    }\n",
       "\n",
       "    .dataframe tbody tr th {\n",
       "        vertical-align: top;\n",
       "    }\n",
       "\n",
       "    .dataframe thead th {\n",
       "        text-align: right;\n",
       "    }\n",
       "</style>\n",
       "<table border=\"1\" class=\"dataframe\">\n",
       "  <thead>\n",
       "    <tr style=\"text-align: right;\">\n",
       "      <th></th>\n",
       "      <th>tweet_id</th>\n",
       "      <th>timestamp</th>\n",
       "      <th>source</th>\n",
       "      <th>text</th>\n",
       "      <th>expanded_urls</th>\n",
       "      <th>rating_numerator</th>\n",
       "      <th>rating_denominator</th>\n",
       "      <th>name</th>\n",
       "      <th>new_rating</th>\n",
       "      <th>dog_stage</th>\n",
       "    </tr>\n",
       "  </thead>\n",
       "  <tbody>\n",
       "    <tr>\n",
       "      <th>775</th>\n",
       "      <td>776201521193218049</td>\n",
       "      <td>2016-09-14 23:30:38</td>\n",
       "      <td>&lt;a href=\"http://twitter.com/download/iphone\" rel=\"nofollow\"&gt;Twitter for iPhone&lt;/a&gt;</td>\n",
       "      <td>This is O'Malley. That is how he sleeps. Doesn't care what you think about it. 10/10 comfy af https://t.co/Pq150LeRaC</td>\n",
       "      <td>https://twitter.com/dog_rates/status/776201521193218049/photo/1</td>\n",
       "      <td>10</td>\n",
       "      <td>10</td>\n",
       "      <td>O'Malley</td>\n",
       "      <td>1.0</td>\n",
       "      <td>NaN</td>\n",
       "    </tr>\n",
       "  </tbody>\n",
       "</table>\n",
       "</div>"
      ],
      "text/plain": [
       "               tweet_id           timestamp  \\\n",
       "775  776201521193218049 2016-09-14 23:30:38   \n",
       "\n",
       "                                                                                 source  \\\n",
       "775  <a href=\"http://twitter.com/download/iphone\" rel=\"nofollow\">Twitter for iPhone</a>   \n",
       "\n",
       "                                                                                                                      text  \\\n",
       "775  This is O'Malley. That is how he sleeps. Doesn't care what you think about it. 10/10 comfy af https://t.co/Pq150LeRaC   \n",
       "\n",
       "                                                       expanded_urls  \\\n",
       "775  https://twitter.com/dog_rates/status/776201521193218049/photo/1   \n",
       "\n",
       "     rating_numerator  rating_denominator      name  new_rating dog_stage  \n",
       "775                10                  10  O'Malley         1.0       NaN  "
      ]
     },
     "execution_count": 82,
     "metadata": {},
     "output_type": "execute_result"
    }
   ],
   "source": [
    "df_archive_clean[df_archive_clean['tweet_id'] == '776201521193218049']"
   ]
  },
  {
   "cell_type": "markdown",
   "metadata": {},
   "source": [
    "#### Both api and archive dataframes contain data that describes tweets\n",
    "#### Define\n",
    "- Join archive and api dataframes on 'tweet_id' using inner join\n",
    "\n",
    "#### Code"
   ]
  },
  {
   "cell_type": "code",
   "execution_count": 83,
   "metadata": {},
   "outputs": [],
   "source": [
    "# join the dataframes\n",
    "df_tweets_clean = pd.merge(df_archive_clean, df_api_data_clean, \n",
    "                           on='tweet_id', how = 'inner')"
   ]
  },
  {
   "cell_type": "code",
   "execution_count": 84,
   "metadata": {},
   "outputs": [
    {
     "name": "stdout",
     "output_type": "stream",
     "text": [
      "<class 'pandas.core.frame.DataFrame'>\n",
      "Int64Index: 2113 entries, 0 to 2112\n",
      "Data columns (total 13 columns):\n",
      "tweet_id              2113 non-null object\n",
      "timestamp_x           2113 non-null datetime64[ns]\n",
      "source                2113 non-null object\n",
      "text                  2113 non-null object\n",
      "expanded_urls         2113 non-null object\n",
      "rating_numerator      2113 non-null int64\n",
      "rating_denominator    2113 non-null int64\n",
      "name                  1389 non-null object\n",
      "new_rating            2113 non-null float64\n",
      "dog_stage             338 non-null category\n",
      "retweet_count         2113 non-null int64\n",
      "favorite_count        2113 non-null int64\n",
      "timestamp_y           2113 non-null datetime64[ns]\n",
      "dtypes: category(1), datetime64[ns](2), float64(1), int64(4), object(5)\n",
      "memory usage: 217.0+ KB\n"
     ]
    }
   ],
   "source": [
    "df_tweets_clean.info()"
   ]
  },
  {
   "cell_type": "code",
   "execution_count": 85,
   "metadata": {},
   "outputs": [],
   "source": [
    "# drop one timestamp column and rename\n",
    "df_tweets_clean.drop(['timestamp_y'],inplace=True,axis=1)\n",
    "df_tweets_clean.rename(columns={\"timestamp_x\": \"timestamp\"}, \n",
    "                       inplace=True)"
   ]
  },
  {
   "cell_type": "markdown",
   "metadata": {},
   "source": [
    "#### Test"
   ]
  },
  {
   "cell_type": "code",
   "execution_count": 86,
   "metadata": {},
   "outputs": [
    {
     "name": "stdout",
     "output_type": "stream",
     "text": [
      "<class 'pandas.core.frame.DataFrame'>\n",
      "Int64Index: 2113 entries, 0 to 2112\n",
      "Data columns (total 12 columns):\n",
      "tweet_id              2113 non-null object\n",
      "timestamp             2113 non-null datetime64[ns]\n",
      "source                2113 non-null object\n",
      "text                  2113 non-null object\n",
      "expanded_urls         2113 non-null object\n",
      "rating_numerator      2113 non-null int64\n",
      "rating_denominator    2113 non-null int64\n",
      "name                  1389 non-null object\n",
      "new_rating            2113 non-null float64\n",
      "dog_stage             338 non-null category\n",
      "retweet_count         2113 non-null int64\n",
      "favorite_count        2113 non-null int64\n",
      "dtypes: category(1), datetime64[ns](1), float64(1), int64(4), object(5)\n",
      "memory usage: 200.5+ KB\n"
     ]
    }
   ],
   "source": [
    "df_tweets_clean.info()"
   ]
  },
  {
   "cell_type": "markdown",
   "metadata": {},
   "source": [
    "#### Prediction columns: There is a _ between the words if the prediction has more than one word.\n",
    "#### Sometimes first letter is capitalized, sometimes not.\n",
    "#### Define\n",
    "- Replace _ with ' ' in columns p1, p2 and p3 using string replace function.\n",
    "- Capitalize first letter of prediction using title() function\n",
    "\n",
    "#### Code"
   ]
  },
  {
   "cell_type": "code",
   "execution_count": 87,
   "metadata": {},
   "outputs": [],
   "source": [
    "# Use regex=True parameter to match _ within the string\n",
    "df_image_predictions_clean['p1'] = df_image_predictions_clean['p1'].replace('_', ' ',regex=True)\n",
    "df_image_predictions_clean['p2'] = df_image_predictions_clean['p1'].replace('_', ' ',regex=True)\n",
    "df_image_predictions_clean['p3'] = df_image_predictions_clean['p1'].replace('_', ' ',regex=True)"
   ]
  },
  {
   "cell_type": "code",
   "execution_count": 88,
   "metadata": {},
   "outputs": [],
   "source": [
    "# Use title() to capitalise words\n",
    "df_image_predictions_clean['p1'] = df_image_predictions_clean['p1'].str.title()\n",
    "df_image_predictions_clean['p2'] = df_image_predictions_clean['p1'].str.title()\n",
    "df_image_predictions_clean['p3'] = df_image_predictions_clean['p1'].str.title()"
   ]
  },
  {
   "cell_type": "markdown",
   "metadata": {},
   "source": [
    "#### Test"
   ]
  },
  {
   "cell_type": "code",
   "execution_count": 89,
   "metadata": {},
   "outputs": [
    {
     "name": "stdout",
     "output_type": "stream",
     "text": [
      "['Bernese Mountain Dog' 'Box Turtle' 'Chow' 'German Shepherd'\n",
      " 'Miniature Pinscher' 'Miniature Poodle' 'Redbone' 'Rhodesian Ridgeback'\n",
      " 'Shopping Cart' 'Welsh Springer Spaniel']\n",
      "['Bernese Mountain Dog' 'Box Turtle' 'Chow' 'German Shepherd'\n",
      " 'Miniature Pinscher' 'Miniature Poodle' 'Redbone' 'Rhodesian Ridgeback'\n",
      " 'Shopping Cart' 'Welsh Springer Spaniel']\n",
      "['Bernese Mountain Dog' 'Box Turtle' 'Chow' 'German Shepherd'\n",
      " 'Miniature Pinscher' 'Miniature Poodle' 'Redbone' 'Rhodesian Ridgeback'\n",
      " 'Shopping Cart' 'Welsh Springer Spaniel']\n"
     ]
    }
   ],
   "source": [
    "print(df_image_predictions_clean['p1'][:10].sort_values().unique())\n",
    "print(df_image_predictions_clean['p2'][:10].sort_values().unique())\n",
    "print(df_image_predictions_clean['p3'][:10].sort_values().unique())"
   ]
  },
  {
   "cell_type": "markdown",
   "metadata": {},
   "source": [
    "#### Unhelpful column names p1, p2 and p3.\n",
    "#### Define\n",
    "- Rename columns p1, p2 and p3 as prediction_1, prediction_2, prediction_3.\n",
    "\n",
    "#### Code"
   ]
  },
  {
   "cell_type": "code",
   "execution_count": 90,
   "metadata": {},
   "outputs": [],
   "source": [
    "df_image_predictions_clean.rename(columns={\"p1\": \"prediction_1\", \"p2\": \"prediction_2\", \"p3\": \"prediction_3\"}, inplace=True)"
   ]
  },
  {
   "cell_type": "markdown",
   "metadata": {},
   "source": [
    "#### Test"
   ]
  },
  {
   "cell_type": "code",
   "execution_count": 91,
   "metadata": {
    "scrolled": true
   },
   "outputs": [
    {
     "name": "stdout",
     "output_type": "stream",
     "text": [
      "<class 'pandas.core.frame.DataFrame'>\n",
      "RangeIndex: 2075 entries, 0 to 2074\n",
      "Data columns (total 12 columns):\n",
      "tweet_id        2075 non-null object\n",
      "jpg_url         2075 non-null object\n",
      "img_num         2075 non-null int64\n",
      "prediction_1    2075 non-null object\n",
      "p1_conf         2075 non-null float64\n",
      "p1_dog          2075 non-null bool\n",
      "prediction_2    2075 non-null object\n",
      "p2_conf         2075 non-null float64\n",
      "p2_dog          2075 non-null bool\n",
      "prediction_3    2075 non-null object\n",
      "p3_conf         2075 non-null float64\n",
      "p3_dog          2075 non-null bool\n",
      "dtypes: bool(3), float64(3), int64(1), object(5)\n",
      "memory usage: 152.1+ KB\n"
     ]
    }
   ],
   "source": [
    "df_image_predictions_clean.info()"
   ]
  },
  {
   "cell_type": "code",
   "execution_count": 92,
   "metadata": {},
   "outputs": [],
   "source": [
    "#Finally I will join predictions to the other datasets to make later analysis easier.\n",
    "all_data = pd.merge(df_tweets_clean, df_image_predictions_clean, \n",
    "                    on='tweet_id', how = 'inner')"
   ]
  },
  {
   "cell_type": "code",
   "execution_count": 93,
   "metadata": {},
   "outputs": [
    {
     "name": "stdout",
     "output_type": "stream",
     "text": [
      "<class 'pandas.core.frame.DataFrame'>\n",
      "Int64Index: 1990 entries, 0 to 1989\n",
      "Data columns (total 23 columns):\n",
      "tweet_id              1990 non-null object\n",
      "timestamp             1990 non-null datetime64[ns]\n",
      "source                1990 non-null object\n",
      "text                  1990 non-null object\n",
      "expanded_urls         1990 non-null object\n",
      "rating_numerator      1990 non-null int64\n",
      "rating_denominator    1990 non-null int64\n",
      "name                  1348 non-null object\n",
      "new_rating            1990 non-null float64\n",
      "dog_stage             306 non-null category\n",
      "retweet_count         1990 non-null int64\n",
      "favorite_count        1990 non-null int64\n",
      "jpg_url               1990 non-null object\n",
      "img_num               1990 non-null int64\n",
      "prediction_1          1990 non-null object\n",
      "p1_conf               1990 non-null float64\n",
      "p1_dog                1990 non-null bool\n",
      "prediction_2          1990 non-null object\n",
      "p2_conf               1990 non-null float64\n",
      "p2_dog                1990 non-null bool\n",
      "prediction_3          1990 non-null object\n",
      "p3_conf               1990 non-null float64\n",
      "p3_dog                1990 non-null bool\n",
      "dtypes: bool(3), category(1), datetime64[ns](1), float64(4), int64(5), object(9)\n",
      "memory usage: 319.1+ KB\n"
     ]
    }
   ],
   "source": [
    "all_data.info()"
   ]
  },
  {
   "cell_type": "markdown",
   "metadata": {},
   "source": [
    "\n",
    "\n",
    "### Step 4: Store, & Analyse and Visualise the wrangled data\n",
    "\n",
    "### Store"
   ]
  },
  {
   "cell_type": "code",
   "execution_count": null,
   "metadata": {},
   "outputs": [],
   "source": [
    "# code to display output in tables that I can copy to my report"
   ]
  },
  {
   "cell_type": "code",
   "execution_count": 94,
   "metadata": {},
   "outputs": [
    {
     "data": {
      "text/html": [
       "<style type=\"text/css\">\n",
       "    table.dataframe td, table.dataframe th {\n",
       "        border-style: solid;\n",
       "    }\n",
       "</style>"
      ],
      "text/plain": [
       "<IPython.core.display.HTML object>"
      ]
     },
     "metadata": {},
     "output_type": "display_data"
    }
   ],
   "source": [
    "%%HTML\n",
    "<style type=\"text/css\">\n",
    "    table.dataframe td, table.dataframe th {\n",
    "        border-style: solid;\n",
    "    }\n",
    "</style>"
   ]
  },
  {
   "cell_type": "code",
   "execution_count": 95,
   "metadata": {},
   "outputs": [],
   "source": [
    "# Write the dataframes out to csv file.\n",
    "# I have decided to write all the data to 1 file instead of 2 to aid with visualisations stage.\n",
    "#df_tweets_clean.to_csv('twitter_archive_master.csv', index=False)\n",
    "#df_image_predictions_clean.to_csv('twitter_image_predictions.csv', index=False)\n",
    "all_data.to_csv('twitter_archive_master.csv', index=False)"
   ]
  },
  {
   "cell_type": "code",
   "execution_count": 96,
   "metadata": {},
   "outputs": [],
   "source": [
    "# read data in\n",
    "#tweets= pd.read_csv('twitter_archive_master.csv')\n",
    "#predictions = pd.read_csv('twitter_image_predictions.csv')\n",
    "tweets = pd.read_csv('twitter_archive_master.csv')"
   ]
  },
  {
   "cell_type": "code",
   "execution_count": 97,
   "metadata": {},
   "outputs": [
    {
     "data": {
      "text/html": [
       "<div>\n",
       "<style scoped>\n",
       "    .dataframe tbody tr th:only-of-type {\n",
       "        vertical-align: middle;\n",
       "    }\n",
       "\n",
       "    .dataframe tbody tr th {\n",
       "        vertical-align: top;\n",
       "    }\n",
       "\n",
       "    .dataframe thead th {\n",
       "        text-align: right;\n",
       "    }\n",
       "</style>\n",
       "<table border=\"1\" class=\"dataframe\">\n",
       "  <thead>\n",
       "    <tr style=\"text-align: right;\">\n",
       "      <th></th>\n",
       "      <th>tweet_id</th>\n",
       "      <th>timestamp</th>\n",
       "      <th>source</th>\n",
       "      <th>text</th>\n",
       "      <th>expanded_urls</th>\n",
       "      <th>rating_numerator</th>\n",
       "      <th>rating_denominator</th>\n",
       "      <th>name</th>\n",
       "      <th>new_rating</th>\n",
       "      <th>dog_stage</th>\n",
       "      <th>...</th>\n",
       "      <th>img_num</th>\n",
       "      <th>prediction_1</th>\n",
       "      <th>p1_conf</th>\n",
       "      <th>p1_dog</th>\n",
       "      <th>prediction_2</th>\n",
       "      <th>p2_conf</th>\n",
       "      <th>p2_dog</th>\n",
       "      <th>prediction_3</th>\n",
       "      <th>p3_conf</th>\n",
       "      <th>p3_dog</th>\n",
       "    </tr>\n",
       "  </thead>\n",
       "  <tbody>\n",
       "    <tr>\n",
       "      <th>328</th>\n",
       "      <td>819588359383371776</td>\n",
       "      <td>2017-01-12 16:54:26</td>\n",
       "      <td>&lt;a href=\"http://twitter.com/download/iphone\" rel=\"nofollow\"&gt;Twitter for iPhone&lt;/a&gt;</td>\n",
       "      <td>This is Jazzy. She just found out that sandwich wasn't for her. Shocked and puppalled. 13/10 deep breaths Jazzy https://t.co/52cItP0vIO</td>\n",
       "      <td>https://twitter.com/dog_rates/status/819588359383371776/photo/1</td>\n",
       "      <td>13</td>\n",
       "      <td>10</td>\n",
       "      <td>Jazzy</td>\n",
       "      <td>1.3</td>\n",
       "      <td>NaN</td>\n",
       "      <td>...</td>\n",
       "      <td>1</td>\n",
       "      <td>Cardigan</td>\n",
       "      <td>0.547935</td>\n",
       "      <td>True</td>\n",
       "      <td>Cardigan</td>\n",
       "      <td>0.116442</td>\n",
       "      <td>True</td>\n",
       "      <td>Cardigan</td>\n",
       "      <td>0.101681</td>\n",
       "      <td>True</td>\n",
       "    </tr>\n",
       "  </tbody>\n",
       "</table>\n",
       "<p>1 rows × 23 columns</p>\n",
       "</div>"
      ],
      "text/plain": [
       "               tweet_id            timestamp  \\\n",
       "328  819588359383371776  2017-01-12 16:54:26   \n",
       "\n",
       "                                                                                 source  \\\n",
       "328  <a href=\"http://twitter.com/download/iphone\" rel=\"nofollow\">Twitter for iPhone</a>   \n",
       "\n",
       "                                                                                                                                        text  \\\n",
       "328  This is Jazzy. She just found out that sandwich wasn't for her. Shocked and puppalled. 13/10 deep breaths Jazzy https://t.co/52cItP0vIO   \n",
       "\n",
       "                                                       expanded_urls  \\\n",
       "328  https://twitter.com/dog_rates/status/819588359383371776/photo/1   \n",
       "\n",
       "     rating_numerator  rating_denominator   name  new_rating dog_stage  \\\n",
       "328                13                  10  Jazzy         1.3       NaN   \n",
       "\n",
       "      ...    img_num  prediction_1   p1_conf  p1_dog prediction_2   p2_conf  \\\n",
       "328   ...          1      Cardigan  0.547935    True     Cardigan  0.116442   \n",
       "\n",
       "     p2_dog prediction_3   p3_conf  p3_dog  \n",
       "328    True     Cardigan  0.101681    True  \n",
       "\n",
       "[1 rows x 23 columns]"
      ]
     },
     "execution_count": 97,
     "metadata": {},
     "output_type": "execute_result"
    }
   ],
   "source": [
    "#check the file\n",
    "tweets.sample()"
   ]
  },
  {
   "cell_type": "markdown",
   "metadata": {},
   "source": [
    "### Analyse and Visualise"
   ]
  },
  {
   "cell_type": "code",
   "execution_count": 98,
   "metadata": {},
   "outputs": [],
   "source": [
    "import matplotlib\n",
    "import matplotlib.pyplot as plt\n",
    "%matplotlib inline"
   ]
  },
  {
   "cell_type": "markdown",
   "metadata": {},
   "source": [
    "#### Dog Stage analysis\n",
    "- Explore the distribution of dog stage - which dog stage occurs most on we rate dogs?\n",
    "- Which dog stage gets the highest rating and highest favorite count? \n",
    "\n",
    "###### Note: dog stages are defined in the Dogtionary\n",
    "- doggo: A big pupper, usually older\n",
    "- pupper: A small doggo, usually younger\n",
    "- puppo: transitional phase between doggo and pupper\n",
    "- floofer: dog with excess fur."
   ]
  },
  {
   "cell_type": "code",
   "execution_count": 99,
   "metadata": {},
   "outputs": [],
   "source": [
    "# Only use the rows with a single dog stage recorded\n",
    "tweets2 = tweets.query('dog_stage == [\"doggo\",\"puppo\",\"pupper\",\"floofer\"]')"
   ]
  },
  {
   "cell_type": "code",
   "execution_count": 100,
   "metadata": {},
   "outputs": [
    {
     "data": {
      "image/png": "[encoded data removed]",
      "text/plain": [
       "<matplotlib.figure.Figure at 0x16d6e4248d0>"
      ]
     },
     "metadata": {},
     "output_type": "display_data"
    }
   ],
   "source": [
    "ax = tweets2['dog_stage'].value_counts().plot(kind='bar',\n",
    "                                    figsize=(6,4),\n",
    "                                    title=\"Distribution of Dog Stage on We Rate Dogs\")\n",
    "ax.set_xlabel(\"Dog Stage\")\n",
    "ax.set_ylabel(\"Frequency\");\n",
    "\n",
    "plt.tight_layout() # ensure x axis labels are not cut off jpg\n",
    "plt.savefig(\"dog_dist.jpg\") # save as jpg\n",
    "\n",
    "# Insight: Far more puppers in the sample of data."
   ]
  },
  {
   "cell_type": "code",
   "execution_count": 101,
   "metadata": {},
   "outputs": [
    {
     "data": {
      "text/html": [
       "<div>\n",
       "<style scoped>\n",
       "    .dataframe tbody tr th:only-of-type {\n",
       "        vertical-align: middle;\n",
       "    }\n",
       "\n",
       "    .dataframe tbody tr th {\n",
       "        vertical-align: top;\n",
       "    }\n",
       "\n",
       "    .dataframe thead th {\n",
       "        text-align: right;\n",
       "    }\n",
       "</style>\n",
       "<table border=\"1\" class=\"dataframe\">\n",
       "  <thead>\n",
       "    <tr style=\"text-align: right;\">\n",
       "      <th></th>\n",
       "      <th>count</th>\n",
       "      <th>mean</th>\n",
       "      <th>std</th>\n",
       "      <th>min</th>\n",
       "      <th>25%</th>\n",
       "      <th>50%</th>\n",
       "      <th>75%</th>\n",
       "      <th>max</th>\n",
       "    </tr>\n",
       "    <tr>\n",
       "      <th>dog_stage</th>\n",
       "      <th></th>\n",
       "      <th></th>\n",
       "      <th></th>\n",
       "      <th></th>\n",
       "      <th></th>\n",
       "      <th></th>\n",
       "      <th></th>\n",
       "      <th></th>\n",
       "    </tr>\n",
       "  </thead>\n",
       "  <tbody>\n",
       "    <tr>\n",
       "      <th>doggo</th>\n",
       "      <td>63.0</td>\n",
       "      <td>1.188889</td>\n",
       "      <td>0.147135</td>\n",
       "      <td>0.8</td>\n",
       "      <td>1.100</td>\n",
       "      <td>1.2</td>\n",
       "      <td>1.3</td>\n",
       "      <td>1.4</td>\n",
       "    </tr>\n",
       "    <tr>\n",
       "      <th>floofer</th>\n",
       "      <td>7.0</td>\n",
       "      <td>1.200000</td>\n",
       "      <td>0.115470</td>\n",
       "      <td>1.0</td>\n",
       "      <td>1.150</td>\n",
       "      <td>1.2</td>\n",
       "      <td>1.3</td>\n",
       "      <td>1.3</td>\n",
       "    </tr>\n",
       "    <tr>\n",
       "      <th>pupper</th>\n",
       "      <td>203.0</td>\n",
       "      <td>1.071429</td>\n",
       "      <td>0.207463</td>\n",
       "      <td>0.3</td>\n",
       "      <td>1.000</td>\n",
       "      <td>1.1</td>\n",
       "      <td>1.2</td>\n",
       "      <td>2.7</td>\n",
       "    </tr>\n",
       "    <tr>\n",
       "      <th>puppo</th>\n",
       "      <td>22.0</td>\n",
       "      <td>1.200000</td>\n",
       "      <td>0.130931</td>\n",
       "      <td>0.9</td>\n",
       "      <td>1.125</td>\n",
       "      <td>1.2</td>\n",
       "      <td>1.3</td>\n",
       "      <td>1.4</td>\n",
       "    </tr>\n",
       "  </tbody>\n",
       "</table>\n",
       "</div>"
      ],
      "text/plain": [
       "           count      mean       std  min    25%  50%  75%  max\n",
       "dog_stage                                                      \n",
       "doggo       63.0  1.188889  0.147135  0.8  1.100  1.2  1.3  1.4\n",
       "floofer      7.0  1.200000  0.115470  1.0  1.150  1.2  1.3  1.3\n",
       "pupper     203.0  1.071429  0.207463  0.3  1.000  1.1  1.2  2.7\n",
       "puppo       22.0  1.200000  0.130931  0.9  1.125  1.2  1.3  1.4"
      ]
     },
     "execution_count": 101,
     "metadata": {},
     "output_type": "execute_result"
    }
   ],
   "source": [
    "# analyse the rating of each dog stage\n",
    "tweets2.groupby('dog_stage')['new_rating'].describe()"
   ]
  },
  {
   "cell_type": "code",
   "execution_count": 102,
   "metadata": {},
   "outputs": [
    {
     "data": {
      "text/html": [
       "<div>\n",
       "<style scoped>\n",
       "    .dataframe tbody tr th:only-of-type {\n",
       "        vertical-align: middle;\n",
       "    }\n",
       "\n",
       "    .dataframe tbody tr th {\n",
       "        vertical-align: top;\n",
       "    }\n",
       "\n",
       "    .dataframe thead th {\n",
       "        text-align: right;\n",
       "    }\n",
       "</style>\n",
       "<table border=\"1\" class=\"dataframe\">\n",
       "  <thead>\n",
       "    <tr style=\"text-align: right;\">\n",
       "      <th></th>\n",
       "      <th>count</th>\n",
       "      <th>mean</th>\n",
       "      <th>std</th>\n",
       "      <th>min</th>\n",
       "      <th>25%</th>\n",
       "      <th>50%</th>\n",
       "      <th>75%</th>\n",
       "      <th>max</th>\n",
       "    </tr>\n",
       "    <tr>\n",
       "      <th>dog_stage</th>\n",
       "      <th></th>\n",
       "      <th></th>\n",
       "      <th></th>\n",
       "      <th></th>\n",
       "      <th></th>\n",
       "      <th></th>\n",
       "      <th></th>\n",
       "      <th></th>\n",
       "    </tr>\n",
       "  </thead>\n",
       "  <tbody>\n",
       "    <tr>\n",
       "      <th>doggo</th>\n",
       "      <td>63.0</td>\n",
       "      <td>20151.396825</td>\n",
       "      <td>27214.604220</td>\n",
       "      <td>2487.0</td>\n",
       "      <td>7965.00</td>\n",
       "      <td>11896.0</td>\n",
       "      <td>19829.0</td>\n",
       "      <td>165012.0</td>\n",
       "    </tr>\n",
       "    <tr>\n",
       "      <th>floofer</th>\n",
       "      <td>7.0</td>\n",
       "      <td>12731.428571</td>\n",
       "      <td>10875.334092</td>\n",
       "      <td>2181.0</td>\n",
       "      <td>4835.50</td>\n",
       "      <td>10845.0</td>\n",
       "      <td>17141.5</td>\n",
       "      <td>32140.0</td>\n",
       "    </tr>\n",
       "    <tr>\n",
       "      <th>pupper</th>\n",
       "      <td>203.0</td>\n",
       "      <td>7034.359606</td>\n",
       "      <td>11287.687390</td>\n",
       "      <td>665.0</td>\n",
       "      <td>2327.50</td>\n",
       "      <td>3127.0</td>\n",
       "      <td>7385.0</td>\n",
       "      <td>122542.0</td>\n",
       "    </tr>\n",
       "    <tr>\n",
       "      <th>puppo</th>\n",
       "      <td>22.0</td>\n",
       "      <td>21901.090909</td>\n",
       "      <td>29910.877964</td>\n",
       "      <td>3143.0</td>\n",
       "      <td>6778.25</td>\n",
       "      <td>12947.0</td>\n",
       "      <td>19081.0</td>\n",
       "      <td>141096.0</td>\n",
       "    </tr>\n",
       "  </tbody>\n",
       "</table>\n",
       "</div>"
      ],
      "text/plain": [
       "           count          mean           std     min      25%      50%  \\\n",
       "dog_stage                                                                \n",
       "doggo       63.0  20151.396825  27214.604220  2487.0  7965.00  11896.0   \n",
       "floofer      7.0  12731.428571  10875.334092  2181.0  4835.50  10845.0   \n",
       "pupper     203.0   7034.359606  11287.687390   665.0  2327.50   3127.0   \n",
       "puppo       22.0  21901.090909  29910.877964  3143.0  6778.25  12947.0   \n",
       "\n",
       "               75%       max  \n",
       "dog_stage                     \n",
       "doggo      19829.0  165012.0  \n",
       "floofer    17141.5   32140.0  \n",
       "pupper      7385.0  122542.0  \n",
       "puppo      19081.0  141096.0  "
      ]
     },
     "execution_count": 102,
     "metadata": {},
     "output_type": "execute_result"
    }
   ],
   "source": [
    "# analyse the favorite count of each dog stage\n",
    "tweets2.groupby('dog_stage')['favorite_count'].describe()"
   ]
  },
  {
   "cell_type": "code",
   "execution_count": 103,
   "metadata": {},
   "outputs": [
    {
     "data": {
      "text/html": [
       "<div>\n",
       "<style scoped>\n",
       "    .dataframe tbody tr th:only-of-type {\n",
       "        vertical-align: middle;\n",
       "    }\n",
       "\n",
       "    .dataframe tbody tr th {\n",
       "        vertical-align: top;\n",
       "    }\n",
       "\n",
       "    .dataframe thead th {\n",
       "        text-align: right;\n",
       "    }\n",
       "</style>\n",
       "<table border=\"1\" class=\"dataframe\">\n",
       "  <thead>\n",
       "    <tr style=\"text-align: right;\">\n",
       "      <th></th>\n",
       "      <th>count</th>\n",
       "      <th>mean</th>\n",
       "      <th>std</th>\n",
       "      <th>min</th>\n",
       "      <th>25%</th>\n",
       "      <th>50%</th>\n",
       "      <th>75%</th>\n",
       "      <th>max</th>\n",
       "    </tr>\n",
       "    <tr>\n",
       "      <th>dog_stage</th>\n",
       "      <th></th>\n",
       "      <th></th>\n",
       "      <th></th>\n",
       "      <th></th>\n",
       "      <th></th>\n",
       "      <th></th>\n",
       "      <th></th>\n",
       "      <th></th>\n",
       "    </tr>\n",
       "  </thead>\n",
       "  <tbody>\n",
       "    <tr>\n",
       "      <th>doggo</th>\n",
       "      <td>63.0</td>\n",
       "      <td>7110.079365</td>\n",
       "      <td>13781.607183</td>\n",
       "      <td>688.0</td>\n",
       "      <td>1917.0</td>\n",
       "      <td>3142.0</td>\n",
       "      <td>5181.0</td>\n",
       "      <td>84187.0</td>\n",
       "    </tr>\n",
       "    <tr>\n",
       "      <th>floofer</th>\n",
       "      <td>7.0</td>\n",
       "      <td>4713.714286</td>\n",
       "      <td>5835.703863</td>\n",
       "      <td>475.0</td>\n",
       "      <td>1740.0</td>\n",
       "      <td>3102.0</td>\n",
       "      <td>4209.0</td>\n",
       "      <td>17521.0</td>\n",
       "    </tr>\n",
       "    <tr>\n",
       "      <th>pupper</th>\n",
       "      <td>203.0</td>\n",
       "      <td>2263.359606</td>\n",
       "      <td>3589.416017</td>\n",
       "      <td>96.0</td>\n",
       "      <td>657.0</td>\n",
       "      <td>1139.0</td>\n",
       "      <td>2335.0</td>\n",
       "      <td>35679.0</td>\n",
       "    </tr>\n",
       "    <tr>\n",
       "      <th>puppo</th>\n",
       "      <td>22.0</td>\n",
       "      <td>6325.272727</td>\n",
       "      <td>10234.124482</td>\n",
       "      <td>671.0</td>\n",
       "      <td>1623.0</td>\n",
       "      <td>2968.5</td>\n",
       "      <td>5964.0</td>\n",
       "      <td>48018.0</td>\n",
       "    </tr>\n",
       "  </tbody>\n",
       "</table>\n",
       "</div>"
      ],
      "text/plain": [
       "           count         mean           std    min     25%     50%     75%  \\\n",
       "dog_stage                                                                    \n",
       "doggo       63.0  7110.079365  13781.607183  688.0  1917.0  3142.0  5181.0   \n",
       "floofer      7.0  4713.714286   5835.703863  475.0  1740.0  3102.0  4209.0   \n",
       "pupper     203.0  2263.359606   3589.416017   96.0   657.0  1139.0  2335.0   \n",
       "puppo       22.0  6325.272727  10234.124482  671.0  1623.0  2968.5  5964.0   \n",
       "\n",
       "               max  \n",
       "dog_stage           \n",
       "doggo      84187.0  \n",
       "floofer    17521.0  \n",
       "pupper     35679.0  \n",
       "puppo      48018.0  "
      ]
     },
     "execution_count": 103,
     "metadata": {},
     "output_type": "execute_result"
    }
   ],
   "source": [
    "# analyse the retweet count of each dog stage\n",
    "tweets2.groupby('dog_stage')['retweet_count'].describe()"
   ]
  },
  {
   "cell_type": "code",
   "execution_count": null,
   "metadata": {},
   "outputs": [],
   "source": [
    "# Insights: Puppers have the lowest ratings on average, but actually the highest \n",
    "# rating in the dataset was for a pupper.  \n",
    "# Puppers also account for the majority of the dogs.\n",
    "# Puppos have the highest ratings on average but there are fewer of them.\n",
    "\n",
    "# Puppers also have the lowest favorite count on average and puppos have the highest.\n",
    "# Doggos have the highest retweet count followed closely by puppos"
   ]
  },
  {
   "cell_type": "markdown",
   "metadata": {},
   "source": [
    "#### Explore the relationship between ratings and favourite count\n",
    "- Are they correlated and what is the strength and direction of the correlation? \n",
    "- Do higher rated dogs have have a higher favourite count? \n",
    "- Show the relationship in a visualisation."
   ]
  },
  {
   "cell_type": "code",
   "execution_count": 104,
   "metadata": {},
   "outputs": [
    {
     "data": {
      "text/plain": [
       "count    1990.000000\n",
       "mean        1.170352\n",
       "std         4.070596\n",
       "min         0.100000\n",
       "25%         1.000000\n",
       "50%         1.100000\n",
       "75%         1.200000\n",
       "max       177.600000\n",
       "Name: new_rating, dtype: float64"
      ]
     },
     "execution_count": 104,
     "metadata": {},
     "output_type": "execute_result"
    }
   ],
   "source": [
    "tweets.new_rating.describe()"
   ]
  },
  {
   "cell_type": "code",
   "execution_count": 105,
   "metadata": {},
   "outputs": [],
   "source": [
    "# There are some extreme ratings in the dataset.\n",
    "# I will remove these and retain only up to the 75th percentile."
   ]
  },
  {
   "cell_type": "code",
   "execution_count": 106,
   "metadata": {},
   "outputs": [
    {
     "data": {
      "text/plain": [
       "0.18988363699009694"
      ]
     },
     "execution_count": 106,
     "metadata": {},
     "output_type": "execute_result"
    }
   ],
   "source": [
    "tweets2 = tweets.query('new_rating <1.2')\n",
    "tweets2['new_rating'].corr(tweets['favorite_count'])\n",
    "# Insight: The correlation at 0.19 is not meaningful. "
   ]
  },
  {
   "cell_type": "code",
   "execution_count": 107,
   "metadata": {},
   "outputs": [
    {
     "data": {
      "image/png": "[encoded data removed]",
      "text/plain": [
       "<matplotlib.figure.Figure at 0x16d6e605e10>"
      ]
     },
     "metadata": {},
     "output_type": "display_data"
    }
   ],
   "source": [
    "tweets.query('new_rating <1.2').plot(x='new_rating', y='favorite_count', kind='scatter',\n",
    "                                    color='green', figsize=(5,3))\n",
    "plt.title('The relationship between ratings and favorite counts')\n",
    "plt.xlabel('Rating')\n",
    "plt.ylabel('Favorite Count')\n",
    "plt.tight_layout()\n",
    "plt.savefig(\"ratings_favorites.jpg\") # save as jpg\n",
    "plt.show();\n",
    "\n",
    "\n",
    "#correlation (0.19) but that the relationship is positive\n",
    "# Insight: The plot shows that there is a positive relationship - favorite counts increase \n",
    "# as ratings increase."
   ]
  },
  {
   "cell_type": "markdown",
   "metadata": {},
   "source": [
    "#### Explore the relationship between retweet count and favourite count\n",
    "- Are they correlated and what is the strength and direction of the correlation?\n",
    "- Are tweets that are retweeted more, tend to be favourited more?\n",
    "- Show the relationship in a visualisation."
   ]
  },
  {
   "cell_type": "code",
   "execution_count": 108,
   "metadata": {},
   "outputs": [
    {
     "data": {
      "text/plain": [
       "0.9277439234871706"
      ]
     },
     "execution_count": 108,
     "metadata": {},
     "output_type": "execute_result"
    }
   ],
   "source": [
    "tweets2 = tweets.query('new_rating <1.2')\n",
    "tweets2['retweet_count'].corr(tweets['favorite_count'])\n",
    "# Insight: Retweet Count and Favourite count have a high positive correlation of 0.93. "
   ]
  },
  {
   "cell_type": "code",
   "execution_count": 109,
   "metadata": {},
   "outputs": [
    {
     "data": {
      "image/png": "[encoded data removed]",
      "text/plain": [
       "<matplotlib.figure.Figure at 0x16d6e6054a8>"
      ]
     },
     "metadata": {},
     "output_type": "display_data"
    }
   ],
   "source": [
    "tweets.query('new_rating <1.2').plot(x='retweet_count', y='favorite_count', kind='scatter',\n",
    "                                    color='orange', figsize=(5,3))\n",
    "plt.title('The relationship between retweets and favorite counts')\n",
    "plt.xlabel('Retweet Count')\n",
    "plt.ylabel('Favorite Count')\n",
    "plt.tight_layout()\n",
    "plt.savefig(\"retweets_favorites.jpg\") # save as jpg\n",
    "plt.show();\n",
    "\n",
    "# Insight: The plot shows that there is a positive relationship - favorite counts increase \n",
    "# as retweets increase which is to be expected."
   ]
  },
  {
   "cell_type": "markdown",
   "metadata": {},
   "source": [
    "#### Dog breed analysis\n",
    "- What are the 10 most common breeds on we rate dogs?\n",
    "- Which breeds are retweeted most?\n",
    "- Which breeds have the highest confidence levels? "
   ]
  },
  {
   "cell_type": "code",
   "execution_count": 110,
   "metadata": {},
   "outputs": [
    {
     "data": {
      "text/plain": [
       "prediction_1\n",
       "Golden Retriever      138\n",
       "Labrador Retriever     95\n",
       "Pembroke               88\n",
       "Chihuahua              79\n",
       "Pug                    54\n",
       "Chow                   41\n",
       "Samoyed                40\n",
       "Toy Poodle             38\n",
       "Pomeranian             38\n",
       "Malamute               29\n",
       "dtype: int64"
      ]
     },
     "execution_count": 110,
     "metadata": {},
     "output_type": "execute_result"
    }
   ],
   "source": [
    "# print 10 most common breeds\n",
    "top_breeds = all_data.groupby('prediction_1').size().sort_values(ascending=False).head(10)\n",
    "top_breeds"
   ]
  },
  {
   "cell_type": "code",
   "execution_count": 111,
   "metadata": {},
   "outputs": [],
   "source": [
    "# get top 10 in a list to use to query dataframe\n",
    "breed_list = list(top_breeds.index)"
   ]
  },
  {
   "cell_type": "code",
   "execution_count": 112,
   "metadata": {},
   "outputs": [],
   "source": [
    "#create dataframe just consisting of 10 most common breeds. \n",
    "# @ allows me to refer to variable in the query string.\n",
    "top_breeds_df = all_data.query('prediction_1 == @breed_list')"
   ]
  },
  {
   "cell_type": "code",
   "execution_count": 113,
   "metadata": {},
   "outputs": [
    {
     "data": {
      "image/png": "[encoded data removed]",
      "text/plain": [
       "<matplotlib.figure.Figure at 0x16d6e605860>"
      ]
     },
     "metadata": {},
     "output_type": "display_data"
    }
   ],
   "source": [
    "# Now plot the distribution of the top 10 breeds\n",
    "ax = top_breeds_df['prediction_1'].value_counts().plot(kind='bar',\n",
    "                                    figsize=(5,5),\n",
    "                                    title=\"10 most common breeds on We Rate Dogs\")\n",
    "ax.set_xlabel(\"Breed\")\n",
    "ax.set_ylabel(\"Frequency\");\n",
    "plt.tight_layout()\n",
    "plt.savefig(\"top_breeds.jpg\") # save as jpg"
   ]
  },
  {
   "cell_type": "code",
   "execution_count": null,
   "metadata": {},
   "outputs": [],
   "source": [
    "# Insight: Retrievers are most common breed on We Rate Dogs.  \n",
    "# True they are a common breed. But is it that they are most easy to classify?\n",
    "\n",
    "# Now which breeds get the highest retweets?"
   ]
  },
  {
   "cell_type": "code",
   "execution_count": 114,
   "metadata": {},
   "outputs": [
    {
     "data": {
      "text/plain": [
       "prediction_1\n",
       "Standard Poodle            6321.714286\n",
       "English Springer           5692.666667\n",
       "Afghan Hound               5673.333333\n",
       "Eskimo Dog                 5219.222222\n",
       "Saluki                     4875.500000\n",
       "French Bulldog             4639.640000\n",
       "Great Pyrenees             4472.857143\n",
       "Lakeland Terrier           4390.437500\n",
       "Samoyed                    4374.250000\n",
       "Cardigan                   4306.470588\n",
       "Flat-Coated Retriever      4305.875000\n",
       "Irish Water Spaniel        4273.333333\n",
       "Tibetan Mastiff            3970.250000\n",
       "Black-And-Tan Coonhound    3928.000000\n",
       "Labrador Retriever         3749.168421\n",
       "Mexican Hairless           3678.000000\n",
       "Leonberg                   3661.000000\n",
       "Giant Schnauzer            3632.333333\n",
       "Cocker Spaniel             3536.740741\n",
       "Golden Retriever           3490.572464\n",
       "Name: retweet_count, dtype: float64"
      ]
     },
     "execution_count": 114,
     "metadata": {},
     "output_type": "execute_result"
    }
   ],
   "source": [
    "# first ensure the predictions are valid dog breeds\n",
    "dog_predictions = all_data.query('p1_dog == True')\n",
    "# Now get the 10 breeds with the highest average number of retweets\n",
    "top_retweets = dog_predictions.groupby('prediction_1')['retweet_count'] \\\n",
    "    .mean().sort_values(ascending=False).head(20)\n",
    "top_retweets"
   ]
  },
  {
   "cell_type": "code",
   "execution_count": 115,
   "metadata": {},
   "outputs": [
    {
     "data": {
      "image/png": "[encoded data removed]",
      "text/plain": [
       "<matplotlib.figure.Figure at 0x16d6e912208>"
      ]
     },
     "metadata": {},
     "output_type": "display_data"
    }
   ],
   "source": [
    "top_retweets.plot(kind='bar',figsize=(5,5))\n",
    "plt.title('Most retweeted breeds on We Rate Dogs')\n",
    "plt.xlabel('Breed')\n",
    "plt.ylabel('Retweets')\n",
    "plt.tight_layout()\n",
    "plt.savefig(\"most_retweeted.jpg\") # save as jpg\n",
    "plt.show();"
   ]
  },
  {
   "cell_type": "code",
   "execution_count": 116,
   "metadata": {},
   "outputs": [
    {
     "data": {
      "text/plain": [
       "prediction_1\n",
       "Saluki                     23326.500000\n",
       "French Bulldog             18410.840000\n",
       "Afghan Hound               16652.000000\n",
       "Black-And-Tan Coonhound    16438.500000\n",
       "Flat-Coated Retriever      16236.750000\n",
       "Irish Water Spaniel        15794.000000\n",
       "Standard Poodle            15265.857143\n",
       "English Springer           15145.333333\n",
       "Cardigan                   14759.588235\n",
       "Leonberg                   14376.666667\n",
       "Eskimo Dog                 14322.222222\n",
       "Basset                     13407.230769\n",
       "Lakeland Terrier           13299.937500\n",
       "Border Terrier             13117.000000\n",
       "Samoyed                    13096.100000\n",
       "Bedlington Terrier         12566.400000\n",
       "Great Pyrenees             12431.142857\n",
       "Mexican Hairless           12230.500000\n",
       "Golden Retriever           12010.297101\n",
       "Giant Schnauzer            11961.666667\n",
       "Name: favorite_count, dtype: float64"
      ]
     },
     "execution_count": 116,
     "metadata": {},
     "output_type": "execute_result"
    }
   ],
   "source": [
    "# Poodles have the highest number of retweets.\n",
    "\n",
    "# And which breeds get the highest favourite counts?\n",
    "top_faves = dog_predictions.groupby('prediction_1')['favorite_count'] \\\n",
    "    .mean().sort_values(ascending=False).head(20)\n",
    "top_faves"
   ]
  },
  {
   "cell_type": "code",
   "execution_count": 117,
   "metadata": {},
   "outputs": [
    {
     "data": {
      "image/png": "[encoded data removed]",
      "text/plain": [
       "<matplotlib.figure.Figure at 0x16d6e9ebb00>"
      ]
     },
     "metadata": {},
     "output_type": "display_data"
    }
   ],
   "source": [
    "top_faves.plot(kind='bar', figsize=(5,5))\n",
    "plt.title('Most favorited breeds on We Rate Dogs')\n",
    "plt.xlabel('Breed')\n",
    "plt.ylabel('Favorites')\n",
    "plt.tight_layout()\n",
    "plt.savefig(\"most_favorited.jpg\") # save as jpg\n",
    "plt.show();"
   ]
  },
  {
   "cell_type": "code",
   "execution_count": null,
   "metadata": {},
   "outputs": [],
   "source": [
    "# Salukis have the highest favorite counts.\n",
    "\n",
    "# Explore the relationship between confidence levels and predictions.\n",
    "# Do neural networks find it easier to predict certain breeds?\n",
    "# Get the top highest confidence rows from predictions.\n",
    "# Plot against prediction column"
   ]
  },
  {
   "cell_type": "code",
   "execution_count": 118,
   "metadata": {},
   "outputs": [],
   "source": [
    "# get the highest and lowest confidence predictions \n",
    "top_conf = dog_predictions.groupby('prediction_1')['p1_conf']. \\\n",
    "    mean().sort_values(ascending=False).head(10)\n",
    "low_conf = dog_predictions.groupby('prediction_1')['p1_conf']. \\\n",
    "    mean().sort_values(ascending=True).head(10)"
   ]
  },
  {
   "cell_type": "code",
   "execution_count": 119,
   "metadata": {},
   "outputs": [
    {
     "data": {
      "image/png": "[encoded data removed]",
      "text/plain": [
       "<matplotlib.figure.Figure at 0x16d6ea2de80>"
      ]
     },
     "metadata": {},
     "output_type": "display_data"
    }
   ],
   "source": [
    "#Plot highest confidence\n",
    "top_conf.plot(kind='bar', figsize=(5,5))\n",
    "plt.title('Highest confidence breed predictions on We Rate Dogs')\n",
    "plt.xlabel('Breed')\n",
    "plt.ylabel('Confidence')\n",
    "plt.tight_layout()\n",
    "plt.savefig(\"high_conf.jpg\") # save as jpg\n",
    "plt.show();"
   ]
  },
  {
   "cell_type": "code",
   "execution_count": 120,
   "metadata": {},
   "outputs": [
    {
     "data": {
      "image/png": "[encoded data removed]",
      "text/plain": [
       "<matplotlib.figure.Figure at 0x16d6ea50518>"
      ]
     },
     "metadata": {},
     "output_type": "display_data"
    }
   ],
   "source": [
    "#Plot lowest confidence\n",
    "low_conf.plot(kind='bar', figsize=(5,5))\n",
    "plt.title('Lowest confidence breed predictions on We Rate Dogs')\n",
    "plt.xlabel('Breed')\n",
    "plt.ylabel('Confidence')\n",
    "plt.tight_layout()\n",
    "plt.savefig(\"low_conf.jpg\") # save as jpg\n",
    "plt.show();"
   ]
  },
  {
   "cell_type": "code",
   "execution_count": null,
   "metadata": {},
   "outputs": [],
   "source": [
    "#The komondor has the highest confidence rate, followed by the clumber.  I wonder if all these\n",
    "#breeds are distinctive.\n",
    "#The Scottish deerhound has the lowest confidence, followed by the Cairn.  Interesting that \n",
    "#the neural net algorith does not have a high confidence for terriers in general - I wonder if this\n",
    "#is because there are many different terriers so it could be difficult to distinguish between them.\n",
    "\n",
    "# Let's look at them."
   ]
  },
  {
   "cell_type": "code",
   "execution_count": 121,
   "metadata": {},
   "outputs": [
    {
     "data": {
      "text/html": [
       "<div>\n",
       "<style scoped>\n",
       "    .dataframe tbody tr th:only-of-type {\n",
       "        vertical-align: middle;\n",
       "    }\n",
       "\n",
       "    .dataframe tbody tr th {\n",
       "        vertical-align: top;\n",
       "    }\n",
       "\n",
       "    .dataframe thead th {\n",
       "        text-align: right;\n",
       "    }\n",
       "</style>\n",
       "<table border=\"1\" class=\"dataframe\">\n",
       "  <thead>\n",
       "    <tr style=\"text-align: right;\">\n",
       "      <th></th>\n",
       "      <th>name</th>\n",
       "      <th>jpg_url</th>\n",
       "    </tr>\n",
       "  </thead>\n",
       "  <tbody>\n",
       "    <tr>\n",
       "      <th>89</th>\n",
       "      <td>Napolean</td>\n",
       "      <td>https://pbs.twimg.com/media/DBg_HT9WAAEeIMM.jpg</td>\n",
       "    </tr>\n",
       "    <tr>\n",
       "      <th>474</th>\n",
       "      <td>Remus</td>\n",
       "      <td>https://pbs.twimg.com/media/Cv3tU38WcAASFas.jpg</td>\n",
       "    </tr>\n",
       "    <tr>\n",
       "      <th>1842</th>\n",
       "      <td>NaN</td>\n",
       "      <td>https://pbs.twimg.com/media/CUd5gBGWwAA0IVA.jpg</td>\n",
       "    </tr>\n",
       "  </tbody>\n",
       "</table>\n",
       "</div>"
      ],
      "text/plain": [
       "          name                                          jpg_url\n",
       "89    Napolean  https://pbs.twimg.com/media/DBg_HT9WAAEeIMM.jpg\n",
       "474      Remus  https://pbs.twimg.com/media/Cv3tU38WcAASFas.jpg\n",
       "1842       NaN  https://pbs.twimg.com/media/CUd5gBGWwAA0IVA.jpg"
      ]
     },
     "execution_count": 121,
     "metadata": {},
     "output_type": "execute_result"
    }
   ],
   "source": [
    "all_data[(all_data['prediction_1'] == 'Komondor')][['name','jpg_url']]"
   ]
  },
  {
   "cell_type": "code",
   "execution_count": 122,
   "metadata": {},
   "outputs": [
    {
     "data": {
      "text/html": [
       "<div>\n",
       "<style scoped>\n",
       "    .dataframe tbody tr th:only-of-type {\n",
       "        vertical-align: middle;\n",
       "    }\n",
       "\n",
       "    .dataframe tbody tr th {\n",
       "        vertical-align: top;\n",
       "    }\n",
       "\n",
       "    .dataframe thead th {\n",
       "        text-align: right;\n",
       "    }\n",
       "</style>\n",
       "<table border=\"1\" class=\"dataframe\">\n",
       "  <thead>\n",
       "    <tr style=\"text-align: right;\">\n",
       "      <th></th>\n",
       "      <th>name</th>\n",
       "      <th>jpg_url</th>\n",
       "    </tr>\n",
       "  </thead>\n",
       "  <tbody>\n",
       "    <tr>\n",
       "      <th>551</th>\n",
       "      <td>Sophie</td>\n",
       "      <td>https://pbs.twimg.com/media/Cswbc2yWcAAVsCJ.jpg</td>\n",
       "    </tr>\n",
       "  </tbody>\n",
       "</table>\n",
       "</div>"
      ],
      "text/plain": [
       "       name                                          jpg_url\n",
       "551  Sophie  https://pbs.twimg.com/media/Cswbc2yWcAAVsCJ.jpg"
      ]
     },
     "execution_count": 122,
     "metadata": {},
     "output_type": "execute_result"
    }
   ],
   "source": [
    "all_data[(all_data['prediction_1'] == 'Clumber')][['name','jpg_url']]"
   ]
  },
  {
   "cell_type": "code",
   "execution_count": 123,
   "metadata": {},
   "outputs": [
    {
     "data": {
      "text/html": [
       "<div>\n",
       "<style scoped>\n",
       "    .dataframe tbody tr th:only-of-type {\n",
       "        vertical-align: middle;\n",
       "    }\n",
       "\n",
       "    .dataframe tbody tr th {\n",
       "        vertical-align: top;\n",
       "    }\n",
       "\n",
       "    .dataframe thead th {\n",
       "        text-align: right;\n",
       "    }\n",
       "</style>\n",
       "<table border=\"1\" class=\"dataframe\">\n",
       "  <thead>\n",
       "    <tr style=\"text-align: right;\">\n",
       "      <th></th>\n",
       "      <th>name</th>\n",
       "      <th>jpg_url</th>\n",
       "    </tr>\n",
       "  </thead>\n",
       "  <tbody>\n",
       "    <tr>\n",
       "      <th>1160</th>\n",
       "      <td>Freddery</td>\n",
       "      <td>https://pbs.twimg.com/media/CaBP7i9W0AAJrIs.jpg</td>\n",
       "    </tr>\n",
       "    <tr>\n",
       "      <th>1402</th>\n",
       "      <td>Louis</td>\n",
       "      <td>https://pbs.twimg.com/media/CWzDWOkXAAAP0k7.jpg</td>\n",
       "    </tr>\n",
       "    <tr>\n",
       "      <th>1503</th>\n",
       "      <td>NaN</td>\n",
       "      <td>https://pbs.twimg.com/media/CV_r3v4VAAALvwg.jpg</td>\n",
       "    </tr>\n",
       "  </tbody>\n",
       "</table>\n",
       "</div>"
      ],
      "text/plain": [
       "          name                                          jpg_url\n",
       "1160  Freddery  https://pbs.twimg.com/media/CaBP7i9W0AAJrIs.jpg\n",
       "1402     Louis  https://pbs.twimg.com/media/CWzDWOkXAAAP0k7.jpg\n",
       "1503       NaN  https://pbs.twimg.com/media/CV_r3v4VAAALvwg.jpg"
      ]
     },
     "execution_count": 123,
     "metadata": {},
     "output_type": "execute_result"
    }
   ],
   "source": [
    "all_data[(all_data['prediction_1'] == 'Scottish Deerhound')][['name','jpg_url']]"
   ]
  },
  {
   "cell_type": "code",
   "execution_count": 124,
   "metadata": {},
   "outputs": [
    {
     "data": {
      "text/html": [
       "<div>\n",
       "<style scoped>\n",
       "    .dataframe tbody tr th:only-of-type {\n",
       "        vertical-align: middle;\n",
       "    }\n",
       "\n",
       "    .dataframe tbody tr th {\n",
       "        vertical-align: top;\n",
       "    }\n",
       "\n",
       "    .dataframe thead th {\n",
       "        text-align: right;\n",
       "    }\n",
       "</style>\n",
       "<table border=\"1\" class=\"dataframe\">\n",
       "  <thead>\n",
       "    <tr style=\"text-align: right;\">\n",
       "      <th></th>\n",
       "      <th>name</th>\n",
       "      <th>jpg_url</th>\n",
       "    </tr>\n",
       "  </thead>\n",
       "  <tbody>\n",
       "    <tr>\n",
       "      <th>304</th>\n",
       "      <td>Winston</td>\n",
       "      <td>https://pbs.twimg.com/media/C25d3nkXEAAFBUN.jpg</td>\n",
       "    </tr>\n",
       "    <tr>\n",
       "      <th>1100</th>\n",
       "      <td>Calbert</td>\n",
       "      <td>https://pbs.twimg.com/media/CbSqE0rVIAEOPE4.jpg</td>\n",
       "    </tr>\n",
       "    <tr>\n",
       "      <th>1766</th>\n",
       "      <td>Butters</td>\n",
       "      <td>https://pbs.twimg.com/media/CU2FsRnVAAA3TEg.jpg</td>\n",
       "    </tr>\n",
       "  </tbody>\n",
       "</table>\n",
       "</div>"
      ],
      "text/plain": [
       "         name                                          jpg_url\n",
       "304   Winston  https://pbs.twimg.com/media/C25d3nkXEAAFBUN.jpg\n",
       "1100  Calbert  https://pbs.twimg.com/media/CbSqE0rVIAEOPE4.jpg\n",
       "1766  Butters  https://pbs.twimg.com/media/CU2FsRnVAAA3TEg.jpg"
      ]
     },
     "execution_count": 124,
     "metadata": {},
     "output_type": "execute_result"
    }
   ],
   "source": [
    "all_data[(all_data['prediction_1'] == 'Cairn')][['name','jpg_url']]"
   ]
  },
  {
   "cell_type": "markdown",
   "metadata": {},
   "source": [
    "### References\n",
    "-  https://stackabuse.com/reading-and-writing-json-to-a-file-in-python/\n",
    "\n",
    "- YouTube: Python Quick Tip: Hiding Passwords and Secret Keys in Environment Variables (Windows) by Corey Schafer.\n"
   ]
  }
 ],
 "metadata": {
  "kernelspec": {
   "display_name": "Python 3",
   "language": "python",
   "name": "python3"
  },
  "language_info": {
   "codemirror_mode": {
    "name": "ipython",
    "version": 3
   },
   "file_extension": ".py",
   "mimetype": "text/x-python",
   "name": "python",
   "nbconvert_exporter": "python",
   "pygments_lexer": "ipython3",
   "version": "3.6.4"
  }
 },
 "nbformat": 4,
 "nbformat_minor": 2
}
